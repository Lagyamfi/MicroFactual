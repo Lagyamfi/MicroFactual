{
 "cells": [
  {
   "cell_type": "code",
   "execution_count": 1,
   "id": "88de76c6",
   "metadata": {},
   "outputs": [],
   "source": [
    "import dice_ml\n",
    "from dice_ml.utils import helpers # helper functions\n",
    "from sklearn.model_selection import train_test_split\n",
    "from sklearn.linear_model import LogisticRegression\n",
    "from microbiome_ml.data_processing import load_data, filter_data, clr_transform\n",
    "from microbiome_ml.modeling import train_model"
   ]
  },
  {
   "cell_type": "code",
   "execution_count": 2,
   "id": "2a9fa344",
   "metadata": {},
   "outputs": [],
   "source": [
    "abundance_path = \"../Dataset/abundance_crc.txt\"\n",
    "metadata_path = \"../Dataset/metadata_crc.txt\"\n",
    "target_column = \"Group\"\n",
    "abundance, labels = load_data(abundance_file=abundance_path, metadata_file=metadata_path, target_column=target_column)\n",
    "filtered_data = filter_data(abundance)\n",
    "clr_data = clr_transform(filtered_data)"
   ]
  },
  {
   "cell_type": "code",
   "execution_count": 3,
   "id": "49583711",
   "metadata": {},
   "outputs": [],
   "source": [
    "model = train_model(clr_data, labels, n_jobs=1)\n",
    "clr_data['target'] = labels.values\n",
    "dataset = clr_data\n",
    "target = dataset['target']\n",
    "train_dataset, test_dataset, _, _ = train_test_split(dataset,\n",
    "                                                     target,\n",
    "                                                     test_size=0.2,\n",
    "                                                     random_state=0,\n",
    "                                                     stratify=target)\n",
    "# model = LogisticRegression()\n",
    "# model.fit(train_dataset.drop(columns=\"target\"), train_dataset[\"target\"])\n",
    "\n",
    "# Dataset for training an ML model\n",
    "d = dice_ml.Data(dataframe=train_dataset,\n",
    "                 continuous_features=dataset.columns[:-1].tolist(),\n",
    "                 outcome_name='target')\n"
   ]
  },
  {
   "cell_type": "code",
   "execution_count": 4,
   "id": "e4ce1ee0",
   "metadata": {},
   "outputs": [
    {
     "name": "stderr",
     "output_type": "stream",
     "text": [
      "  0%|          | 0/1 [00:00<?, ?it/s]"
     ]
    },
    {
     "name": "stdout",
     "output_type": "stream",
     "text": [
      "Initializing initial parameters to the genetic algorithm...\n",
      "Initialization complete! Generating counterfactuals...\n"
     ]
    },
    {
     "name": "stderr",
     "output_type": "stream",
     "text": [
      "100%|██████████| 1/1 [00:00<00:00,  2.46it/s]"
     ]
    },
    {
     "name": "stdout",
     "output_type": "stream",
     "text": [
      "Diverse Counterfactuals found! total time taken: 00 min 00 sec\n",
      "Query instance (original outcome : 1)\n"
     ]
    },
    {
     "name": "stderr",
     "output_type": "stream",
     "text": [
      "\n"
     ]
    },
    {
     "data": {
      "application/vnd.microsoft.datawrangler.viewer.v0+json": {
       "columns": [
        {
         "name": "index",
         "rawType": "int64",
         "type": "integer"
        },
        {
         "name": "Victivallis vadensis [1000]",
         "rawType": "float32",
         "type": "float"
        },
        {
         "name": "Akkermansia muciniphila [1008]",
         "rawType": "float32",
         "type": "float"
        },
        {
         "name": "Alistipes shahii [1052]",
         "rawType": "float32",
         "type": "float"
        },
        {
         "name": "unnamed Alistipes sp. HGB5 [1053]",
         "rawType": "float32",
         "type": "float"
        },
        {
         "name": "Alistipes putredinis [1054]",
         "rawType": "float32",
         "type": "float"
        },
        {
         "name": "Porphyromonas asaccharolytica [1056]",
         "rawType": "float32",
         "type": "float"
        },
        {
         "name": "Porphyromonas uenonis [1057]",
         "rawType": "float32",
         "type": "float"
        },
        {
         "name": "Prevotella buccalis [1059]",
         "rawType": "float32",
         "type": "float"
        },
        {
         "name": "Prevotella buccae [1065]",
         "rawType": "float32",
         "type": "float"
        },
        {
         "name": "Prevotella dentalis [1067]",
         "rawType": "float32",
         "type": "float"
        },
        {
         "name": "Prevotella nigrescens [1069]",
         "rawType": "float32",
         "type": "float"
        },
        {
         "name": "Prevotella disiens [1071]",
         "rawType": "float32",
         "type": "float"
        },
        {
         "name": "Prevotella denticola [1072]",
         "rawType": "float32",
         "type": "float"
        },
        {
         "name": "Prevotella multiformis [1073]",
         "rawType": "float32",
         "type": "float"
        },
        {
         "name": "Prevotella bivia [1076]",
         "rawType": "float32",
         "type": "float"
        },
        {
         "name": "Prevotella copri [1081]",
         "rawType": "float32",
         "type": "float"
        },
        {
         "name": "unnamed Capnocytophaga sp. oral taxon 329 [1086]",
         "rawType": "float32",
         "type": "float"
        },
        {
         "name": "Paraprevotella xylaniphila [1087]",
         "rawType": "float32",
         "type": "float"
        },
        {
         "name": "Parabacteroides distasonis [1088]",
         "rawType": "float32",
         "type": "float"
        },
        {
         "name": "Parabacteroides merdae [1089]",
         "rawType": "float32",
         "type": "float"
        },
        {
         "name": "Bacteroides fragilis [1090]",
         "rawType": "float32",
         "type": "float"
        },
        {
         "name": "Bacteroides fragilis [1091]",
         "rawType": "float32",
         "type": "float"
        },
        {
         "name": "Bacteroides thetaiotaomicron [1092]",
         "rawType": "float32",
         "type": "float"
        },
        {
         "name": "Bacteroides xylanisolvens [1093]",
         "rawType": "float32",
         "type": "float"
        },
        {
         "name": "Bacteroides ovatus [1094]",
         "rawType": "float32",
         "type": "float"
        },
        {
         "name": "Bacteroides finegoldii [1095]",
         "rawType": "float32",
         "type": "float"
        },
        {
         "name": "Bacteroides caccae [1096]",
         "rawType": "float32",
         "type": "float"
        },
        {
         "name": "Bacteroides eggerthii [1097]",
         "rawType": "float32",
         "type": "float"
        },
        {
         "name": "Bacteroides stercoris [1098]",
         "rawType": "float32",
         "type": "float"
        },
        {
         "name": "Bacteroides clarus [1099]",
         "rawType": "float32",
         "type": "float"
        },
        {
         "name": "Bacteroides uniformis [1100]",
         "rawType": "float32",
         "type": "float"
        },
        {
         "name": "Bacteroides fluxus [1101]",
         "rawType": "float32",
         "type": "float"
        },
        {
         "name": "Bacteroides intestinalis [1103]",
         "rawType": "float32",
         "type": "float"
        },
        {
         "name": "Bacteroides dorei/vulgatus [1104]",
         "rawType": "float32",
         "type": "float"
        },
        {
         "name": "Bacteroides plebeius [1105]",
         "rawType": "float32",
         "type": "float"
        },
        {
         "name": "Bacteroides coprophilus [1106]",
         "rawType": "float32",
         "type": "float"
        },
        {
         "name": "Bacteroides coprocola [1107]",
         "rawType": "float32",
         "type": "float"
        },
        {
         "name": "Bacteroides salanitronis [1108]",
         "rawType": "float32",
         "type": "float"
        },
        {
         "name": "Prevotella tannerae [1112]",
         "rawType": "float32",
         "type": "float"
        },
        {
         "name": "Odoribacter splanchnicus [1115]",
         "rawType": "float32",
         "type": "float"
        },
        {
         "name": "Dialister invisus [1259]",
         "rawType": "float32",
         "type": "float"
        },
        {
         "name": "Veillonella atypica [1260]",
         "rawType": "float32",
         "type": "float"
        },
        {
         "name": "Veillonella parvula [1261]",
         "rawType": "float32",
         "type": "float"
        },
        {
         "name": "Veillonella dispar [1262]",
         "rawType": "float32",
         "type": "float"
        },
        {
         "name": "unnamed Veillonella sp. oral taxon 158 [1263]",
         "rawType": "float32",
         "type": "float"
        },
        {
         "name": "Megasphaera elsdenii [1267]",
         "rawType": "float32",
         "type": "float"
        },
        {
         "name": "Megasphaera micronuciformis [1268]",
         "rawType": "float32",
         "type": "float"
        },
        {
         "name": "Clostridium ramosum [1269]",
         "rawType": "float32",
         "type": "float"
        },
        {
         "name": "Clostridium spiroforme [1270]",
         "rawType": "float32",
         "type": "float"
        },
        {
         "name": "unnamed Coprobacillus sp. 29_1 [1271]",
         "rawType": "float32",
         "type": "float"
        },
        {
         "name": "Bulleidia extructa [1272]",
         "rawType": "float32",
         "type": "float"
        },
        {
         "name": "Solobacterium moorei [1273]",
         "rawType": "float32",
         "type": "float"
        },
        {
         "name": "Eubacterium biforme [1275]",
         "rawType": "float32",
         "type": "float"
        },
        {
         "name": "Eubacterium cylindroides [1276]",
         "rawType": "float32",
         "type": "float"
        },
        {
         "name": "unnamed Erysipelotrichaceae bacterium 3_1_53 [1277]",
         "rawType": "float32",
         "type": "float"
        },
        {
         "name": "unnamed Clostridium sp. HGF2 [1278]",
         "rawType": "float32",
         "type": "float"
        },
        {
         "name": "unnamed Erysipelotrichaceae bacterium 5_2_54FAA [1279]",
         "rawType": "float32",
         "type": "float"
        },
        {
         "name": "Eubacterium dolichum [1280]",
         "rawType": "float32",
         "type": "float"
        },
        {
         "name": "Holdemania filiformis [1281]",
         "rawType": "float32",
         "type": "float"
        },
        {
         "name": "Turicibacter sanguinis [1297]",
         "rawType": "float32",
         "type": "float"
        },
        {
         "name": "Gemella haemolysans [1299]",
         "rawType": "float32",
         "type": "float"
        },
        {
         "name": "Gemella haemolysans [1300]",
         "rawType": "float32",
         "type": "float"
        },
        {
         "name": "Gemella sanguinis [1301]",
         "rawType": "float32",
         "type": "float"
        },
        {
         "name": "Gemella morbillorum [1302]",
         "rawType": "float32",
         "type": "float"
        },
        {
         "name": "Staphylococcus aureus [1305]",
         "rawType": "float32",
         "type": "float"
        },
        {
         "name": "Granulicatella elegans [1357]",
         "rawType": "float32",
         "type": "float"
        },
        {
         "name": "Granulicatella adiacens [1358]",
         "rawType": "float32",
         "type": "float"
        },
        {
         "name": "Enterococcus casseliflavus [1361]",
         "rawType": "float32",
         "type": "float"
        },
        {
         "name": "Enterococcus gallinarum [1362]",
         "rawType": "float32",
         "type": "float"
        },
        {
         "name": "Enterococcus faecalis [1363]",
         "rawType": "float32",
         "type": "float"
        },
        {
         "name": "Enterococcus faecium [1364]",
         "rawType": "float32",
         "type": "float"
        },
        {
         "name": "Lactococcus garvieae [1368]",
         "rawType": "float32",
         "type": "float"
        },
        {
         "name": "Lactococcus lactis [1369]",
         "rawType": "float32",
         "type": "float"
        },
        {
         "name": "Lactococcus lactis [1370]",
         "rawType": "float32",
         "type": "float"
        },
        {
         "name": "Streptococcus downei [1372]",
         "rawType": "float32",
         "type": "float"
        },
        {
         "name": "Streptococcus mutans [1373]",
         "rawType": "float32",
         "type": "float"
        },
        {
         "name": "Streptococcus thermophilus [1375]",
         "rawType": "float32",
         "type": "float"
        },
        {
         "name": "Streptococcus vestibularis [1376]",
         "rawType": "float32",
         "type": "float"
        },
        {
         "name": "Streptococcus salivarius [1377]",
         "rawType": "float32",
         "type": "float"
        },
        {
         "name": "unnamed Streptococcus sp. C150 [1378]",
         "rawType": "float32",
         "type": "float"
        },
        {
         "name": "Streptococcus gallolyticus [1379]",
         "rawType": "float32",
         "type": "float"
        },
        {
         "name": "Streptococcus infantarius [1380]",
         "rawType": "float32",
         "type": "float"
        },
        {
         "name": "Streptococcus equinus [1381]",
         "rawType": "float32",
         "type": "float"
        },
        {
         "name": "Streptococcus agalactiae [1388]",
         "rawType": "float32",
         "type": "float"
        },
        {
         "name": "Streptococcus anginosus [1393]",
         "rawType": "float32",
         "type": "float"
        },
        {
         "name": "Streptococcus anginosus [1394]",
         "rawType": "float32",
         "type": "float"
        },
        {
         "name": "Streptococcus constellatus [1395]",
         "rawType": "float32",
         "type": "float"
        },
        {
         "name": "Streptococcus cristatus [1396]",
         "rawType": "float32",
         "type": "float"
        },
        {
         "name": "Streptococcus sanguinis [1397]",
         "rawType": "float32",
         "type": "float"
        },
        {
         "name": "Streptococcus gordonii [1398]",
         "rawType": "float32",
         "type": "float"
        },
        {
         "name": "unnamed Streptococcus sp. oral taxon 056 [1399]",
         "rawType": "float32",
         "type": "float"
        },
        {
         "name": "Streptococcus pneumoniae [1400]",
         "rawType": "float32",
         "type": "float"
        },
        {
         "name": "Streptococcus pseudopneumoniae [1401]",
         "rawType": "float32",
         "type": "float"
        },
        {
         "name": "Streptococcus mitis [1402]",
         "rawType": "float32",
         "type": "float"
        },
        {
         "name": "Streptococcus mitis [1403]",
         "rawType": "float32",
         "type": "float"
        },
        {
         "name": "Streptococcus mitis [1404]",
         "rawType": "float32",
         "type": "float"
        },
        {
         "name": "unnamed Streptococcus sp. M334 [1405]",
         "rawType": "float32",
         "type": "float"
        },
        {
         "name": "Streptococcus mitis [1406]",
         "rawType": "float32",
         "type": "float"
        },
        {
         "name": "unnamed Streptococcus sp. M143 [1407]",
         "rawType": "float32",
         "type": "float"
        },
        {
         "name": "Streptococcus mitis [1408]",
         "rawType": "float32",
         "type": "float"
        },
        {
         "name": "Streptococcus mitis [1409]",
         "rawType": "float32",
         "type": "float"
        },
        {
         "name": "Streptococcus oralis [1410]",
         "rawType": "float32",
         "type": "float"
        },
        {
         "name": "Streptococcus oralis [1411]",
         "rawType": "float32",
         "type": "float"
        },
        {
         "name": "Streptococcus sanguinis [1412]",
         "rawType": "float32",
         "type": "float"
        },
        {
         "name": "unnamed Streptococcus sp. oral taxon 071 [1413]",
         "rawType": "float32",
         "type": "float"
        },
        {
         "name": "Streptococcus mitis [1414]",
         "rawType": "float32",
         "type": "float"
        },
        {
         "name": "Streptococcus infantis [1415]",
         "rawType": "float32",
         "type": "float"
        },
        {
         "name": "Streptococcus infantis [1416]",
         "rawType": "float32",
         "type": "float"
        },
        {
         "name": "Streptococcus infantis [1417]",
         "rawType": "float32",
         "type": "float"
        },
        {
         "name": "Streptococcus infantis [1418]",
         "rawType": "float32",
         "type": "float"
        },
        {
         "name": "Streptococcus peroris [1419]",
         "rawType": "float32",
         "type": "float"
        },
        {
         "name": "Streptococcus australis [1420]",
         "rawType": "float32",
         "type": "float"
        },
        {
         "name": "Streptococcus parasanguinis [1421]",
         "rawType": "float32",
         "type": "float"
        },
        {
         "name": "Catonella morbi [1422]",
         "rawType": "float32",
         "type": "float"
        },
        {
         "name": "Weissella cibaria [1428]",
         "rawType": "float32",
         "type": "float"
        },
        {
         "name": "Leuconostoc mesenteroides [1430]",
         "rawType": "float32",
         "type": "float"
        },
        {
         "name": "Leuconostoc citreum [1431]",
         "rawType": "float32",
         "type": "float"
        },
        {
         "name": "Leuconostoc gasicomitatum [1434]",
         "rawType": "float32",
         "type": "float"
        },
        {
         "name": "Leuconostoc gelidum [1435]",
         "rawType": "float32",
         "type": "float"
        },
        {
         "name": "Lactobacillus delbrueckii [1438]",
         "rawType": "float32",
         "type": "float"
        },
        {
         "name": "Lactobacillus johnsonii [1442]",
         "rawType": "float32",
         "type": "float"
        },
        {
         "name": "Lactobacillus gasseri [1443]",
         "rawType": "float32",
         "type": "float"
        },
        {
         "name": "Lactobacillus crispatus [1444]",
         "rawType": "float32",
         "type": "float"
        },
        {
         "name": "Lactobacillus casei [1452]",
         "rawType": "float32",
         "type": "float"
        },
        {
         "name": "Lactobacillus rhamnosus [1453]",
         "rawType": "float32",
         "type": "float"
        },
        {
         "name": "Lactobacillus fermentum [1454]",
         "rawType": "float32",
         "type": "float"
        },
        {
         "name": "Lactobacillus oris [1455]",
         "rawType": "float32",
         "type": "float"
        },
        {
         "name": "Lactobacillus reuteri [1457]",
         "rawType": "float32",
         "type": "float"
        },
        {
         "name": "Lactobacillus vaginalis [1458]",
         "rawType": "float32",
         "type": "float"
        },
        {
         "name": "Lactobacillus sakei [1464]",
         "rawType": "float32",
         "type": "float"
        },
        {
         "name": "Lactobacillus ruminis [1466]",
         "rawType": "float32",
         "type": "float"
        },
        {
         "name": "Lactobacillus salivarius [1467]",
         "rawType": "float32",
         "type": "float"
        },
        {
         "name": "Pediococcus acidilactici [1469]",
         "rawType": "float32",
         "type": "float"
        },
        {
         "name": "Pediococcus pentosaceus [1470]",
         "rawType": "float32",
         "type": "float"
        },
        {
         "name": "Lactobacillus plantarum [1472]",
         "rawType": "float32",
         "type": "float"
        },
        {
         "name": "Lactobacillus brevis [1473]",
         "rawType": "float32",
         "type": "float"
        },
        {
         "name": "Fusobacterium gonidiaformans [1476]",
         "rawType": "float32",
         "type": "float"
        },
        {
         "name": "unnamed Fusobacterium sp. D12 [1477]",
         "rawType": "float32",
         "type": "float"
        },
        {
         "name": "Fusobacterium periodonticum [1478]",
         "rawType": "float32",
         "type": "float"
        },
        {
         "name": "Fusobacterium nucleatum [1479]",
         "rawType": "float32",
         "type": "float"
        },
        {
         "name": "Fusobacterium nucleatum [1480]",
         "rawType": "float32",
         "type": "float"
        },
        {
         "name": "unclassified Fusobacterium [1481]",
         "rawType": "float32",
         "type": "float"
        },
        {
         "name": "unclassified Fusobacterium [1482]",
         "rawType": "float32",
         "type": "float"
        },
        {
         "name": "Fusobacterium mortiferum [1485]",
         "rawType": "float32",
         "type": "float"
        },
        {
         "name": "Leptotrichia hofstadii [1488]",
         "rawType": "float32",
         "type": "float"
        },
        {
         "name": "Peptoniphilus lacrimalis [1492]",
         "rawType": "float32",
         "type": "float"
        },
        {
         "name": "Peptoniphilus harei [1493]",
         "rawType": "float32",
         "type": "float"
        },
        {
         "name": "Anaerococcus hydrogenalis [1497]",
         "rawType": "float32",
         "type": "float"
        },
        {
         "name": "Anaerococcus vaginalis [1498]",
         "rawType": "float32",
         "type": "float"
        },
        {
         "name": "Finegoldia magna [1503]",
         "rawType": "float32",
         "type": "float"
        },
        {
         "name": "Finegoldia magna [1504]",
         "rawType": "float32",
         "type": "float"
        },
        {
         "name": "Parvimonas micra [1505]",
         "rawType": "float32",
         "type": "float"
        },
        {
         "name": "unnamed Parvimonas sp. oral taxon 110 [1506]",
         "rawType": "float32",
         "type": "float"
        },
        {
         "name": "unnamed Parvimonas sp. oral taxon 393 [1507]",
         "rawType": "float32",
         "type": "float"
        },
        {
         "name": "Peptostreptococcus stomatis [1530]",
         "rawType": "float32",
         "type": "float"
        },
        {
         "name": "Peptostreptococcus anaerobius [1531]",
         "rawType": "float32",
         "type": "float"
        },
        {
         "name": "[Clostridium] difficile [1532]",
         "rawType": "float32",
         "type": "float"
        },
        {
         "name": "[Clostridium] bartlettii [1533]",
         "rawType": "float32",
         "type": "float"
        },
        {
         "name": "Clostridium perfringens [1540]",
         "rawType": "float32",
         "type": "float"
        },
        {
         "name": "Clostridium perfringens [1541]",
         "rawType": "float32",
         "type": "float"
        },
        {
         "name": "Clostridium botulinum [1542]",
         "rawType": "float32",
         "type": "float"
        },
        {
         "name": "Clostridium butyricum [1543]",
         "rawType": "float32",
         "type": "float"
        },
        {
         "name": "unnamed Clostridium sp. 7_2_43FAA [1545]",
         "rawType": "float32",
         "type": "float"
        },
        {
         "name": "Anaerofustis stercorihominis [1557]",
         "rawType": "float32",
         "type": "float"
        },
        {
         "name": "Eubacterium saphenum [1563]",
         "rawType": "float32",
         "type": "float"
        },
        {
         "name": "Eubacterium siraeum [1564]",
         "rawType": "float32",
         "type": "float"
        },
        {
         "name": "Ruminococcus champanellensis [1568]",
         "rawType": "float32",
         "type": "float"
        },
        {
         "name": "Ruminococcus bromii [1569]",
         "rawType": "float32",
         "type": "float"
        },
        {
         "name": "Anaerotruncus colihominis [1570]",
         "rawType": "float32",
         "type": "float"
        },
        {
         "name": "Clostridium methylpentosum [1572]",
         "rawType": "float32",
         "type": "float"
        },
        {
         "name": "Clostridium leptum [1573]",
         "rawType": "float32",
         "type": "float"
        },
        {
         "name": "Faecalibacterium prausnitzii [1574]",
         "rawType": "float32",
         "type": "float"
        },
        {
         "name": "Faecalibacterium prausnitzii [1575]",
         "rawType": "float32",
         "type": "float"
        },
        {
         "name": "Faecalibacterium prausnitzii [1576]",
         "rawType": "float32",
         "type": "float"
        },
        {
         "name": "Faecalibacterium prausnitzii [1577]",
         "rawType": "float32",
         "type": "float"
        },
        {
         "name": "Subdoligranulum variabile [1578]",
         "rawType": "float32",
         "type": "float"
        },
        {
         "name": "Pseudoflavonifractor capillosus [1579]",
         "rawType": "float32",
         "type": "float"
        },
        {
         "name": "unnamed Ruminococcaceae bacterium D16 [1580]",
         "rawType": "float32",
         "type": "float"
        },
        {
         "name": "Oscillibacter valericigenes [1581]",
         "rawType": "float32",
         "type": "float"
        },
        {
         "name": "Eubacterium limosum [1582]",
         "rawType": "float32",
         "type": "float"
        },
        {
         "name": "Pseudoramibacter alactolyticus [1584]",
         "rawType": "float32",
         "type": "float"
        },
        {
         "name": "Oribacterium sinus [1585]",
         "rawType": "float32",
         "type": "float"
        },
        {
         "name": "Coprococcus eutactus [1592]",
         "rawType": "float32",
         "type": "float"
        },
        {
         "name": "unnamed Clostridium sp. L2-50 [1593]",
         "rawType": "float32",
         "type": "float"
        },
        {
         "name": "Coprococcus catus [1594]",
         "rawType": "float32",
         "type": "float"
        },
        {
         "name": "butyrate-producing bacterium [1595]",
         "rawType": "float32",
         "type": "float"
        },
        {
         "name": "Anaerostipes caccae [1596]",
         "rawType": "float32",
         "type": "float"
        },
        {
         "name": "Eubacterium hallii [1597]",
         "rawType": "float32",
         "type": "float"
        },
        {
         "name": "Clostridium bolteae [1598]",
         "rawType": "float32",
         "type": "float"
        },
        {
         "name": "unnamed Clostridiales bacterium 1_7_47FAA [1599]",
         "rawType": "float32",
         "type": "float"
        },
        {
         "name": "Clostridium symbiosum [1600]",
         "rawType": "float32",
         "type": "float"
        },
        {
         "name": "Clostridium saccharolyticum [1601]",
         "rawType": "float32",
         "type": "float"
        },
        {
         "name": "unnamed butyrate-producing bacterium SS3/4 [1603]",
         "rawType": "float32",
         "type": "float"
        },
        {
         "name": "Dorea formicigenerans [1604]",
         "rawType": "float32",
         "type": "float"
        },
        {
         "name": "Dorea longicatena [1605]",
         "rawType": "float32",
         "type": "float"
        },
        {
         "name": "Clostridium scindens [1606]",
         "rawType": "float32",
         "type": "float"
        },
        {
         "name": "Clostridium hylemonae [1607]",
         "rawType": "float32",
         "type": "float"
        },
        {
         "name": "[Ruminococcus] torques [1608]",
         "rawType": "float32",
         "type": "float"
        },
        {
         "name": "Ruminococcus lactaris [1609]",
         "rawType": "float32",
         "type": "float"
        },
        {
         "name": "[Ruminococcus] torques [1610]",
         "rawType": "float32",
         "type": "float"
        },
        {
         "name": "[Ruminococcus] gnavus [1611]",
         "rawType": "float32",
         "type": "float"
        },
        {
         "name": "unnamed Lachnospiraceae bacterium 1_4_56FAA [1612]",
         "rawType": "float32",
         "type": "float"
        },
        {
         "name": "unnamed Clostridium sp. D5 [1613]",
         "rawType": "float32",
         "type": "float"
        },
        {
         "name": "unclassified Lachnospiraceae [1614]",
         "rawType": "float32",
         "type": "float"
        },
        {
         "name": "Coprococcus comes [1616]",
         "rawType": "float32",
         "type": "float"
        },
        {
         "name": "Blautia hansenii [1617]",
         "rawType": "float32",
         "type": "float"
        },
        {
         "name": "[Ruminococcus] obeum [1618]",
         "rawType": "float32",
         "type": "float"
        },
        {
         "name": "[Ruminococcus] obeum [1619]",
         "rawType": "float32",
         "type": "float"
        },
        {
         "name": "unnamed Ruminococcus sp. 5_1_39BFAA [1620]",
         "rawType": "float32",
         "type": "float"
        },
        {
         "name": "unnamed Ruminococcus sp. SR1/5 [1621]",
         "rawType": "float32",
         "type": "float"
        },
        {
         "name": "Blautia hydrogenotrophica [1622]",
         "rawType": "float32",
         "type": "float"
        },
        {
         "name": "unnamed Lachnospiraceae bacterium 3_1_57FAA_CT1 [1624]",
         "rawType": "float32",
         "type": "float"
        },
        {
         "name": "[Bacteroides] pectinophilus [1626]",
         "rawType": "float32",
         "type": "float"
        },
        {
         "name": "Eubacterium eligens [1627]",
         "rawType": "float32",
         "type": "float"
        },
        {
         "name": "Butyrivibrio crossotus [1628]",
         "rawType": "float32",
         "type": "float"
        },
        {
         "name": "Eubacterium ventriosum [1629]",
         "rawType": "float32",
         "type": "float"
        },
        {
         "name": "Eubacterium rectale [1630]",
         "rawType": "float32",
         "type": "float"
        },
        {
         "name": "Roseburia intestinalis [1631]",
         "rawType": "float32",
         "type": "float"
        },
        {
         "name": "Roseburia inulinivorans [1632]",
         "rawType": "float32",
         "type": "float"
        },
        {
         "name": "Roseburia hominis [1633]",
         "rawType": "float32",
         "type": "float"
        },
        {
         "name": "Pyramidobacter piscolens [1641]",
         "rawType": "float32",
         "type": "float"
        },
        {
         "name": "Mitsuokella multacida [1653]",
         "rawType": "float32",
         "type": "float"
        },
        {
         "name": "Selenomonas sputigena [1654]",
         "rawType": "float32",
         "type": "float"
        },
        {
         "name": "Acidaminococcus intestini [1657]",
         "rawType": "float32",
         "type": "float"
        },
        {
         "name": "Acidaminococcus fermentans [1658]",
         "rawType": "float32",
         "type": "float"
        },
        {
         "name": "Phascolarctobacterium succinatutens [1659]",
         "rawType": "float32",
         "type": "float"
        },
        {
         "name": "Campylobacter hominis [1719]",
         "rawType": "float32",
         "type": "float"
        },
        {
         "name": "Campylobacter rectus [1720]",
         "rawType": "float32",
         "type": "float"
        },
        {
         "name": "Campylobacter concisus [1722]",
         "rawType": "float32",
         "type": "float"
        },
        {
         "name": "Campylobacter gracilis [1724]",
         "rawType": "float32",
         "type": "float"
        },
        {
         "name": "Pseudomonas putida [222]",
         "rawType": "float32",
         "type": "float"
        },
        {
         "name": "Pseudomonas aeruginosa [236]",
         "rawType": "float32",
         "type": "float"
        },
        {
         "name": "Aggregatibacter aphrophilus [319]",
         "rawType": "float32",
         "type": "float"
        },
        {
         "name": "Aggregatibacter segnis [320]",
         "rawType": "float32",
         "type": "float"
        },
        {
         "name": "Haemophilus influenzae [323]",
         "rawType": "float32",
         "type": "float"
        },
        {
         "name": "Haemophilus haemolyticus [324]",
         "rawType": "float32",
         "type": "float"
        },
        {
         "name": "Haemophilus haemolyticus [325]",
         "rawType": "float32",
         "type": "float"
        },
        {
         "name": "Haemophilus parainfluenzae [326]",
         "rawType": "float32",
         "type": "float"
        },
        {
         "name": "Haemophilus pittmaniae [327]",
         "rawType": "float32",
         "type": "float"
        },
        {
         "name": "unnamed Enterobacteriaceae bacterium 9_2_54FAA [374]",
         "rawType": "float32",
         "type": "float"
        },
        {
         "name": "Enterobacter hormaechei/cloacae [384]",
         "rawType": "float32",
         "type": "float"
        },
        {
         "name": "Enterobacter cloacae [385]",
         "rawType": "float32",
         "type": "float"
        },
        {
         "name": "Enterobacter cloacae [386]",
         "rawType": "float32",
         "type": "float"
        },
        {
         "name": "Enterobacter cancerogenus [387]",
         "rawType": "float32",
         "type": "float"
        },
        {
         "name": "Enterobacter asburiae [388]",
         "rawType": "float32",
         "type": "float"
        },
        {
         "name": "Escherichia coli [390]",
         "rawType": "float32",
         "type": "float"
        },
        {
         "name": "Escherichia albertii [391]",
         "rawType": "float32",
         "type": "float"
        },
        {
         "name": "unnamed Citrobacter sp. 30_2 [392]",
         "rawType": "float32",
         "type": "float"
        },
        {
         "name": "Citrobacter youngae [393]",
         "rawType": "float32",
         "type": "float"
        },
        {
         "name": "Salmonella enterica [394]",
         "rawType": "float32",
         "type": "float"
        },
        {
         "name": "Citrobacter koseri [397]",
         "rawType": "float32",
         "type": "float"
        },
        {
         "name": "Klebsiella variicola/pneumoniae [399]",
         "rawType": "float32",
         "type": "float"
        },
        {
         "name": "Enterobacter aerogenes [400]",
         "rawType": "float32",
         "type": "float"
        },
        {
         "name": "Klebsiella oxytoca [401]",
         "rawType": "float32",
         "type": "float"
        },
        {
         "name": "Succinatimonas hippei [425]",
         "rawType": "float32",
         "type": "float"
        },
        {
         "name": "Neisseria sicca/macacae [437]",
         "rawType": "float32",
         "type": "float"
        },
        {
         "name": "unnamed Neisseria sp. oral taxon 014 [439]",
         "rawType": "float32",
         "type": "float"
        },
        {
         "name": "Neisseria meningitidis [442]",
         "rawType": "float32",
         "type": "float"
        },
        {
         "name": "Eikenella corrodens [448]",
         "rawType": "float32",
         "type": "float"
        },
        {
         "name": "Parasutterella excrementihominis [468]",
         "rawType": "float32",
         "type": "float"
        },
        {
         "name": "Sutterella wadsworthensis [469]",
         "rawType": "float32",
         "type": "float"
        },
        {
         "name": "Desulfovibrio piger [751]",
         "rawType": "float32",
         "type": "float"
        },
        {
         "name": "unnamed Desulfovibrio sp. 3_1_syn3 [752]",
         "rawType": "float32",
         "type": "float"
        },
        {
         "name": "Bilophila wadsworthia [756]",
         "rawType": "float32",
         "type": "float"
        },
        {
         "name": "Atopobium parvulum [808]",
         "rawType": "float32",
         "type": "float"
        },
        {
         "name": "Atopobium rimae [809]",
         "rawType": "float32",
         "type": "float"
        },
        {
         "name": "Collinsella stercoris [812]",
         "rawType": "float32",
         "type": "float"
        },
        {
         "name": "Collinsella intestinalis [813]",
         "rawType": "float32",
         "type": "float"
        },
        {
         "name": "Collinsella aerofaciens [814]",
         "rawType": "float32",
         "type": "float"
        },
        {
         "name": "Olsenella uli [816]",
         "rawType": "float32",
         "type": "float"
        },
        {
         "name": "Eggerthella lenta [817]",
         "rawType": "float32",
         "type": "float"
        },
        {
         "name": "unnamed Eggerthella sp. YY7918 [818]",
         "rawType": "float32",
         "type": "float"
        },
        {
         "name": "Slackia exigua [820]",
         "rawType": "float32",
         "type": "float"
        },
        {
         "name": "Cryptobacterium curtum [821]",
         "rawType": "float32",
         "type": "float"
        },
        {
         "name": "Propionibacterium acnes [823]",
         "rawType": "float32",
         "type": "float"
        },
        {
         "name": "Propionibacterium freudenreichii [825]",
         "rawType": "float32",
         "type": "float"
        },
        {
         "name": "Corynebacterium variabile [829]",
         "rawType": "float32",
         "type": "float"
        },
        {
         "name": "Actinomyces odontolyticus [878]",
         "rawType": "float32",
         "type": "float"
        },
        {
         "name": "unnamed Actinomyces sp. oral taxon 180 [879]",
         "rawType": "float32",
         "type": "float"
        },
        {
         "name": "Actinomyces viscosus [880]",
         "rawType": "float32",
         "type": "float"
        },
        {
         "name": "unnamed Actinomyces sp. oral taxon 170 [881]",
         "rawType": "float32",
         "type": "float"
        },
        {
         "name": "unnamed Actinomyces sp. oral taxon 448 [883]",
         "rawType": "float32",
         "type": "float"
        },
        {
         "name": "unnamed Actinomyces sp. oral taxon 848 [897]",
         "rawType": "float32",
         "type": "float"
        },
        {
         "name": "Methanobrevibacter smithii [92]",
         "rawType": "float32",
         "type": "float"
        },
        {
         "name": "Methanosphaera stadtmanae [94]",
         "rawType": "float32",
         "type": "float"
        },
        {
         "name": "Brevibacterium linens [949]",
         "rawType": "float32",
         "type": "float"
        },
        {
         "name": "Rothia mucilaginosa [955]",
         "rawType": "float32",
         "type": "float"
        },
        {
         "name": "Rothia dentocariosa [956]",
         "rawType": "float32",
         "type": "float"
        },
        {
         "name": "Micrococcus luteus [961]",
         "rawType": "float32",
         "type": "float"
        },
        {
         "name": "Bifidobacterium animalis [967]",
         "rawType": "float32",
         "type": "float"
        },
        {
         "name": "Bifidobacterium bifidum [968]",
         "rawType": "float32",
         "type": "float"
        },
        {
         "name": "Bifidobacterium breve [969]",
         "rawType": "float32",
         "type": "float"
        },
        {
         "name": "Bifidobacterium longum [970]",
         "rawType": "float32",
         "type": "float"
        },
        {
         "name": "Bifidobacterium dentium [971]",
         "rawType": "float32",
         "type": "float"
        },
        {
         "name": "Bifidobacterium adolescentis [972]",
         "rawType": "float32",
         "type": "float"
        },
        {
         "name": "Bifidobacterium catenulatum-Bifidobacterium pseudocatenulatum complex [973]",
         "rawType": "float32",
         "type": "float"
        },
        {
         "name": "Bifidobacterium angulatum [974]",
         "rawType": "float32",
         "type": "float"
        },
        {
         "name": "Parascardovia denticolens [976]",
         "rawType": "float32",
         "type": "float"
        },
        {
         "name": "Scardovia inopinata [977]",
         "rawType": "float32",
         "type": "float"
        },
        {
         "name": "target",
         "rawType": "int8",
         "type": "integer"
        }
       ],
       "conversionMethod": "pd.DataFrame",
       "ref": "a7e47bf8-d5f7-461c-9026-a6da5cea7209",
       "rows": [
        [
         "0",
         "-1.3925618",
         "2.105299",
         "-0.73741823",
         "1.2448039",
         "1.7498032",
         "-0.648682",
         "-0.37029198",
         "-0.21693194",
         "-0.3691239",
         "-0.29134834",
         "-0.4537924",
         "-0.30996516",
         "1.5733386",
         "0.8596312",
         "-0.40449253",
         "8.121835",
         "-3.0151012",
         "-2.1740034",
         "-0.33784398",
         "2.0039053",
         "-5.0724783",
         "-0.73004854",
         "0.60271657",
         "1.8917497",
         "1.1405183",
         "4.229551",
         "2.4481125",
         "-1.6345001",
         "-4.3357553",
         "-1.1616008",
         "-0.082819715",
         "-0.1013453",
         "0.27259764",
         "0.24956433",
         "0.14634322",
         "0.18322767",
         "0.54430306",
         "-0.61283034",
         "-0.18420044",
         "-0.18836915",
         "-3.0679064",
         "-0.36595607",
         "2.805003",
         "-2.269252",
         "-2.368124",
         "-1.2069019",
         "-0.64349616",
         "-0.50166845",
         "-2.1347554",
         "-1.9225285",
         "-0.95729744",
         "-2.2046988",
         "-2.6445684",
         "1.7512658",
         "-0.5796131",
         "-0.6964993",
         "-0.71598667",
         "2.6765375",
         "2.8839881",
         "-1.8351799",
         "-0.78114015",
         "0.9983566",
         "-0.95257837",
         "-1.7464348",
         "-0.31708023",
         "-0.59332633",
         "-2.3948064",
         "-0.33367234",
         "-0.2745583",
         "-2.803777",
         "-2.1237457",
         "-0.23187797",
         "-3.6091323",
         "-2.1157644",
         "-0.73729527",
         "-0.22166982",
         "0.9385054",
         "-4.217369",
         "-1.063678",
         "-0.26349035",
         "-1.6997513",
         "-0.7252662",
         "-0.62127346",
         "-0.26751888",
         "-2.558106",
         "-2.5808284",
         "-2.0448172",
         "-1.5503454",
         "-0.521968",
         "-1.0672929",
         "-0.82553166",
         "0.6644274",
         "-1.088756",
         "-2.5392756",
         "0.11140542",
         "-1.6735113",
         "0.4154351",
         "-1.6537749",
         "-1.4729539",
         "-1.0777304",
         "1.6047041",
         "-0.2486433",
         "-1.7457821",
         "-1.5696142",
         "0.10294552",
         "-1.3996141",
         "-0.7145446",
         "-1.7883285",
         "-2.521766",
         "-1.765451",
         "-1.5335511",
         "-1.8873813",
         "-1.9684215",
         "-0.4672576",
         "-0.22457711",
         "-1.988951",
         "-0.16240211",
         "-0.20112544",
         "-0.18714438",
         "1.680847",
         "-0.51519406",
         "-1.7124258",
         "-0.4973692",
         "-1.6878432",
         "-0.6919948",
         "-0.73271203",
         "-0.3993603",
         "1.816885",
         "-0.5467343",
         "-0.7789258",
         "-0.5796193",
         "-0.7684102",
         "-0.27983707",
         "-0.19294177",
         "-0.5504862",
         "-0.12597659",
         "-0.36611786",
         "-0.35008353",
         "-0.74933255",
         "-0.51206374",
         "-0.7240204",
         "-1.2097816",
         "-0.7048791",
         "-0.43908215",
         "-0.13838589",
         "-0.44566095",
         "-0.38037473",
         "-0.13717245",
         "-0.64321065",
         "-0.42483175",
         "-0.3905528",
         "-2.8055212",
         "-1.1191962",
         "-1.1007005",
         "-2.0864613",
         "-0.5039909",
         "-0.36794305",
         "-4.3847365",
         "-0.61127174",
         "-1.1229062",
         "-0.18613659",
         "-0.19970411",
         "-0.3398163",
         "-0.36310133",
         "-0.48611453",
         "2.177022",
         "-0.9315293",
         "-4.0942698",
         "1.1274796",
         "-0.89695424",
         "-0.6331424",
         "0.65142554",
         "-0.57385236",
         "-0.20050734",
         "1.128736",
         "-0.96269065",
         "-1.2683369",
         "-2.235374",
         "0.30457118",
         "-1.3637832",
         "-0.14989391",
         "-0.801828",
         "-0.9951433",
         "5.5649333",
         "1.251318",
         "-0.38250443",
         "-1.1193393",
         "-1.6784036",
         "1.6057414",
         "0.40897062",
         "-2.5013654",
         "-1.398143",
         "0.98221946",
         "-0.74837685",
         "-1.2146177",
         "1.6697186",
         "-0.5493395",
         "-0.30789253",
         "3.0272346",
         "2.4883695",
         "-0.9699126",
         "2.7599843",
         "-0.60686046",
         "-0.66766495",
         "1.2115892",
         "-0.47151324",
         "-0.18234546",
         "-2.600042",
         "-0.8170141",
         "0.19734287",
         "-1.5316762",
         "0.24323535",
         "-1.1708895",
         "0.8982206",
         "-0.54979086",
         "3.0789187",
         "-1.6045458",
         "4.3991833",
         "2.4686496",
         "-0.64248294",
         "-0.39740565",
         "-1.1055416",
         "-0.2478329",
         "-1.3172696",
         "-1.53142",
         "5.9489717",
         "-0.20515946",
         "-0.17914912",
         "-0.22216345",
         "-0.18066964",
         "-0.15748206",
         "-0.3101991",
         "-0.22930391",
         "-0.5033588",
         "-1.2722142",
         "-0.97779924",
         "-0.35301238",
         "-0.4555003",
         "-0.9237435",
         "-1.167283",
         "-0.85748804",
         "-0.2786835",
         "-0.5343323",
         "-0.21314047",
         "-0.19497812",
         "-2.2308078",
         "-0.50220174",
         "-0.6222097",
         "-0.30535263",
         "-0.34680873",
         "-0.22341275",
         "-1.0515778",
         "-0.5874149",
         "-0.78283966",
         "-0.23764348",
         "-0.1712906",
         "-0.09108007",
         "-0.1873477",
         "-0.14248401",
         "2.3257997",
         "-1.9643172",
         "-2.8465185",
         "-0.4330141",
         "1.520737",
         "-0.8297274",
         "-0.955081",
         "-1.1456237",
         "0.13051268",
         "-0.79916495",
         "-1.1386352",
         "-2.0582697",
         "-0.7315222",
         "-1.0681885",
         "-0.38779604",
         "-0.674328",
         "0.6791565",
         "-0.21183236",
         "-3.6949227",
         "-1.3880084",
         "-2.5431507",
         "-1.312526",
         "0.18083102",
         "-0.53699106",
         "0.88350314",
         "-0.774693",
         "-0.13161792",
         "-1.047773",
         "-1.1129755",
         "-0.09444879",
         "-1.6025724",
         "-3.1536767",
         "-1.0744432",
         "-6.321915",
         "-2.7292001",
         "-5.181201",
         "-4.5661454",
         "-2.0949483",
         "-0.4624842",
         "-0.31181964",
         "1"
        ]
       ],
       "shape": {
        "columns": 300,
        "rows": 1
       }
      },
      "text/html": [
       "<div>\n",
       "<style scoped>\n",
       "    .dataframe tbody tr th:only-of-type {\n",
       "        vertical-align: middle;\n",
       "    }\n",
       "\n",
       "    .dataframe tbody tr th {\n",
       "        vertical-align: top;\n",
       "    }\n",
       "\n",
       "    .dataframe thead th {\n",
       "        text-align: right;\n",
       "    }\n",
       "</style>\n",
       "<table border=\"1\" class=\"dataframe\">\n",
       "  <thead>\n",
       "    <tr style=\"text-align: right;\">\n",
       "      <th></th>\n",
       "      <th>Victivallis vadensis [1000]</th>\n",
       "      <th>Akkermansia muciniphila [1008]</th>\n",
       "      <th>Alistipes shahii [1052]</th>\n",
       "      <th>unnamed Alistipes sp. HGB5 [1053]</th>\n",
       "      <th>Alistipes putredinis [1054]</th>\n",
       "      <th>Porphyromonas asaccharolytica [1056]</th>\n",
       "      <th>Porphyromonas uenonis [1057]</th>\n",
       "      <th>Prevotella buccalis [1059]</th>\n",
       "      <th>Prevotella buccae [1065]</th>\n",
       "      <th>Prevotella dentalis [1067]</th>\n",
       "      <th>...</th>\n",
       "      <th>Bifidobacterium bifidum [968]</th>\n",
       "      <th>Bifidobacterium breve [969]</th>\n",
       "      <th>Bifidobacterium longum [970]</th>\n",
       "      <th>Bifidobacterium dentium [971]</th>\n",
       "      <th>Bifidobacterium adolescentis [972]</th>\n",
       "      <th>Bifidobacterium catenulatum-Bifidobacterium pseudocatenulatum complex [973]</th>\n",
       "      <th>Bifidobacterium angulatum [974]</th>\n",
       "      <th>Parascardovia denticolens [976]</th>\n",
       "      <th>Scardovia inopinata [977]</th>\n",
       "      <th>target</th>\n",
       "    </tr>\n",
       "  </thead>\n",
       "  <tbody>\n",
       "    <tr>\n",
       "      <th>0</th>\n",
       "      <td>-1.392562</td>\n",
       "      <td>2.105299</td>\n",
       "      <td>-0.737418</td>\n",
       "      <td>1.244804</td>\n",
       "      <td>1.749803</td>\n",
       "      <td>-0.648682</td>\n",
       "      <td>-0.370292</td>\n",
       "      <td>-0.216932</td>\n",
       "      <td>-0.369124</td>\n",
       "      <td>-0.291348</td>\n",
       "      <td>...</td>\n",
       "      <td>-3.153677</td>\n",
       "      <td>-1.074443</td>\n",
       "      <td>-6.321915</td>\n",
       "      <td>-2.7292</td>\n",
       "      <td>-5.181201</td>\n",
       "      <td>-4.566145</td>\n",
       "      <td>-2.094948</td>\n",
       "      <td>-0.462484</td>\n",
       "      <td>-0.31182</td>\n",
       "      <td>1</td>\n",
       "    </tr>\n",
       "  </tbody>\n",
       "</table>\n",
       "<p>1 rows × 300 columns</p>\n",
       "</div>"
      ],
      "text/plain": [
       "   Victivallis vadensis [1000]  Akkermansia muciniphila [1008]  \\\n",
       "0                    -1.392562                        2.105299   \n",
       "\n",
       "   Alistipes shahii [1052]  unnamed Alistipes sp. HGB5 [1053]  \\\n",
       "0                -0.737418                           1.244804   \n",
       "\n",
       "   Alistipes putredinis [1054]  Porphyromonas asaccharolytica [1056]  \\\n",
       "0                     1.749803                             -0.648682   \n",
       "\n",
       "   Porphyromonas uenonis [1057]  Prevotella buccalis [1059]  \\\n",
       "0                     -0.370292                   -0.216932   \n",
       "\n",
       "   Prevotella buccae [1065]  Prevotella dentalis [1067]  ...  \\\n",
       "0                 -0.369124                   -0.291348  ...   \n",
       "\n",
       "   Bifidobacterium bifidum [968]  Bifidobacterium breve [969]  \\\n",
       "0                      -3.153677                    -1.074443   \n",
       "\n",
       "   Bifidobacterium longum [970]  Bifidobacterium dentium [971]  \\\n",
       "0                     -6.321915                        -2.7292   \n",
       "\n",
       "   Bifidobacterium adolescentis [972]  \\\n",
       "0                           -5.181201   \n",
       "\n",
       "   Bifidobacterium catenulatum-Bifidobacterium pseudocatenulatum complex [973]  \\\n",
       "0                                          -4.566145                             \n",
       "\n",
       "   Bifidobacterium angulatum [974]  Parascardovia denticolens [976]  \\\n",
       "0                        -2.094948                        -0.462484   \n",
       "\n",
       "   Scardovia inopinata [977]  target  \n",
       "0                   -0.31182       1  \n",
       "\n",
       "[1 rows x 300 columns]"
      ]
     },
     "metadata": {},
     "output_type": "display_data"
    },
    {
     "name": "stdout",
     "output_type": "stream",
     "text": [
      "\n",
      "Diverse Counterfactual set (new outcome: 0)\n"
     ]
    },
    {
     "data": {
      "application/vnd.microsoft.datawrangler.viewer.v0+json": {
       "columns": [
        {
         "name": "index",
         "rawType": "int64",
         "type": "integer"
        },
        {
         "name": "Victivallis vadensis [1000]",
         "rawType": "object",
         "type": "string"
        },
        {
         "name": "Akkermansia muciniphila [1008]",
         "rawType": "object",
         "type": "string"
        },
        {
         "name": "Alistipes shahii [1052]",
         "rawType": "object",
         "type": "string"
        },
        {
         "name": "unnamed Alistipes sp. HGB5 [1053]",
         "rawType": "object",
         "type": "string"
        },
        {
         "name": "Alistipes putredinis [1054]",
         "rawType": "object",
         "type": "string"
        },
        {
         "name": "Porphyromonas asaccharolytica [1056]",
         "rawType": "object",
         "type": "string"
        },
        {
         "name": "Porphyromonas uenonis [1057]",
         "rawType": "object",
         "type": "string"
        },
        {
         "name": "Prevotella buccalis [1059]",
         "rawType": "object",
         "type": "string"
        },
        {
         "name": "Prevotella buccae [1065]",
         "rawType": "object",
         "type": "string"
        },
        {
         "name": "Prevotella dentalis [1067]",
         "rawType": "object",
         "type": "string"
        },
        {
         "name": "Prevotella nigrescens [1069]",
         "rawType": "object",
         "type": "string"
        },
        {
         "name": "Prevotella disiens [1071]",
         "rawType": "object",
         "type": "string"
        },
        {
         "name": "Prevotella denticola [1072]",
         "rawType": "object",
         "type": "string"
        },
        {
         "name": "Prevotella multiformis [1073]",
         "rawType": "object",
         "type": "string"
        },
        {
         "name": "Prevotella bivia [1076]",
         "rawType": "object",
         "type": "string"
        },
        {
         "name": "Prevotella copri [1081]",
         "rawType": "object",
         "type": "string"
        },
        {
         "name": "unnamed Capnocytophaga sp. oral taxon 329 [1086]",
         "rawType": "object",
         "type": "string"
        },
        {
         "name": "Paraprevotella xylaniphila [1087]",
         "rawType": "object",
         "type": "string"
        },
        {
         "name": "Parabacteroides distasonis [1088]",
         "rawType": "object",
         "type": "string"
        },
        {
         "name": "Parabacteroides merdae [1089]",
         "rawType": "object",
         "type": "string"
        },
        {
         "name": "Bacteroides fragilis [1090]",
         "rawType": "object",
         "type": "string"
        },
        {
         "name": "Bacteroides fragilis [1091]",
         "rawType": "object",
         "type": "string"
        },
        {
         "name": "Bacteroides thetaiotaomicron [1092]",
         "rawType": "object",
         "type": "string"
        },
        {
         "name": "Bacteroides xylanisolvens [1093]",
         "rawType": "object",
         "type": "string"
        },
        {
         "name": "Bacteroides ovatus [1094]",
         "rawType": "object",
         "type": "string"
        },
        {
         "name": "Bacteroides finegoldii [1095]",
         "rawType": "object",
         "type": "string"
        },
        {
         "name": "Bacteroides caccae [1096]",
         "rawType": "object",
         "type": "string"
        },
        {
         "name": "Bacteroides eggerthii [1097]",
         "rawType": "object",
         "type": "string"
        },
        {
         "name": "Bacteroides stercoris [1098]",
         "rawType": "object",
         "type": "string"
        },
        {
         "name": "Bacteroides clarus [1099]",
         "rawType": "object",
         "type": "string"
        },
        {
         "name": "Bacteroides uniformis [1100]",
         "rawType": "object",
         "type": "string"
        },
        {
         "name": "Bacteroides fluxus [1101]",
         "rawType": "object",
         "type": "string"
        },
        {
         "name": "Bacteroides intestinalis [1103]",
         "rawType": "object",
         "type": "string"
        },
        {
         "name": "Bacteroides dorei/vulgatus [1104]",
         "rawType": "object",
         "type": "string"
        },
        {
         "name": "Bacteroides plebeius [1105]",
         "rawType": "object",
         "type": "string"
        },
        {
         "name": "Bacteroides coprophilus [1106]",
         "rawType": "object",
         "type": "string"
        },
        {
         "name": "Bacteroides coprocola [1107]",
         "rawType": "object",
         "type": "string"
        },
        {
         "name": "Bacteroides salanitronis [1108]",
         "rawType": "object",
         "type": "string"
        },
        {
         "name": "Prevotella tannerae [1112]",
         "rawType": "object",
         "type": "string"
        },
        {
         "name": "Odoribacter splanchnicus [1115]",
         "rawType": "object",
         "type": "string"
        },
        {
         "name": "Dialister invisus [1259]",
         "rawType": "object",
         "type": "string"
        },
        {
         "name": "Veillonella atypica [1260]",
         "rawType": "object",
         "type": "string"
        },
        {
         "name": "Veillonella parvula [1261]",
         "rawType": "object",
         "type": "string"
        },
        {
         "name": "Veillonella dispar [1262]",
         "rawType": "object",
         "type": "string"
        },
        {
         "name": "unnamed Veillonella sp. oral taxon 158 [1263]",
         "rawType": "object",
         "type": "string"
        },
        {
         "name": "Megasphaera elsdenii [1267]",
         "rawType": "object",
         "type": "string"
        },
        {
         "name": "Megasphaera micronuciformis [1268]",
         "rawType": "object",
         "type": "string"
        },
        {
         "name": "Clostridium ramosum [1269]",
         "rawType": "object",
         "type": "string"
        },
        {
         "name": "Clostridium spiroforme [1270]",
         "rawType": "object",
         "type": "string"
        },
        {
         "name": "unnamed Coprobacillus sp. 29_1 [1271]",
         "rawType": "object",
         "type": "string"
        },
        {
         "name": "Bulleidia extructa [1272]",
         "rawType": "object",
         "type": "string"
        },
        {
         "name": "Solobacterium moorei [1273]",
         "rawType": "object",
         "type": "string"
        },
        {
         "name": "Eubacterium biforme [1275]",
         "rawType": "object",
         "type": "string"
        },
        {
         "name": "Eubacterium cylindroides [1276]",
         "rawType": "object",
         "type": "string"
        },
        {
         "name": "unnamed Erysipelotrichaceae bacterium 3_1_53 [1277]",
         "rawType": "object",
         "type": "string"
        },
        {
         "name": "unnamed Clostridium sp. HGF2 [1278]",
         "rawType": "object",
         "type": "string"
        },
        {
         "name": "unnamed Erysipelotrichaceae bacterium 5_2_54FAA [1279]",
         "rawType": "object",
         "type": "string"
        },
        {
         "name": "Eubacterium dolichum [1280]",
         "rawType": "object",
         "type": "string"
        },
        {
         "name": "Holdemania filiformis [1281]",
         "rawType": "object",
         "type": "string"
        },
        {
         "name": "Turicibacter sanguinis [1297]",
         "rawType": "object",
         "type": "string"
        },
        {
         "name": "Gemella haemolysans [1299]",
         "rawType": "object",
         "type": "string"
        },
        {
         "name": "Gemella haemolysans [1300]",
         "rawType": "object",
         "type": "string"
        },
        {
         "name": "Gemella sanguinis [1301]",
         "rawType": "object",
         "type": "string"
        },
        {
         "name": "Gemella morbillorum [1302]",
         "rawType": "object",
         "type": "string"
        },
        {
         "name": "Staphylococcus aureus [1305]",
         "rawType": "object",
         "type": "string"
        },
        {
         "name": "Granulicatella elegans [1357]",
         "rawType": "object",
         "type": "string"
        },
        {
         "name": "Granulicatella adiacens [1358]",
         "rawType": "object",
         "type": "string"
        },
        {
         "name": "Enterococcus casseliflavus [1361]",
         "rawType": "object",
         "type": "string"
        },
        {
         "name": "Enterococcus gallinarum [1362]",
         "rawType": "object",
         "type": "string"
        },
        {
         "name": "Enterococcus faecalis [1363]",
         "rawType": "object",
         "type": "string"
        },
        {
         "name": "Enterococcus faecium [1364]",
         "rawType": "object",
         "type": "string"
        },
        {
         "name": "Lactococcus garvieae [1368]",
         "rawType": "object",
         "type": "string"
        },
        {
         "name": "Lactococcus lactis [1369]",
         "rawType": "object",
         "type": "string"
        },
        {
         "name": "Lactococcus lactis [1370]",
         "rawType": "object",
         "type": "string"
        },
        {
         "name": "Streptococcus downei [1372]",
         "rawType": "object",
         "type": "string"
        },
        {
         "name": "Streptococcus mutans [1373]",
         "rawType": "object",
         "type": "string"
        },
        {
         "name": "Streptococcus thermophilus [1375]",
         "rawType": "object",
         "type": "string"
        },
        {
         "name": "Streptococcus vestibularis [1376]",
         "rawType": "object",
         "type": "string"
        },
        {
         "name": "Streptococcus salivarius [1377]",
         "rawType": "object",
         "type": "string"
        },
        {
         "name": "unnamed Streptococcus sp. C150 [1378]",
         "rawType": "object",
         "type": "string"
        },
        {
         "name": "Streptococcus gallolyticus [1379]",
         "rawType": "object",
         "type": "string"
        },
        {
         "name": "Streptococcus infantarius [1380]",
         "rawType": "object",
         "type": "string"
        },
        {
         "name": "Streptococcus equinus [1381]",
         "rawType": "object",
         "type": "string"
        },
        {
         "name": "Streptococcus agalactiae [1388]",
         "rawType": "object",
         "type": "string"
        },
        {
         "name": "Streptococcus anginosus [1393]",
         "rawType": "object",
         "type": "string"
        },
        {
         "name": "Streptococcus anginosus [1394]",
         "rawType": "object",
         "type": "string"
        },
        {
         "name": "Streptococcus constellatus [1395]",
         "rawType": "object",
         "type": "string"
        },
        {
         "name": "Streptococcus cristatus [1396]",
         "rawType": "object",
         "type": "string"
        },
        {
         "name": "Streptococcus sanguinis [1397]",
         "rawType": "object",
         "type": "string"
        },
        {
         "name": "Streptococcus gordonii [1398]",
         "rawType": "object",
         "type": "string"
        },
        {
         "name": "unnamed Streptococcus sp. oral taxon 056 [1399]",
         "rawType": "object",
         "type": "string"
        },
        {
         "name": "Streptococcus pneumoniae [1400]",
         "rawType": "object",
         "type": "string"
        },
        {
         "name": "Streptococcus pseudopneumoniae [1401]",
         "rawType": "object",
         "type": "string"
        },
        {
         "name": "Streptococcus mitis [1402]",
         "rawType": "object",
         "type": "string"
        },
        {
         "name": "Streptococcus mitis [1403]",
         "rawType": "object",
         "type": "string"
        },
        {
         "name": "Streptococcus mitis [1404]",
         "rawType": "object",
         "type": "string"
        },
        {
         "name": "unnamed Streptococcus sp. M334 [1405]",
         "rawType": "object",
         "type": "string"
        },
        {
         "name": "Streptococcus mitis [1406]",
         "rawType": "object",
         "type": "string"
        },
        {
         "name": "unnamed Streptococcus sp. M143 [1407]",
         "rawType": "object",
         "type": "string"
        },
        {
         "name": "Streptococcus mitis [1408]",
         "rawType": "object",
         "type": "string"
        },
        {
         "name": "Streptococcus mitis [1409]",
         "rawType": "object",
         "type": "string"
        },
        {
         "name": "Streptococcus oralis [1410]",
         "rawType": "object",
         "type": "string"
        },
        {
         "name": "Streptococcus oralis [1411]",
         "rawType": "object",
         "type": "string"
        },
        {
         "name": "Streptococcus sanguinis [1412]",
         "rawType": "object",
         "type": "string"
        },
        {
         "name": "unnamed Streptococcus sp. oral taxon 071 [1413]",
         "rawType": "object",
         "type": "string"
        },
        {
         "name": "Streptococcus mitis [1414]",
         "rawType": "object",
         "type": "string"
        },
        {
         "name": "Streptococcus infantis [1415]",
         "rawType": "object",
         "type": "string"
        },
        {
         "name": "Streptococcus infantis [1416]",
         "rawType": "object",
         "type": "string"
        },
        {
         "name": "Streptococcus infantis [1417]",
         "rawType": "object",
         "type": "string"
        },
        {
         "name": "Streptococcus infantis [1418]",
         "rawType": "object",
         "type": "string"
        },
        {
         "name": "Streptococcus peroris [1419]",
         "rawType": "object",
         "type": "string"
        },
        {
         "name": "Streptococcus australis [1420]",
         "rawType": "object",
         "type": "string"
        },
        {
         "name": "Streptococcus parasanguinis [1421]",
         "rawType": "object",
         "type": "string"
        },
        {
         "name": "Catonella morbi [1422]",
         "rawType": "object",
         "type": "string"
        },
        {
         "name": "Weissella cibaria [1428]",
         "rawType": "object",
         "type": "string"
        },
        {
         "name": "Leuconostoc mesenteroides [1430]",
         "rawType": "object",
         "type": "string"
        },
        {
         "name": "Leuconostoc citreum [1431]",
         "rawType": "object",
         "type": "string"
        },
        {
         "name": "Leuconostoc gasicomitatum [1434]",
         "rawType": "object",
         "type": "string"
        },
        {
         "name": "Leuconostoc gelidum [1435]",
         "rawType": "object",
         "type": "string"
        },
        {
         "name": "Lactobacillus delbrueckii [1438]",
         "rawType": "object",
         "type": "string"
        },
        {
         "name": "Lactobacillus johnsonii [1442]",
         "rawType": "object",
         "type": "string"
        },
        {
         "name": "Lactobacillus gasseri [1443]",
         "rawType": "object",
         "type": "string"
        },
        {
         "name": "Lactobacillus crispatus [1444]",
         "rawType": "object",
         "type": "string"
        },
        {
         "name": "Lactobacillus casei [1452]",
         "rawType": "object",
         "type": "string"
        },
        {
         "name": "Lactobacillus rhamnosus [1453]",
         "rawType": "object",
         "type": "string"
        },
        {
         "name": "Lactobacillus fermentum [1454]",
         "rawType": "object",
         "type": "string"
        },
        {
         "name": "Lactobacillus oris [1455]",
         "rawType": "object",
         "type": "string"
        },
        {
         "name": "Lactobacillus reuteri [1457]",
         "rawType": "object",
         "type": "string"
        },
        {
         "name": "Lactobacillus vaginalis [1458]",
         "rawType": "object",
         "type": "string"
        },
        {
         "name": "Lactobacillus sakei [1464]",
         "rawType": "object",
         "type": "string"
        },
        {
         "name": "Lactobacillus ruminis [1466]",
         "rawType": "object",
         "type": "string"
        },
        {
         "name": "Lactobacillus salivarius [1467]",
         "rawType": "object",
         "type": "string"
        },
        {
         "name": "Pediococcus acidilactici [1469]",
         "rawType": "object",
         "type": "string"
        },
        {
         "name": "Pediococcus pentosaceus [1470]",
         "rawType": "object",
         "type": "string"
        },
        {
         "name": "Lactobacillus plantarum [1472]",
         "rawType": "object",
         "type": "string"
        },
        {
         "name": "Lactobacillus brevis [1473]",
         "rawType": "object",
         "type": "string"
        },
        {
         "name": "Fusobacterium gonidiaformans [1476]",
         "rawType": "object",
         "type": "string"
        },
        {
         "name": "unnamed Fusobacterium sp. D12 [1477]",
         "rawType": "object",
         "type": "string"
        },
        {
         "name": "Fusobacterium periodonticum [1478]",
         "rawType": "object",
         "type": "string"
        },
        {
         "name": "Fusobacterium nucleatum [1479]",
         "rawType": "object",
         "type": "string"
        },
        {
         "name": "Fusobacterium nucleatum [1480]",
         "rawType": "object",
         "type": "string"
        },
        {
         "name": "unclassified Fusobacterium [1481]",
         "rawType": "object",
         "type": "string"
        },
        {
         "name": "unclassified Fusobacterium [1482]",
         "rawType": "object",
         "type": "string"
        },
        {
         "name": "Fusobacterium mortiferum [1485]",
         "rawType": "object",
         "type": "string"
        },
        {
         "name": "Leptotrichia hofstadii [1488]",
         "rawType": "object",
         "type": "string"
        },
        {
         "name": "Peptoniphilus lacrimalis [1492]",
         "rawType": "object",
         "type": "string"
        },
        {
         "name": "Peptoniphilus harei [1493]",
         "rawType": "object",
         "type": "string"
        },
        {
         "name": "Anaerococcus hydrogenalis [1497]",
         "rawType": "object",
         "type": "string"
        },
        {
         "name": "Anaerococcus vaginalis [1498]",
         "rawType": "object",
         "type": "string"
        },
        {
         "name": "Finegoldia magna [1503]",
         "rawType": "object",
         "type": "string"
        },
        {
         "name": "Finegoldia magna [1504]",
         "rawType": "object",
         "type": "string"
        },
        {
         "name": "Parvimonas micra [1505]",
         "rawType": "object",
         "type": "string"
        },
        {
         "name": "unnamed Parvimonas sp. oral taxon 110 [1506]",
         "rawType": "object",
         "type": "string"
        },
        {
         "name": "unnamed Parvimonas sp. oral taxon 393 [1507]",
         "rawType": "object",
         "type": "string"
        },
        {
         "name": "Peptostreptococcus stomatis [1530]",
         "rawType": "object",
         "type": "string"
        },
        {
         "name": "Peptostreptococcus anaerobius [1531]",
         "rawType": "object",
         "type": "string"
        },
        {
         "name": "[Clostridium] difficile [1532]",
         "rawType": "object",
         "type": "string"
        },
        {
         "name": "[Clostridium] bartlettii [1533]",
         "rawType": "object",
         "type": "string"
        },
        {
         "name": "Clostridium perfringens [1540]",
         "rawType": "object",
         "type": "string"
        },
        {
         "name": "Clostridium perfringens [1541]",
         "rawType": "object",
         "type": "string"
        },
        {
         "name": "Clostridium botulinum [1542]",
         "rawType": "object",
         "type": "string"
        },
        {
         "name": "Clostridium butyricum [1543]",
         "rawType": "object",
         "type": "string"
        },
        {
         "name": "unnamed Clostridium sp. 7_2_43FAA [1545]",
         "rawType": "object",
         "type": "string"
        },
        {
         "name": "Anaerofustis stercorihominis [1557]",
         "rawType": "object",
         "type": "string"
        },
        {
         "name": "Eubacterium saphenum [1563]",
         "rawType": "object",
         "type": "string"
        },
        {
         "name": "Eubacterium siraeum [1564]",
         "rawType": "object",
         "type": "string"
        },
        {
         "name": "Ruminococcus champanellensis [1568]",
         "rawType": "object",
         "type": "string"
        },
        {
         "name": "Ruminococcus bromii [1569]",
         "rawType": "object",
         "type": "string"
        },
        {
         "name": "Anaerotruncus colihominis [1570]",
         "rawType": "object",
         "type": "string"
        },
        {
         "name": "Clostridium methylpentosum [1572]",
         "rawType": "object",
         "type": "string"
        },
        {
         "name": "Clostridium leptum [1573]",
         "rawType": "object",
         "type": "string"
        },
        {
         "name": "Faecalibacterium prausnitzii [1574]",
         "rawType": "object",
         "type": "string"
        },
        {
         "name": "Faecalibacterium prausnitzii [1575]",
         "rawType": "object",
         "type": "string"
        },
        {
         "name": "Faecalibacterium prausnitzii [1576]",
         "rawType": "object",
         "type": "string"
        },
        {
         "name": "Faecalibacterium prausnitzii [1577]",
         "rawType": "object",
         "type": "string"
        },
        {
         "name": "Subdoligranulum variabile [1578]",
         "rawType": "object",
         "type": "string"
        },
        {
         "name": "Pseudoflavonifractor capillosus [1579]",
         "rawType": "object",
         "type": "string"
        },
        {
         "name": "unnamed Ruminococcaceae bacterium D16 [1580]",
         "rawType": "object",
         "type": "string"
        },
        {
         "name": "Oscillibacter valericigenes [1581]",
         "rawType": "object",
         "type": "string"
        },
        {
         "name": "Eubacterium limosum [1582]",
         "rawType": "object",
         "type": "string"
        },
        {
         "name": "Pseudoramibacter alactolyticus [1584]",
         "rawType": "object",
         "type": "string"
        },
        {
         "name": "Oribacterium sinus [1585]",
         "rawType": "object",
         "type": "string"
        },
        {
         "name": "Coprococcus eutactus [1592]",
         "rawType": "object",
         "type": "string"
        },
        {
         "name": "unnamed Clostridium sp. L2-50 [1593]",
         "rawType": "object",
         "type": "string"
        },
        {
         "name": "Coprococcus catus [1594]",
         "rawType": "object",
         "type": "string"
        },
        {
         "name": "butyrate-producing bacterium [1595]",
         "rawType": "object",
         "type": "string"
        },
        {
         "name": "Anaerostipes caccae [1596]",
         "rawType": "object",
         "type": "string"
        },
        {
         "name": "Eubacterium hallii [1597]",
         "rawType": "object",
         "type": "string"
        },
        {
         "name": "Clostridium bolteae [1598]",
         "rawType": "object",
         "type": "string"
        },
        {
         "name": "unnamed Clostridiales bacterium 1_7_47FAA [1599]",
         "rawType": "object",
         "type": "string"
        },
        {
         "name": "Clostridium symbiosum [1600]",
         "rawType": "object",
         "type": "string"
        },
        {
         "name": "Clostridium saccharolyticum [1601]",
         "rawType": "object",
         "type": "string"
        },
        {
         "name": "unnamed butyrate-producing bacterium SS3/4 [1603]",
         "rawType": "object",
         "type": "string"
        },
        {
         "name": "Dorea formicigenerans [1604]",
         "rawType": "object",
         "type": "string"
        },
        {
         "name": "Dorea longicatena [1605]",
         "rawType": "object",
         "type": "string"
        },
        {
         "name": "Clostridium scindens [1606]",
         "rawType": "object",
         "type": "string"
        },
        {
         "name": "Clostridium hylemonae [1607]",
         "rawType": "object",
         "type": "string"
        },
        {
         "name": "[Ruminococcus] torques [1608]",
         "rawType": "object",
         "type": "string"
        },
        {
         "name": "Ruminococcus lactaris [1609]",
         "rawType": "object",
         "type": "string"
        },
        {
         "name": "[Ruminococcus] torques [1610]",
         "rawType": "object",
         "type": "string"
        },
        {
         "name": "[Ruminococcus] gnavus [1611]",
         "rawType": "object",
         "type": "string"
        },
        {
         "name": "unnamed Lachnospiraceae bacterium 1_4_56FAA [1612]",
         "rawType": "object",
         "type": "string"
        },
        {
         "name": "unnamed Clostridium sp. D5 [1613]",
         "rawType": "object",
         "type": "string"
        },
        {
         "name": "unclassified Lachnospiraceae [1614]",
         "rawType": "object",
         "type": "string"
        },
        {
         "name": "Coprococcus comes [1616]",
         "rawType": "object",
         "type": "string"
        },
        {
         "name": "Blautia hansenii [1617]",
         "rawType": "object",
         "type": "string"
        },
        {
         "name": "[Ruminococcus] obeum [1618]",
         "rawType": "object",
         "type": "string"
        },
        {
         "name": "[Ruminococcus] obeum [1619]",
         "rawType": "object",
         "type": "string"
        },
        {
         "name": "unnamed Ruminococcus sp. 5_1_39BFAA [1620]",
         "rawType": "object",
         "type": "string"
        },
        {
         "name": "unnamed Ruminococcus sp. SR1/5 [1621]",
         "rawType": "object",
         "type": "string"
        },
        {
         "name": "Blautia hydrogenotrophica [1622]",
         "rawType": "object",
         "type": "string"
        },
        {
         "name": "unnamed Lachnospiraceae bacterium 3_1_57FAA_CT1 [1624]",
         "rawType": "object",
         "type": "string"
        },
        {
         "name": "[Bacteroides] pectinophilus [1626]",
         "rawType": "object",
         "type": "string"
        },
        {
         "name": "Eubacterium eligens [1627]",
         "rawType": "object",
         "type": "string"
        },
        {
         "name": "Butyrivibrio crossotus [1628]",
         "rawType": "object",
         "type": "string"
        },
        {
         "name": "Eubacterium ventriosum [1629]",
         "rawType": "object",
         "type": "string"
        },
        {
         "name": "Eubacterium rectale [1630]",
         "rawType": "object",
         "type": "string"
        },
        {
         "name": "Roseburia intestinalis [1631]",
         "rawType": "object",
         "type": "string"
        },
        {
         "name": "Roseburia inulinivorans [1632]",
         "rawType": "object",
         "type": "string"
        },
        {
         "name": "Roseburia hominis [1633]",
         "rawType": "object",
         "type": "string"
        },
        {
         "name": "Pyramidobacter piscolens [1641]",
         "rawType": "object",
         "type": "string"
        },
        {
         "name": "Mitsuokella multacida [1653]",
         "rawType": "object",
         "type": "string"
        },
        {
         "name": "Selenomonas sputigena [1654]",
         "rawType": "object",
         "type": "string"
        },
        {
         "name": "Acidaminococcus intestini [1657]",
         "rawType": "object",
         "type": "string"
        },
        {
         "name": "Acidaminococcus fermentans [1658]",
         "rawType": "object",
         "type": "string"
        },
        {
         "name": "Phascolarctobacterium succinatutens [1659]",
         "rawType": "object",
         "type": "string"
        },
        {
         "name": "Campylobacter hominis [1719]",
         "rawType": "object",
         "type": "string"
        },
        {
         "name": "Campylobacter rectus [1720]",
         "rawType": "object",
         "type": "string"
        },
        {
         "name": "Campylobacter concisus [1722]",
         "rawType": "object",
         "type": "string"
        },
        {
         "name": "Campylobacter gracilis [1724]",
         "rawType": "object",
         "type": "string"
        },
        {
         "name": "Pseudomonas putida [222]",
         "rawType": "object",
         "type": "string"
        },
        {
         "name": "Pseudomonas aeruginosa [236]",
         "rawType": "object",
         "type": "string"
        },
        {
         "name": "Aggregatibacter aphrophilus [319]",
         "rawType": "object",
         "type": "string"
        },
        {
         "name": "Aggregatibacter segnis [320]",
         "rawType": "object",
         "type": "string"
        },
        {
         "name": "Haemophilus influenzae [323]",
         "rawType": "object",
         "type": "string"
        },
        {
         "name": "Haemophilus haemolyticus [324]",
         "rawType": "object",
         "type": "string"
        },
        {
         "name": "Haemophilus haemolyticus [325]",
         "rawType": "object",
         "type": "string"
        },
        {
         "name": "Haemophilus parainfluenzae [326]",
         "rawType": "object",
         "type": "string"
        },
        {
         "name": "Haemophilus pittmaniae [327]",
         "rawType": "object",
         "type": "string"
        },
        {
         "name": "unnamed Enterobacteriaceae bacterium 9_2_54FAA [374]",
         "rawType": "object",
         "type": "string"
        },
        {
         "name": "Enterobacter hormaechei/cloacae [384]",
         "rawType": "object",
         "type": "string"
        },
        {
         "name": "Enterobacter cloacae [385]",
         "rawType": "object",
         "type": "string"
        },
        {
         "name": "Enterobacter cloacae [386]",
         "rawType": "object",
         "type": "string"
        },
        {
         "name": "Enterobacter cancerogenus [387]",
         "rawType": "object",
         "type": "string"
        },
        {
         "name": "Enterobacter asburiae [388]",
         "rawType": "object",
         "type": "string"
        },
        {
         "name": "Escherichia coli [390]",
         "rawType": "object",
         "type": "string"
        },
        {
         "name": "Escherichia albertii [391]",
         "rawType": "object",
         "type": "string"
        },
        {
         "name": "unnamed Citrobacter sp. 30_2 [392]",
         "rawType": "object",
         "type": "string"
        },
        {
         "name": "Citrobacter youngae [393]",
         "rawType": "object",
         "type": "string"
        },
        {
         "name": "Salmonella enterica [394]",
         "rawType": "object",
         "type": "string"
        },
        {
         "name": "Citrobacter koseri [397]",
         "rawType": "object",
         "type": "string"
        },
        {
         "name": "Klebsiella variicola/pneumoniae [399]",
         "rawType": "object",
         "type": "string"
        },
        {
         "name": "Enterobacter aerogenes [400]",
         "rawType": "object",
         "type": "string"
        },
        {
         "name": "Klebsiella oxytoca [401]",
         "rawType": "object",
         "type": "string"
        },
        {
         "name": "Succinatimonas hippei [425]",
         "rawType": "object",
         "type": "string"
        },
        {
         "name": "Neisseria sicca/macacae [437]",
         "rawType": "object",
         "type": "string"
        },
        {
         "name": "unnamed Neisseria sp. oral taxon 014 [439]",
         "rawType": "object",
         "type": "string"
        },
        {
         "name": "Neisseria meningitidis [442]",
         "rawType": "object",
         "type": "string"
        },
        {
         "name": "Eikenella corrodens [448]",
         "rawType": "object",
         "type": "string"
        },
        {
         "name": "Parasutterella excrementihominis [468]",
         "rawType": "object",
         "type": "string"
        },
        {
         "name": "Sutterella wadsworthensis [469]",
         "rawType": "object",
         "type": "string"
        },
        {
         "name": "Desulfovibrio piger [751]",
         "rawType": "object",
         "type": "string"
        },
        {
         "name": "unnamed Desulfovibrio sp. 3_1_syn3 [752]",
         "rawType": "object",
         "type": "string"
        },
        {
         "name": "Bilophila wadsworthia [756]",
         "rawType": "object",
         "type": "string"
        },
        {
         "name": "Atopobium parvulum [808]",
         "rawType": "object",
         "type": "string"
        },
        {
         "name": "Atopobium rimae [809]",
         "rawType": "object",
         "type": "string"
        },
        {
         "name": "Collinsella stercoris [812]",
         "rawType": "object",
         "type": "string"
        },
        {
         "name": "Collinsella intestinalis [813]",
         "rawType": "object",
         "type": "string"
        },
        {
         "name": "Collinsella aerofaciens [814]",
         "rawType": "object",
         "type": "string"
        },
        {
         "name": "Olsenella uli [816]",
         "rawType": "object",
         "type": "string"
        },
        {
         "name": "Eggerthella lenta [817]",
         "rawType": "object",
         "type": "string"
        },
        {
         "name": "unnamed Eggerthella sp. YY7918 [818]",
         "rawType": "object",
         "type": "string"
        },
        {
         "name": "Slackia exigua [820]",
         "rawType": "object",
         "type": "string"
        },
        {
         "name": "Cryptobacterium curtum [821]",
         "rawType": "object",
         "type": "string"
        },
        {
         "name": "Propionibacterium acnes [823]",
         "rawType": "object",
         "type": "string"
        },
        {
         "name": "Propionibacterium freudenreichii [825]",
         "rawType": "object",
         "type": "string"
        },
        {
         "name": "Corynebacterium variabile [829]",
         "rawType": "object",
         "type": "string"
        },
        {
         "name": "Actinomyces odontolyticus [878]",
         "rawType": "object",
         "type": "string"
        },
        {
         "name": "unnamed Actinomyces sp. oral taxon 180 [879]",
         "rawType": "object",
         "type": "string"
        },
        {
         "name": "Actinomyces viscosus [880]",
         "rawType": "object",
         "type": "string"
        },
        {
         "name": "unnamed Actinomyces sp. oral taxon 170 [881]",
         "rawType": "object",
         "type": "string"
        },
        {
         "name": "unnamed Actinomyces sp. oral taxon 448 [883]",
         "rawType": "object",
         "type": "string"
        },
        {
         "name": "unnamed Actinomyces sp. oral taxon 848 [897]",
         "rawType": "object",
         "type": "string"
        },
        {
         "name": "Methanobrevibacter smithii [92]",
         "rawType": "object",
         "type": "string"
        },
        {
         "name": "Methanosphaera stadtmanae [94]",
         "rawType": "object",
         "type": "string"
        },
        {
         "name": "Brevibacterium linens [949]",
         "rawType": "object",
         "type": "string"
        },
        {
         "name": "Rothia mucilaginosa [955]",
         "rawType": "object",
         "type": "string"
        },
        {
         "name": "Rothia dentocariosa [956]",
         "rawType": "object",
         "type": "string"
        },
        {
         "name": "Micrococcus luteus [961]",
         "rawType": "object",
         "type": "string"
        },
        {
         "name": "Bifidobacterium animalis [967]",
         "rawType": "object",
         "type": "string"
        },
        {
         "name": "Bifidobacterium bifidum [968]",
         "rawType": "object",
         "type": "string"
        },
        {
         "name": "Bifidobacterium breve [969]",
         "rawType": "object",
         "type": "string"
        },
        {
         "name": "Bifidobacterium longum [970]",
         "rawType": "object",
         "type": "string"
        },
        {
         "name": "Bifidobacterium dentium [971]",
         "rawType": "object",
         "type": "string"
        },
        {
         "name": "Bifidobacterium adolescentis [972]",
         "rawType": "object",
         "type": "string"
        },
        {
         "name": "Bifidobacterium catenulatum-Bifidobacterium pseudocatenulatum complex [973]",
         "rawType": "object",
         "type": "string"
        },
        {
         "name": "Bifidobacterium angulatum [974]",
         "rawType": "object",
         "type": "string"
        },
        {
         "name": "Parascardovia denticolens [976]",
         "rawType": "object",
         "type": "string"
        },
        {
         "name": "Scardovia inopinata [977]",
         "rawType": "object",
         "type": "string"
        },
        {
         "name": "target",
         "rawType": "object",
         "type": "string"
        }
       ],
       "conversionMethod": "pd.DataFrame",
       "ref": "fc8826b2-eba4-439e-9a2a-f38fdbe2d472",
       "rows": [
        [
         "0",
         "-1.3925618",
         "2.5960073",
         "0.2726408",
         "1.2961415",
         "-1.4707574",
         "-0.648682",
         "-0.37029198",
         "-0.21693194",
         "-0.3691239",
         "-0.29134834",
         "5.2518468",
         "-0.30996516",
         "-0.33015883",
         "-0.3449036",
         "9.58644772",
         "1.706093",
         "-3.0151012",
         "2.6366351",
         "0.6558876038",
         "2.576761",
         "-0.8972989",
         "-0.73004854",
         "2.69251",
         "1.66627",
         "2.7744550705",
         "-4.068845",
         "0.1424354",
         "-3.6899602",
         "1.7605021",
         "-3.2271476",
         "0.377616495",
         "-3.260651",
         "5.1400023",
         "0.832573593",
         "1.3565756",
         "3.7530444",
         "-1.6623136",
         "-0.61283034",
         "-0.18420044",
         "0.9453245",
         "-3.0679064",
         "-2.4027288",
         "-3.61267",
         "-2.269252",
         "2.474506",
         "-1.2069019",
         "-0.64349616",
         "1.935109",
         "-2.1347554",
         "-1.9225285",
         "-0.95729744",
         "-2.2046988",
         "1.5672375",
         "-2.4741955",
         "-0.5796131",
         "1.1458366",
         "-0.71598667",
         "-0.7816566",
         "-3.1487396",
         "-1.8351799",
         "-0.78114015",
         "-0.83031285",
         "-2.9411898",
         "-1.7464348",
         "-0.31708023",
         "-0.59332633",
         "-2.3948064",
         "-0.33367234",
         "-0.2745583",
         "-2.803777",
         "-2.1237457",
         "-0.23187797",
         "4.268631",
         "4.3100028",
         "-0.73729527",
         "-2.1638978",
         "0.867737",
         "-4.217369",
         "-6.2944927",
         "-2.8090553",
         "-1.6997513",
         "-0.7252662",
         "-0.62127346",
         "-0.26751888",
         "-2.558106",
         "-2.5808284",
         "-2.0448172",
         "-1.5503454",
         "-2.6367838",
         "-2.9678178",
         "-0.82553166",
         "-2.3372326",
         "-1.088756",
         "-2.5392756",
         "-1.7940364",
         "-1.6735113",
         "-1.4810685",
         "-1.6537749",
         "-1.4729539",
         "-1.0777304",
         "-1.0546625",
         "-2.8099518",
         "-1.7457821",
         "-1.5696142",
         "-1.7414312",
         "-1.3996141",
         "-3.0215836",
         "-1.7883285",
         "-2.521766",
         "-1.765451",
         "-1.5335511",
         "-3.4973257",
         "-5.1944823",
         "-0.4672576",
         "-0.22457711",
         "-1.988951",
         "-0.16240211",
         "-0.20112544",
         "-0.18714438",
         "-1.7072419",
         "-0.51519406",
         "-1.7124258",
         "-0.4973692",
         "-1.6878432",
         "-0.6919948",
         "-0.73271203",
         "-0.3993603",
         "-0.68959403",
         "-0.5467343",
         "-0.7789258",
         "-0.5796193",
         "-0.7684102",
         "-0.27983707",
         "-0.19294177",
         "-0.5504862",
         "-0.12597659",
         "12.07607841",
         "-0.35008353",
         "-0.74933255",
         "-0.51206374",
         "-0.7240204",
         "4.3139238",
         "-0.7048791",
         "-0.43908215",
         "-0.13838589",
         "-0.44566095",
         "-0.38037473",
         "6.40112352",
         "-0.64321065",
         "-0.42483175",
         "-0.3905528",
         "-2.8055212",
         "-1.1191962",
         "-1.1007005",
         "-2.0864613",
         "5.0262175",
         "-0.36794305",
         "-4.3847365",
         "-0.61127174",
         "-1.1229062",
         "-0.18613659",
         "-0.19970411",
         "-0.3398163",
         "-0.36310133",
         "-0.48611453",
         "-5.4815145",
         "-0.9315293",
         "3.5162267685",
         "4.220201",
         "-0.89695424",
         "-4.9411664",
         "1.071595",
         "-1.339546919",
         "-2.44711113",
         "-0.408437043",
         "-3.1383896",
         "0.80136",
         "-0.689435",
         "3.5124671",
         "-1.3637832",
         "-0.14989391",
         "-0.801828",
         "3.1399531",
         "1.4989929",
         "2.429592",
         "-0.281886",
         "-1.1193393",
         "-1.00081",
         "2.800137",
         "-1.8833683",
         "-2.5013654",
         "-1.398143",
         "-0.7881002",
         "0.9648267",
         "0.380558",
         "-1.9861933",
         "-0.5493395",
         "2.5341599",
         "1.1165156",
         "2.2212839",
         "2.1100209",
         "4.0833163",
         "-0.60686046",
         "-0.66766495",
         "1.4979395",
         "-0.47151324",
         "-0.806866",
         "0.4450948",
         "0.417268097",
         "1.60314703",
         "6.0891647",
         "-3.1812727",
         "-1.1708895",
         "0.1207397",
         "2.797432",
         "1.5241321",
         "0.7740527391",
         "0.746101",
         "1.4396886",
         "-5.0377707",
         "-0.39740565",
         "-1.1055416",
         "-0.2478329",
         "4.3858638",
         "-1.53142",
         "0.8321316",
         "-0.20515946",
         "-0.17914912",
         "-0.22216345",
         "-0.18066964",
         "-0.15748206",
         "-0.3101991",
         "-0.22930391",
         "-0.5033588",
         "-1.2722142",
         "-0.97779924",
         "-0.35301238",
         "1.2047588",
         "-0.9237435",
         "-1.167283",
         "-0.85748804",
         "-0.2786835",
         "-0.5343323",
         "-0.21314047",
         "-0.19497812",
         "-6.4938574",
         "-0.50220174",
         "-0.6222097",
         "-0.30535263",
         "-0.34680873",
         "-0.22341275",
         "-1.0515778",
         "-0.5874149",
         "-0.78283966",
         "-0.23764348",
         "-0.1712906",
         "-0.09108007",
         "-0.1873477",
         "-0.14248401",
         "-4.140045",
         "-1.9643172",
         "-2.8465185",
         "-0.4330141",
         "-5.764247",
         "-0.8297274",
         "-0.955081",
         "3.3330967",
         "5.5499735",
         "0.3322053",
         "-1.1386352",
         "-0.02068",
         "-0.7315222",
         "-1.0681885",
         "-0.38779604",
         "-0.674328",
         "-1.01098",
         "-0.21183236",
         "-3.6949227",
         "-1.3880084",
         "-2.5431507",
         "-1.312526",
         "-1.2799201",
         "-0.53699106",
         "2.448448",
         "-0.774693",
         "-0.13161792",
         "-2.4697223",
         "-1.1129755",
         "5.37959814",
         "-1.6025724",
         "2.3052354",
         "-1.0744432",
         "-0.585362",
         "-2.7292001",
         "-0.23809",
         "1.3244883",
         "2.6235359",
         "-0.4624842",
         "-0.31181964",
         "0.0"
        ],
        [
         "0",
         "-1.3925618",
         "-0.5483761",
         "1.8003366",
         "2.8619192",
         "2.7115362",
         "-0.648682",
         "-0.37029198",
         "-0.21693194",
         "-0.3691239",
         "0.1859421",
         "4.1397805",
         "-0.30996516",
         "-0.33015883",
         "-0.3449036",
         "-0.40449253",
         "-2.127697",
         "-3.0151012",
         "-2.1740034",
         "1.8157675266",
         "0.660552",
         "5.1196799",
         "0.40444991",
         "2.29858",
         "0.6917",
         "-1.433462739",
         "5.504205",
         "-2.1953504",
         "0.6464634",
         "-3.8155296",
         "-2.7111905",
         "2.842068434",
         "0.999425",
         "4.2386112",
         "0.828336656",
         "-3.4538696",
         "-1.3631432",
         "-0.7736088",
         "0.81815267",
         "-0.18420044",
         "1.6244632",
         "-3.0679064",
         "-0.1668964",
         "-1.70645",
         "-0.366317",
         "-2.368124",
         "-1.2069019",
         "1.08051682",
         "0.393479",
         "-0.2204873",
         "-1.9225285",
         "-0.95729744",
         "-2.2046988",
         "6.9702864",
         "-2.4741955",
         "-0.5796131",
         "-0.3217152",
         "-0.71598667",
         "-0.7816566",
         "0.7228166",
         "-1.8351799",
         "-0.78114015",
         "-0.83031285",
         "-1.7182676",
         "1.270252",
         "-0.31708023",
         "-0.59332633",
         "-2.3948064",
         "-0.33367234",
         "-0.2745583",
         "-2.803777",
         "-2.1237457",
         "-0.23187797",
         "-3.6091323",
         "-0.2680928",
         "-0.73729527",
         "-2.1638978",
         "-6.327906",
         "-2.407528",
         "-3.3048217",
         "-2.8090553",
         "1.5534461",
         "-0.7252662",
         "-0.62127346",
         "-0.26751888",
         "-2.458705",
         "-3.1744795",
         "-2.0448172",
         "-1.5503454",
         "-0.4562634",
         "-1.088717",
         "-0.82553166",
         "-1.1479917",
         "-1.088756",
         "0.3407555",
         "-1.7940364",
         "-1.6735113",
         "-0.9813026",
         "-1.6537749",
         "-1.4729539",
         "-1.0777304",
         "-0.5657241",
         "-2.8099518",
         "-1.7457821",
         "-1.5696142",
         "-1.7414312",
         "-1.3996141",
         "-3.0215836",
         "-1.7883285",
         "-2.521766",
         "-1.765451",
         "-1.5335511",
         "-3.4973257",
         "-2.4341772",
         "-0.4672576",
         "-0.22457711",
         "-1.988951",
         "-0.16240211",
         "-0.20112544",
         "-0.18714438",
         "-1.7072419",
         "-0.51519406",
         "-1.7124258",
         "-0.4973692",
         "-1.6878432",
         "-0.6919948",
         "-0.73271203",
         "-0.3993603",
         "-0.68959403",
         "-0.5467343",
         "-0.7789258",
         "-0.5796193",
         "-0.7684102",
         "-0.27983707",
         "-0.19294177",
         "-0.5504862",
         "-0.12597659",
         "-0.36611786",
         "-0.35008353",
         "0.45779005",
         "0.29674858",
         "-0.6127164",
         "3.3177826",
         "1.6702636",
         "-0.43908215",
         "-0.13838589",
         "-0.44566095",
         "-0.38037473",
         "-0.13717245",
         "2.29829097",
         "-0.42483175",
         "-0.3905528",
         "3.717335",
         "3.2000353",
         "1.2971374",
         "3.9221444",
         "-0.5039909",
         "-0.36794305",
         "-4.3847365",
         "-0.61127174",
         "-1.1229062",
         "-0.18613659",
         "-0.19970411",
         "-0.3398163",
         "-0.36310133",
         "-0.48611453",
         "0.3986326",
         "-0.9315293",
         "-5.7430963516",
         "4.340604",
         "-0.89695424",
         "-1.4336534",
         "-2.71048",
         "-0.939923704",
         "0.950554788",
         "-1.512443423",
         "-0.0457647",
         "0.53063",
         "-0.145921",
         "-1.1198363",
         "-1.3637832",
         "-0.14989391",
         "0.580366",
         "-3.1137254",
         "-3.4554348",
         "-0.156997",
         "-2.451228",
         "-1.1193393",
         "-7.098074",
         "2.394511",
         "2.1355054",
         "1.8918157",
         "-1.398143",
         "1.1169498",
         "-0.6717355",
         "-0.163322",
         "-1.9861933",
         "-0.5493395",
         "3.12255454",
         "-5.3079424",
         "1.0174346",
         "0.670146",
         "1.9152362",
         "0.622347",
         "-0.66766495",
         "0.0403783",
         "-0.47151324",
         "0.352901",
         "-5.5215416",
         "-0.235766187",
         "-1.706342936",
         "-1.5316762",
         "1.6457701",
         "-1.1708895",
         "0.5167783",
         "-3.133582",
         "1.854117",
         "2.758238554",
         "-0.164979",
         "1.1425381",
         "-0.2105862",
         "-0.39740565",
         "-1.1055416",
         "-0.2478329",
         "-1.3172696",
         "-1.53142",
         "6.025486",
         "-0.20515946",
         "-0.17914912",
         "-0.22216345",
         "-0.18066964",
         "-0.15748206",
         "-0.3101991",
         "-0.22930391",
         "-0.5033588",
         "-1.2722142",
         "-0.97779924",
         "-0.35301238",
         "-3.2162912",
         "-0.9237435",
         "-1.167283",
         "-0.85748804",
         "-0.2786835",
         "-0.5343323",
         "-0.21314047",
         "-0.19497812",
         "-6.4938574",
         "-0.50220174",
         "-0.6222097",
         "-0.30535263",
         "-0.34680873",
         "-0.22341275",
         "-1.0515778",
         "-0.5874149",
         "-0.78283966",
         "-0.23764348",
         "-0.1712906",
         "-0.09108007",
         "-0.1873477",
         "-0.14248401",
         "2.490684",
         "6.4100041",
         "-2.8465185",
         "-0.4330141",
         "2.530349",
         "-0.8297274",
         "-0.955081",
         "-1.1456237",
         "-1.2046802",
         "-0.8770202",
         "0.2926488",
         "0.172582",
         "-0.7315222",
         "-1.0681885",
         "-0.38779604",
         "-0.674328",
         "-1.01098",
         "-0.21183236",
         "-3.6949227",
         "-1.3880084",
         "-2.5431507",
         "-1.312526",
         "0.5013446",
         "-0.53699106",
         "-4.259306",
         "-0.774693",
         "-0.13161792",
         "-2.4697223",
         "-1.1129755",
         "-0.09444879",
         "-1.6025724",
         "-0.2381356",
         "-1.0744432",
         "0.757404",
         "-2.7292001",
         "-1.525136",
         "0.4966835",
         "-2.0949483",
         "1.2733662",
         "-0.31181964",
         "0.0"
        ],
        [
         "0",
         "4.060926",
         "5.8407087",
         "1.027295",
         "-0.3991702",
         "-0.2232277",
         "3.177045",
         "0.83171743",
         "0.72164696",
         "-0.3691239",
         "-0.29134834",
         "-0.4537924",
         "-0.30996516",
         "0.64020813",
         "-0.3449036",
         "-0.40449253",
         "1.676552",
         "2.3281107",
         "1.3076963",
         "1.7818263769",
         "1.360997",
         "1.5997932",
         "-0.73004854",
         "1.96795",
         "-0.49107",
         "2.094918251",
         "-0.203394",
         "0.1980111",
         "-1.4318163",
         "1.8110923",
         "-3.2271476",
         "1.662350774",
         "1.596422",
         "1.3285273",
         "0.397979528",
         "1.5662856",
         "-1.3631432",
         "-1.6623136",
         "-0.61283034",
         "-0.18420044",
         "-0.2215892",
         "4.4159651",
         "-2.4027288",
         "-1.32041",
         "-2.269252",
         "-2.368124",
         "-1.2069019",
         "-0.64349616",
         "-2.931382",
         "-2.1347554",
         "-1.9225285",
         "-0.95729744",
         "-2.2046988",
         "1.0205699",
         "-2.4741955",
         "-0.5796131",
         "3.4007308",
         "-0.71598667",
         "-0.7816566",
         "-3.1487396",
         "-1.8351799",
         "-0.78114015",
         "-0.83031285",
         "-2.9411898",
         "-1.7464348",
         "-0.31708023",
         "-0.59332633",
         "-2.3948064",
         "-0.33367234",
         "-0.2745583",
         "-2.803777",
         "-0.0728586",
         "-0.23187797",
         "1.4665931",
         "-2.1157644",
         "-0.73729527",
         "-2.1638978",
         "-2.329001",
         "-2.561392",
         "-6.2944927",
         "-2.8090553",
         "-1.6997513",
         "-0.7252662",
         "-0.62127346",
         "-0.26751888",
         "-2.558106",
         "1.4304315",
         "-2.0448172",
         "-1.5503454",
         "-2.6367838",
         "-2.9678178",
         "-0.82553166",
         "-2.3372326",
         "-1.088756",
         "-0.0894371",
         "-1.7940364",
         "-1.6735113",
         "-1.4810685",
         "-1.6537749",
         "-1.4729539",
         "-1.0777304",
         "-1.0546625",
         "-2.8099518",
         "-1.7457821",
         "-1.5696142",
         "-1.7414312",
         "-1.3996141",
         "-3.0215836",
         "-1.7883285",
         "-2.521766",
         "-1.765451",
         "-1.5335511",
         "-3.4973257",
         "-5.1944823",
         "-0.4672576",
         "-0.22457711",
         "-1.988951",
         "-0.16240211",
         "-0.20112544",
         "-0.18714438",
         "-1.7072419",
         "-0.51519406",
         "-1.7124258",
         "-0.4973692",
         "-0.0839341",
         "0.9059213",
         "-0.73271203",
         "-0.3993603",
         "2.25669861",
         "-0.5467343",
         "-0.7789258",
         "-0.5796193",
         "-0.7684102",
         "-0.27983707",
         "-0.19294177",
         "-0.5504862",
         "-0.12597659",
         "-0.36611786",
         "1.43574643",
         "-0.74933255",
         "-0.51206374",
         "-0.7240204",
         "-1.2097816",
         "-0.7048791",
         "-0.43908215",
         "-0.13838589",
         "-0.44566095",
         "-0.38037473",
         "-0.13717245",
         "-0.64321065",
         "-0.42483175",
         "-0.3905528",
         "-2.8055212",
         "-1.1191962",
         "-1.1007005",
         "-2.0864613",
         "-0.5039909",
         "-0.36794305",
         "-4.3847365",
         "-0.61127174",
         "-1.1229062",
         "-0.18613659",
         "-0.19970411",
         "-0.3398163",
         "-0.36310133",
         "-0.48611453",
         "3.7214653",
         "0.2786107",
         "-0.3420085013",
         "-1.705795",
         "-0.89695424",
         "1.2582151",
         "1.118425",
         "0.541495442",
         "-0.611006796",
         "0.569541812",
         "-0.1576278",
         "0.81427",
         "1.331626",
         "-0.1419132",
         "4.5020537",
         "-0.14989391",
         "-0.801828",
         "-0.1697332",
         "-3.4554348",
         "0.139758",
         "-3.358106",
         "-1.1193393",
         "-3.880107",
         "1.799692",
         "-0.2912134",
         "-2.5013654",
         "0.652759",
         "-1.9262813",
         "-3.3929646",
         "-1.097389",
         "-1.9861933",
         "-0.5493395",
         "-3.19849324",
         "-5.3079424",
         "-0.4597954",
         "-4.8569508",
         "-2.1529753",
         "-0.60686046",
         "-0.66766495",
         "-0.6218847",
         "-0.47151324",
         "-1.021363",
         "0.3684847",
         "-4.90458107",
         "-0.936703444",
         "-1.5316762",
         "-1.5851488",
         "5.7919683",
         "-1.9549156",
         "-3.133582",
         "-5.7090406",
         "-2.5864460468",
         "-4.107607",
         "-7.1067095",
         "-1.1662649",
         "-0.39740565",
         "-1.1055416",
         "-0.2478329",
         "-1.3172696",
         "-1.53142",
         "-3.4644334",
         "-0.20515946",
         "-0.17914912",
         "-0.22216345",
         "-0.18066964",
         "2.63036132",
         "-0.3101991",
         "-0.22930391",
         "-0.5033588",
         "-1.2722142",
         "-0.97779924",
         "-0.35301238",
         "-3.2162912",
         "-0.9237435",
         "-1.167283",
         "-0.85748804",
         "-0.2786835",
         "-0.5343323",
         "-0.21314047",
         "-0.19497812",
         "5.4822335",
         "-0.50220174",
         "-0.6222097",
         "-0.30535263",
         "0.71620333",
         "-0.22341275",
         "-1.0515778",
         "-0.5874149",
         "-0.78283966",
         "-0.23764348",
         "-0.1712906",
         "-0.09108007",
         "-0.1873477",
         "-0.14248401",
         "1.615381",
         "-1.9643172",
         "-2.8465185",
         "-0.4330141",
         "2.400768",
         "-0.8297274",
         "-0.955081",
         "-1.1456237",
         "-1.2046802",
         "1.4844506",
         "-1.1386352",
         "1.0107718",
         "0.7376038",
         "-1.0681885",
         "-0.38779604",
         "2.078079",
         "-1.01098",
         "-0.21183236",
         "-3.6949227",
         "-1.3880084",
         "-1.0356426",
         "-1.312526",
         "-1.2799201",
         "-0.53699106",
         "1.302184",
         "-0.774693",
         "-0.13161792",
         "-0.2221737",
         "-1.1129755",
         "-0.09444879",
         "-0.3138499",
         "5.135869",
         "-0.0267243",
         "3.780432",
         "2.3585169",
         "3.188324",
         "-0.2514397",
         "-0.6094009",
         "1.6135049",
         "-0.31181964",
         "0.0"
        ],
        [
         "0",
         "-1.3925618",
         "-1.1396621",
         "-2.0101523",
         "-1.4717476",
         "-2.3619301",
         "-0.648682",
         "-0.37029198",
         "-0.21693194",
         "-0.3691239",
         "-0.29134834",
         "-0.4537924",
         "-0.30996516",
         "-0.33015883",
         "-0.3449036",
         "2.64003491",
         "-0.137999",
         "-3.0151012",
         "-2.1740034",
         "-3.21601367",
         "-3.526766",
         "5.2365217",
         "-0.73004854",
         "-1.92906",
         "3.10871",
         "3.5024950504",
         "7.295048",
         "-6.0527034",
         "2.1295094",
         "-1.1060483",
         "-3.2271476",
         "2.223986387",
         "3.37298",
         "0.3625371",
         "2.666577816",
         "0.3154476",
         "-1.3631432",
         "-1.6623136",
         "-0.61283034",
         "-0.18420044",
         "-6.8136516",
         "-3.0679064",
         "2.4660482",
         "0.42999",
         "2.205231",
         "1.175549",
         "5.952879",
         "-0.64349616",
         "1.295651",
         "-2.1347554",
         "-1.9225285",
         "-0.95729744",
         "-2.2046988",
         "-2.6445684",
         "-2.4741955",
         "-0.5796131",
         "2.4269848",
         "-0.71598667",
         "-0.7816566",
         "-3.1487396",
         "-1.8351799",
         "-0.78114015",
         "-0.83031285",
         "0.8760093",
         "-1.7464348",
         "-0.31708023",
         "-0.59332633",
         "-2.3948064",
         "-0.33367234",
         "-0.2745583",
         "-2.803777",
         "-2.1237457",
         "-0.23187797",
         "-3.6091323",
         "-2.1157644",
         "-0.73729527",
         "-2.1638978",
         "0.10048",
         "-1.143403",
         "0.3779985",
         "-2.8090553",
         "4.6308537",
         "-0.7252662",
         "2.48861241",
         "-0.26751888",
         "-2.558106",
         "-2.5808284",
         "1.8277742",
         "-1.5503454",
         "0.4208265",
         "-2.9678178",
         "-0.82553166",
         "-2.3372326",
         "-1.088756",
         "-0.4793711",
         "0.0856098",
         "-1.6735113",
         "1.5875428",
         "2.1237566",
         "-1.4729539",
         "2.7048194",
         "-1.0546625",
         "-2.8099518",
         "-1.7457821",
         "-1.5696142",
         "-1.7414312",
         "-1.3996141",
         "0.7658154",
         "-1.7883285",
         "-2.521766",
         "-1.765451",
         "-1.5335511",
         "-3.4973257",
         "-0.911944",
         "-0.4672576",
         "-0.22457711",
         "-1.988951",
         "-0.16240211",
         "-0.20112544",
         "-0.18714438",
         "-1.7072419",
         "-0.51519406",
         "-1.7124258",
         "-0.4973692",
         "-1.6878432",
         "-0.6919948",
         "-0.73271203",
         "-0.3993603",
         "-0.68959403",
         "-0.5467343",
         "-0.7789258",
         "3.3083146",
         "2.3529377",
         "-0.27983707",
         "-0.19294177",
         "-0.5504862",
         "-0.12597659",
         "-0.36611786",
         "-0.35008353",
         "-0.74933255",
         "-0.51206374",
         "-0.7240204",
         "-1.2097816",
         "-0.7048791",
         "-0.43908215",
         "-0.13838589",
         "-0.44566095",
         "-0.38037473",
         "-0.13717245",
         "-0.64321065",
         "3.29271293",
         "-0.3905528",
         "-2.8055212",
         "-1.1191962",
         "-1.1007005",
         "-2.0864613",
         "-0.5039909",
         "-0.36794305",
         "0.0960261",
         "-0.61127174",
         "-1.1229062",
         "-0.18613659",
         "-0.19970411",
         "-0.3398163",
         "-0.36310133",
         "-0.48611453",
         "-1.1189016",
         "-0.9315293",
         "-1.5109820366",
         "-2.762591",
         "-0.89695424",
         "0.0505591",
         "-3.687577",
         "-2.661097288",
         "-3.706322193",
         "2.348948002",
         "-3.1383896",
         "-0.22708",
         "-4.044923",
         "-1.1198363",
         "-1.3637832",
         "-0.14989391",
         "-0.801828",
         "-3.1137254",
         "-3.4554348",
         "-5.833466",
         "1.028766",
         "5.398809",
         "0.828274",
         "-0.165158",
         "-1.8833683",
         "-2.5013654",
         "-1.398143",
         "2.9291",
         "0.6223099",
         "-1.276099",
         "-1.9861933",
         "-0.5493395",
         "-2.06098175",
         "-5.3079424",
         "-6.6121125",
         "3.7518058",
         "-2.1529753",
         "-0.60686046",
         "5.25025225",
         "-3.4724219",
         "-0.47151324",
         "-0.21807",
         "-5.5215416",
         "0.500859916",
         "-1.681176305",
         "-1.5316762",
         "-3.1812727",
         "-1.1708895",
         "-3.1887088",
         "-3.133582",
         "-5.7090406",
         "1.6360595226",
         "-5.716337",
         "1.302913",
         "-5.0377707",
         "-0.39740565",
         "-1.1055416",
         "-0.2478329",
         "3.5881574",
         "-1.53142",
         "-3.4644334",
         "-0.20515946",
         "-0.17914912",
         "-0.22216345",
         "-0.18066964",
         "-0.15748206",
         "-0.3101991",
         "-0.22930391",
         "-0.5033588",
         "1.5991274",
         "2.99021482",
         "-0.6659987",
         "2.5217471",
         "-0.9237435",
         "-1.167283",
         "-0.85748804",
         "-0.2786835",
         "-0.5343323",
         "-0.21314047",
         "-0.19497812",
         "0.2049631",
         "-0.50220174",
         "-0.6222097",
         "-0.30535263",
         "-0.34680873",
         "-0.22341275",
         "-1.0515778",
         "-0.5874149",
         "-0.78283966",
         "-0.23764348",
         "-0.1712906",
         "-0.09108007",
         "-0.1873477",
         "-0.14248401",
         "-1.525345",
         "-1.9643172",
         "1.0776094",
         "-0.4330141",
         "-5.764247",
         "-0.8297274",
         "-0.955081",
         "-1.1456237",
         "-1.2046802",
         "2.3400755",
         "-1.1386352",
         "1.1267443",
         "-0.7315222",
         "-1.0681885",
         "-0.38779604",
         "-0.674328",
         "-1.01098",
         "-0.21183236",
         "-0.6781511",
         "-1.3880084",
         "-2.5431507",
         "-1.312526",
         "-1.2799201",
         "-0.53699106",
         "-5.352411",
         "-0.774693",
         "-0.13161792",
         "-2.4697223",
         "-1.1129755",
         "-0.09444879",
         "-1.6025724",
         "5.7065363",
         "3.8999512",
         "3.153469",
         "1.5425001",
         "2.868416",
         "5.0884075",
         "1.445936",
         "-0.4624842",
         "-0.31181964",
         "0.0"
        ],
        [
         "0",
         "1.5887978",
         "2.6953855",
         "-2.6713111",
         "-0.7949058",
         "2.8986728",
         "0.308279",
         "-0.1064781",
         "-0.21693194",
         "-0.3691239",
         "0.38246113",
         "-0.4537924",
         "-0.30996516",
         "-0.33015883",
         "-0.3449036",
         "-0.40449253",
         "-1.000742",
         "5.2324419",
         "4.6781812",
         "0.5959538817",
         "2.450909",
         "-5.0724783",
         "-0.73004854",
         "-6.93902",
         "-0.61315",
         "0.4619990885",
         "-4.068845",
         "3.9115281",
         "6.0094004",
         "-3.6718779",
         "2.5301211",
         "0.762944579",
         "-0.615086",
         "2.2354245",
         "1.248279214",
         "-3.4538696",
         "-1.3631432",
         "1.2969723",
         "-0.61283034",
         "-0.18420044",
         "1.7211355",
         "-3.0679064",
         "-0.0034701",
         "0.50534",
         "-2.269252",
         "-2.368124",
         "-1.2069019",
         "-0.64349616",
         "1.736193",
         "-2.1347554",
         "-1.9225285",
         "-0.95729744",
         "-2.2046988",
         "-2.6445684",
         "-2.4741955",
         "-0.5796131",
         "1.3771327",
         "-0.71598667",
         "-0.7816566",
         "2.1973827",
         "-1.8351799",
         "-0.78114015",
         "-0.83031285",
         "-2.9411898",
         "-1.7464348",
         "-0.31708023",
         "-0.59332633",
         "-2.3948064",
         "-0.33367234",
         "-0.2745583",
         "-2.803777",
         "-2.1237457",
         "-0.23187797",
         "-0.2261177",
         "-2.1157644",
         "-0.73729527",
         "-2.1638978",
         "-4.2891",
         "-2.17672",
         "-4.2564068",
         "-2.8090553",
         "-1.6997513",
         "-0.7252662",
         "-0.62127346",
         "1.76078641",
         "0.014014",
         "0.7578063",
         "-0.6258642",
         "-1.5503454",
         "-2.6367838",
         "-2.9678178",
         "-0.82553166",
         "-0.2551889",
         "-1.088756",
         "-2.5392756",
         "-1.7940364",
         "-1.6735113",
         "-1.8909212",
         "-1.6537749",
         "0.4039541",
         "-1.4914569",
         "-1.0546625",
         "-0.7497605",
         "-1.7457821",
         "-0.2455285",
         "-1.7414312",
         "-1.3996141",
         "-0.9809725",
         "-1.7883285",
         "-2.521766",
         "-1.765451",
         "-1.5335511",
         "-3.4973257",
         "-5.1944823",
         "-0.4672576",
         "-0.22457711",
         "-1.988951",
         "-0.16240211",
         "-0.20112544",
         "-0.18714438",
         "-1.7072419",
         "-0.51519406",
         "1.0469577",
         "-0.4973692",
         "0.1836425",
         "-0.6919948",
         "-0.73271203",
         "-0.3993603",
         "-0.68959403",
         "3.3002119",
         "-0.7789258",
         "-0.5796193",
         "-0.7684102",
         "-0.27983707",
         "-0.19294177",
         "-0.5504862",
         "-0.12597659",
         "-0.36611786",
         "-0.35008353",
         "-0.74933255",
         "-0.51206374",
         "-0.7240204",
         "2.3330107",
         "-0.7048791",
         "-0.43908215",
         "-0.13838589",
         "-0.44566095",
         "-0.38037473",
         "-0.13717245",
         "-0.64321065",
         "-0.42483175",
         "-0.3905528",
         "-2.8055212",
         "-1.1191962",
         "-1.1007005",
         "-2.0864613",
         "-0.5039909",
         "-0.36794305",
         "-0.4846068",
         "-0.61127174",
         "-1.1229062",
         "-0.18613659",
         "-0.19970411",
         "-0.3398163",
         "-0.36310133",
         "-0.48611453",
         "4.2698827",
         "-0.9315293",
         "1.3000725508",
         "3.889718",
         "0.34068915",
         "-0.2487832",
         "0.710835",
         "2.047167063",
         "-0.984692633",
         "1.40158999",
         "1.4843104",
         "0.18843",
         "0.78689",
         "-0.2315958",
         "0.0092371",
         "-0.14989391",
         "-0.801828",
         "-3.1137254",
         "-3.4554348",
         "0.286906",
         "-0.963083",
         "1.0541499",
         "-1.269813",
         "0.884204",
         "3.2026696",
         "0.8439569",
         "-0.384473",
         "0.8977295",
         "-2.4853055",
         "0.51732",
         "-1.9861933",
         "-0.5493395",
         "0.1423334",
         "2.6130345",
         "2.0263505",
         "-2.5141373",
         "-2.1529753",
         "-0.60686046",
         "-0.66766495",
         "-1.399973",
         "-0.47151324",
         "-0.498702",
         "-1.695526",
         "-2.326974392",
         "-3.43890667",
         "-1.5316762",
         "0.3772235",
         "-1.1708895",
         "2.8843808",
         "-3.133582",
         "-4.3065205",
         "0.357862711",
         "0.903609",
         "-0.5766705",
         "2.4348497",
         "-0.39740565",
         "-1.1055416",
         "-0.2478329",
         "-1.3172696",
         "-1.53142",
         "-3.4644334",
         "-0.20515946",
         "-0.17914912",
         "-0.22216345",
         "-0.18066964",
         "-0.15748206",
         "-0.3101991",
         "-0.22930391",
         "-0.5033588",
         "1.0848895",
         "0.6840139",
         "0.80366147",
         "1.6354998",
         "2.0347548",
         "-1.167283",
         "-0.85748804",
         "-0.2786835",
         "1.9095315",
         "-0.21314047",
         "-0.19497812",
         "0.2229611",
         "-0.50220174",
         "-0.6222097",
         "-0.30535263",
         "-0.34680873",
         "-0.22341275",
         "-1.0515778",
         "-0.5874149",
         "-0.78283966",
         "-0.23764348",
         "-0.1712906",
         "-0.09108007",
         "-0.1873477",
         "-0.14248401",
         "2.872851",
         "6.5291953",
         "-2.8465185",
         "-0.4330141",
         "2.083161",
         "-0.8297274",
         "-0.955081",
         "-1.1456237",
         "-1.2046802",
         "-3.8110983",
         "-1.1386352",
         "-0.6609686",
         "-0.7315222",
         "-1.0681885",
         "-0.38779604",
         "1.298008",
         "-1.01098",
         "-0.21183236",
         "-2.4276102",
         "-1.3880084",
         "-2.5431507",
         "-1.312526",
         "1.0899057",
         "-0.53699106",
         "1.67857",
         "-0.774693",
         "-0.13161792",
         "-2.4697223",
         "-1.1129755",
         "-0.09444879",
         "-1.6025724",
         "6.0879245",
         "0.9306861",
         "1.00752",
         "0.9376402",
         "3.257947",
         "3.1315076",
         "1.3579293",
         "2.1745932",
         "-0.31181964",
         "0.0"
        ]
       ],
       "shape": {
        "columns": 300,
        "rows": 5
       }
      },
      "text/html": [
       "<div>\n",
       "<style scoped>\n",
       "    .dataframe tbody tr th:only-of-type {\n",
       "        vertical-align: middle;\n",
       "    }\n",
       "\n",
       "    .dataframe tbody tr th {\n",
       "        vertical-align: top;\n",
       "    }\n",
       "\n",
       "    .dataframe thead th {\n",
       "        text-align: right;\n",
       "    }\n",
       "</style>\n",
       "<table border=\"1\" class=\"dataframe\">\n",
       "  <thead>\n",
       "    <tr style=\"text-align: right;\">\n",
       "      <th></th>\n",
       "      <th>Victivallis vadensis [1000]</th>\n",
       "      <th>Akkermansia muciniphila [1008]</th>\n",
       "      <th>Alistipes shahii [1052]</th>\n",
       "      <th>unnamed Alistipes sp. HGB5 [1053]</th>\n",
       "      <th>Alistipes putredinis [1054]</th>\n",
       "      <th>Porphyromonas asaccharolytica [1056]</th>\n",
       "      <th>Porphyromonas uenonis [1057]</th>\n",
       "      <th>Prevotella buccalis [1059]</th>\n",
       "      <th>Prevotella buccae [1065]</th>\n",
       "      <th>Prevotella dentalis [1067]</th>\n",
       "      <th>...</th>\n",
       "      <th>Bifidobacterium bifidum [968]</th>\n",
       "      <th>Bifidobacterium breve [969]</th>\n",
       "      <th>Bifidobacterium longum [970]</th>\n",
       "      <th>Bifidobacterium dentium [971]</th>\n",
       "      <th>Bifidobacterium adolescentis [972]</th>\n",
       "      <th>Bifidobacterium catenulatum-Bifidobacterium pseudocatenulatum complex [973]</th>\n",
       "      <th>Bifidobacterium angulatum [974]</th>\n",
       "      <th>Parascardovia denticolens [976]</th>\n",
       "      <th>Scardovia inopinata [977]</th>\n",
       "      <th>target</th>\n",
       "    </tr>\n",
       "  </thead>\n",
       "  <tbody>\n",
       "    <tr>\n",
       "      <th>0</th>\n",
       "      <td>-1.3925618</td>\n",
       "      <td>2.5960073</td>\n",
       "      <td>0.2726408</td>\n",
       "      <td>1.2961415</td>\n",
       "      <td>-1.4707574</td>\n",
       "      <td>-0.648682</td>\n",
       "      <td>-0.37029198</td>\n",
       "      <td>-0.21693194</td>\n",
       "      <td>-0.3691239</td>\n",
       "      <td>-0.29134834</td>\n",
       "      <td>...</td>\n",
       "      <td>2.3052354</td>\n",
       "      <td>-1.0744432</td>\n",
       "      <td>-0.585362</td>\n",
       "      <td>-2.7292001</td>\n",
       "      <td>-0.23809</td>\n",
       "      <td>1.3244883</td>\n",
       "      <td>2.6235359</td>\n",
       "      <td>-0.4624842</td>\n",
       "      <td>-0.31181964</td>\n",
       "      <td>0.0</td>\n",
       "    </tr>\n",
       "    <tr>\n",
       "      <th>0</th>\n",
       "      <td>-1.3925618</td>\n",
       "      <td>-0.5483761</td>\n",
       "      <td>1.8003366</td>\n",
       "      <td>2.8619192</td>\n",
       "      <td>2.7115362</td>\n",
       "      <td>-0.648682</td>\n",
       "      <td>-0.37029198</td>\n",
       "      <td>-0.21693194</td>\n",
       "      <td>-0.3691239</td>\n",
       "      <td>0.1859421</td>\n",
       "      <td>...</td>\n",
       "      <td>-0.2381356</td>\n",
       "      <td>-1.0744432</td>\n",
       "      <td>0.757404</td>\n",
       "      <td>-2.7292001</td>\n",
       "      <td>-1.525136</td>\n",
       "      <td>0.4966835</td>\n",
       "      <td>-2.0949483</td>\n",
       "      <td>1.2733662</td>\n",
       "      <td>-0.31181964</td>\n",
       "      <td>0.0</td>\n",
       "    </tr>\n",
       "    <tr>\n",
       "      <th>0</th>\n",
       "      <td>4.060926</td>\n",
       "      <td>5.8407087</td>\n",
       "      <td>1.027295</td>\n",
       "      <td>-0.3991702</td>\n",
       "      <td>-0.2232277</td>\n",
       "      <td>3.177045</td>\n",
       "      <td>0.83171743</td>\n",
       "      <td>0.72164696</td>\n",
       "      <td>-0.3691239</td>\n",
       "      <td>-0.29134834</td>\n",
       "      <td>...</td>\n",
       "      <td>5.135869</td>\n",
       "      <td>-0.0267243</td>\n",
       "      <td>3.780432</td>\n",
       "      <td>2.3585169</td>\n",
       "      <td>3.188324</td>\n",
       "      <td>-0.2514397</td>\n",
       "      <td>-0.6094009</td>\n",
       "      <td>1.6135049</td>\n",
       "      <td>-0.31181964</td>\n",
       "      <td>0.0</td>\n",
       "    </tr>\n",
       "    <tr>\n",
       "      <th>0</th>\n",
       "      <td>-1.3925618</td>\n",
       "      <td>-1.1396621</td>\n",
       "      <td>-2.0101523</td>\n",
       "      <td>-1.4717476</td>\n",
       "      <td>-2.3619301</td>\n",
       "      <td>-0.648682</td>\n",
       "      <td>-0.37029198</td>\n",
       "      <td>-0.21693194</td>\n",
       "      <td>-0.3691239</td>\n",
       "      <td>-0.29134834</td>\n",
       "      <td>...</td>\n",
       "      <td>5.7065363</td>\n",
       "      <td>3.8999512</td>\n",
       "      <td>3.153469</td>\n",
       "      <td>1.5425001</td>\n",
       "      <td>2.868416</td>\n",
       "      <td>5.0884075</td>\n",
       "      <td>1.445936</td>\n",
       "      <td>-0.4624842</td>\n",
       "      <td>-0.31181964</td>\n",
       "      <td>0.0</td>\n",
       "    </tr>\n",
       "    <tr>\n",
       "      <th>0</th>\n",
       "      <td>1.5887978</td>\n",
       "      <td>2.6953855</td>\n",
       "      <td>-2.6713111</td>\n",
       "      <td>-0.7949058</td>\n",
       "      <td>2.8986728</td>\n",
       "      <td>0.308279</td>\n",
       "      <td>-0.1064781</td>\n",
       "      <td>-0.21693194</td>\n",
       "      <td>-0.3691239</td>\n",
       "      <td>0.38246113</td>\n",
       "      <td>...</td>\n",
       "      <td>6.0879245</td>\n",
       "      <td>0.9306861</td>\n",
       "      <td>1.00752</td>\n",
       "      <td>0.9376402</td>\n",
       "      <td>3.257947</td>\n",
       "      <td>3.1315076</td>\n",
       "      <td>1.3579293</td>\n",
       "      <td>2.1745932</td>\n",
       "      <td>-0.31181964</td>\n",
       "      <td>0.0</td>\n",
       "    </tr>\n",
       "  </tbody>\n",
       "</table>\n",
       "<p>5 rows × 300 columns</p>\n",
       "</div>"
      ],
      "text/plain": [
       "  Victivallis vadensis [1000] Akkermansia muciniphila [1008]  \\\n",
       "0                  -1.3925618                      2.5960073   \n",
       "0                  -1.3925618                     -0.5483761   \n",
       "0                    4.060926                      5.8407087   \n",
       "0                  -1.3925618                     -1.1396621   \n",
       "0                   1.5887978                      2.6953855   \n",
       "\n",
       "  Alistipes shahii [1052] unnamed Alistipes sp. HGB5 [1053]  \\\n",
       "0               0.2726408                         1.2961415   \n",
       "0               1.8003366                         2.8619192   \n",
       "0                1.027295                        -0.3991702   \n",
       "0              -2.0101523                        -1.4717476   \n",
       "0              -2.6713111                        -0.7949058   \n",
       "\n",
       "  Alistipes putredinis [1054] Porphyromonas asaccharolytica [1056]  \\\n",
       "0                  -1.4707574                            -0.648682   \n",
       "0                   2.7115362                            -0.648682   \n",
       "0                  -0.2232277                             3.177045   \n",
       "0                  -2.3619301                            -0.648682   \n",
       "0                   2.8986728                             0.308279   \n",
       "\n",
       "  Porphyromonas uenonis [1057] Prevotella buccalis [1059]  \\\n",
       "0                  -0.37029198                -0.21693194   \n",
       "0                  -0.37029198                -0.21693194   \n",
       "0                   0.83171743                 0.72164696   \n",
       "0                  -0.37029198                -0.21693194   \n",
       "0                   -0.1064781                -0.21693194   \n",
       "\n",
       "  Prevotella buccae [1065] Prevotella dentalis [1067]  ...  \\\n",
       "0               -0.3691239                -0.29134834  ...   \n",
       "0               -0.3691239                  0.1859421  ...   \n",
       "0               -0.3691239                -0.29134834  ...   \n",
       "0               -0.3691239                -0.29134834  ...   \n",
       "0               -0.3691239                 0.38246113  ...   \n",
       "\n",
       "  Bifidobacterium bifidum [968] Bifidobacterium breve [969]  \\\n",
       "0                     2.3052354                  -1.0744432   \n",
       "0                    -0.2381356                  -1.0744432   \n",
       "0                      5.135869                  -0.0267243   \n",
       "0                     5.7065363                   3.8999512   \n",
       "0                     6.0879245                   0.9306861   \n",
       "\n",
       "  Bifidobacterium longum [970] Bifidobacterium dentium [971]  \\\n",
       "0                    -0.585362                    -2.7292001   \n",
       "0                     0.757404                    -2.7292001   \n",
       "0                     3.780432                     2.3585169   \n",
       "0                     3.153469                     1.5425001   \n",
       "0                      1.00752                     0.9376402   \n",
       "\n",
       "  Bifidobacterium adolescentis [972]  \\\n",
       "0                           -0.23809   \n",
       "0                          -1.525136   \n",
       "0                           3.188324   \n",
       "0                           2.868416   \n",
       "0                           3.257947   \n",
       "\n",
       "  Bifidobacterium catenulatum-Bifidobacterium pseudocatenulatum complex [973]  \\\n",
       "0                                          1.3244883                            \n",
       "0                                          0.4966835                            \n",
       "0                                         -0.2514397                            \n",
       "0                                          5.0884075                            \n",
       "0                                          3.1315076                            \n",
       "\n",
       "  Bifidobacterium angulatum [974] Parascardovia denticolens [976]  \\\n",
       "0                       2.6235359                      -0.4624842   \n",
       "0                      -2.0949483                       1.2733662   \n",
       "0                      -0.6094009                       1.6135049   \n",
       "0                        1.445936                      -0.4624842   \n",
       "0                       1.3579293                       2.1745932   \n",
       "\n",
       "  Scardovia inopinata [977] target  \n",
       "0               -0.31181964    0.0  \n",
       "0               -0.31181964    0.0  \n",
       "0               -0.31181964    0.0  \n",
       "0               -0.31181964    0.0  \n",
       "0               -0.31181964    0.0  \n",
       "\n",
       "[5 rows x 300 columns]"
      ]
     },
     "metadata": {},
     "output_type": "display_data"
    }
   ],
   "source": [
    "# Pre-trained ML model\n",
    "m = dice_ml.Model(model=model,\n",
    "                  backend='sklearn')\n",
    "# DiCE explanation instance\n",
    "exp = dice_ml.Dice(d,m, method=\"genetic\")\n",
    "# Generate counterfactual examples\n",
    "queries = test_dataset[test_dataset[\"target\"] == 1].drop(columns=\"target\")\n",
    "query_instance = queries[0:1]\n",
    "dice_exp = exp.generate_counterfactuals(query_instance, total_CFs=5, desired_class=\"opposite\", verbose=True)\n",
    "# Visualize counterfactual explanation\n",
    "dice_exp.visualize_as_dataframe(show_only_changes=True)"
   ]
  },
  {
   "cell_type": "code",
   "execution_count": null,
   "id": "b822e148",
   "metadata": {},
   "outputs": [],
   "source": []
  },
  {
   "cell_type": "code",
   "execution_count": null,
   "id": "3994b69f",
   "metadata": {},
   "outputs": [],
   "source": []
  }
 ],
 "metadata": {
  "kernelspec": {
   "display_name": ".venv",
   "language": "python",
   "name": "python3"
  },
  "language_info": {
   "codemirror_mode": {
    "name": "ipython",
    "version": 3
   },
   "file_extension": ".py",
   "mimetype": "text/x-python",
   "name": "python",
   "nbconvert_exporter": "python",
   "pygments_lexer": "ipython3",
   "version": "3.13.1"
  }
 },
 "nbformat": 4,
 "nbformat_minor": 5
}
