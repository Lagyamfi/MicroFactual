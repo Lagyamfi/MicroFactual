{
 "cells": [
  {
   "cell_type": "code",
   "execution_count": 1,
   "id": "88de76c6",
   "metadata": {},
   "outputs": [],
   "source": [
    "import dice_ml\n",
    "from dice_ml.utils import helpers # helper functions\n",
    "from sklearn.model_selection import train_test_split\n",
    "from sklearn.linear_model import LogisticRegression\n",
    "from microbiome_ml.data_processing import load_data, filter_data, clr_transform\n",
    "from microbiome_ml.modeling import train_model"
   ]
  },
  {
   "cell_type": "code",
   "execution_count": 2,
   "id": "2a9fa344",
   "metadata": {},
   "outputs": [],
   "source": [
    "abundance_path = \"../Dataset/abundance_crc.txt\"\n",
    "metadata_path = \"../Dataset/metadata_crc.txt\"\n",
    "target_column = \"Group\"\n",
    "abundance, labels = load_data(abundance_file=abundance_path, metadata_file=metadata_path, target_column=target_column)\n",
    "filtered_data = filter_data(abundance)\n",
    "clr_data = clr_transform(filtered_data)"
   ]
  },
  {
   "cell_type": "code",
   "execution_count": 3,
   "id": "49583711",
   "metadata": {},
   "outputs": [],
   "source": [
    "model = train_model(clr_data, labels, n_jobs=1)\n",
    "clr_data['target'] = labels.values\n",
    "dataset = clr_data\n",
    "target = dataset['target']\n",
    "train_dataset, test_dataset, _, _ = train_test_split(dataset,\n",
    "                                                     target,\n",
    "                                                     test_size=0.2,\n",
    "                                                     random_state=0,\n",
    "                                                     stratify=target)\n",
    "# model = LogisticRegression()\n",
    "# model.fit(train_dataset.drop(columns=\"target\"), train_dataset[\"target\"])\n",
    "\n",
    "# Dataset for training an ML model\n",
    "d = dice_ml.Data(dataframe=train_dataset,\n",
    "                 continuous_features=dataset.columns[:-1].tolist(),\n",
    "                 outcome_name='target')\n"
   ]
  },
  {
   "cell_type": "code",
   "execution_count": 21,
   "id": "e4ce1ee0",
   "metadata": {},
   "outputs": [
    {
     "name": "stderr",
     "output_type": "stream",
     "text": [
      "  0%|          | 0/1 [00:00<?, ?it/s]"
     ]
    },
    {
     "name": "stdout",
     "output_type": "stream",
     "text": [
      "Initializing initial parameters to the genetic algorithm...\n",
      "Initialization complete! Generating counterfactuals...\n"
     ]
    },
    {
     "name": "stderr",
     "output_type": "stream",
     "text": [
      "100%|██████████| 1/1 [00:00<00:00,  2.30it/s]"
     ]
    },
    {
     "name": "stdout",
     "output_type": "stream",
     "text": [
      "Diverse Counterfactuals found! total time taken: 00 min 00 sec\n",
      "Query instance (original outcome : 1)\n"
     ]
    },
    {
     "name": "stderr",
     "output_type": "stream",
     "text": [
      "\n"
     ]
    },
    {
     "data": {
      "application/vnd.microsoft.datawrangler.viewer.v0+json": {
       "columns": [
        {
         "name": "index",
         "rawType": "int64",
         "type": "integer"
        },
        {
         "name": "Victivallis vadensis [1000]",
         "rawType": "float32",
         "type": "float"
        },
        {
         "name": "Akkermansia muciniphila [1008]",
         "rawType": "float32",
         "type": "float"
        },
        {
         "name": "Alistipes shahii [1052]",
         "rawType": "float32",
         "type": "float"
        },
        {
         "name": "unnamed Alistipes sp. HGB5 [1053]",
         "rawType": "float32",
         "type": "float"
        },
        {
         "name": "Alistipes putredinis [1054]",
         "rawType": "float32",
         "type": "float"
        },
        {
         "name": "Porphyromonas asaccharolytica [1056]",
         "rawType": "float32",
         "type": "float"
        },
        {
         "name": "Porphyromonas uenonis [1057]",
         "rawType": "float32",
         "type": "float"
        },
        {
         "name": "Prevotella buccalis [1059]",
         "rawType": "float32",
         "type": "float"
        },
        {
         "name": "Prevotella buccae [1065]",
         "rawType": "float32",
         "type": "float"
        },
        {
         "name": "Prevotella dentalis [1067]",
         "rawType": "float32",
         "type": "float"
        },
        {
         "name": "Prevotella nigrescens [1069]",
         "rawType": "float32",
         "type": "float"
        },
        {
         "name": "Prevotella disiens [1071]",
         "rawType": "float32",
         "type": "float"
        },
        {
         "name": "Prevotella denticola [1072]",
         "rawType": "float32",
         "type": "float"
        },
        {
         "name": "Prevotella multiformis [1073]",
         "rawType": "float32",
         "type": "float"
        },
        {
         "name": "Prevotella bivia [1076]",
         "rawType": "float32",
         "type": "float"
        },
        {
         "name": "Prevotella copri [1081]",
         "rawType": "float32",
         "type": "float"
        },
        {
         "name": "unnamed Capnocytophaga sp. oral taxon 329 [1086]",
         "rawType": "float32",
         "type": "float"
        },
        {
         "name": "Paraprevotella xylaniphila [1087]",
         "rawType": "float32",
         "type": "float"
        },
        {
         "name": "Parabacteroides distasonis [1088]",
         "rawType": "float32",
         "type": "float"
        },
        {
         "name": "Parabacteroides merdae [1089]",
         "rawType": "float32",
         "type": "float"
        },
        {
         "name": "Bacteroides fragilis [1090]",
         "rawType": "float32",
         "type": "float"
        },
        {
         "name": "Bacteroides fragilis [1091]",
         "rawType": "float32",
         "type": "float"
        },
        {
         "name": "Bacteroides thetaiotaomicron [1092]",
         "rawType": "float32",
         "type": "float"
        },
        {
         "name": "Bacteroides xylanisolvens [1093]",
         "rawType": "float32",
         "type": "float"
        },
        {
         "name": "Bacteroides ovatus [1094]",
         "rawType": "float32",
         "type": "float"
        },
        {
         "name": "Bacteroides finegoldii [1095]",
         "rawType": "float32",
         "type": "float"
        },
        {
         "name": "Bacteroides caccae [1096]",
         "rawType": "float32",
         "type": "float"
        },
        {
         "name": "Bacteroides eggerthii [1097]",
         "rawType": "float32",
         "type": "float"
        },
        {
         "name": "Bacteroides stercoris [1098]",
         "rawType": "float32",
         "type": "float"
        },
        {
         "name": "Bacteroides clarus [1099]",
         "rawType": "float32",
         "type": "float"
        },
        {
         "name": "Bacteroides uniformis [1100]",
         "rawType": "float32",
         "type": "float"
        },
        {
         "name": "Bacteroides fluxus [1101]",
         "rawType": "float32",
         "type": "float"
        },
        {
         "name": "Bacteroides intestinalis [1103]",
         "rawType": "float32",
         "type": "float"
        },
        {
         "name": "Bacteroides dorei/vulgatus [1104]",
         "rawType": "float32",
         "type": "float"
        },
        {
         "name": "Bacteroides plebeius [1105]",
         "rawType": "float32",
         "type": "float"
        },
        {
         "name": "Bacteroides coprophilus [1106]",
         "rawType": "float32",
         "type": "float"
        },
        {
         "name": "Bacteroides coprocola [1107]",
         "rawType": "float32",
         "type": "float"
        },
        {
         "name": "Bacteroides salanitronis [1108]",
         "rawType": "float32",
         "type": "float"
        },
        {
         "name": "Prevotella tannerae [1112]",
         "rawType": "float32",
         "type": "float"
        },
        {
         "name": "Odoribacter splanchnicus [1115]",
         "rawType": "float32",
         "type": "float"
        },
        {
         "name": "Dialister invisus [1259]",
         "rawType": "float32",
         "type": "float"
        },
        {
         "name": "Veillonella atypica [1260]",
         "rawType": "float32",
         "type": "float"
        },
        {
         "name": "Veillonella parvula [1261]",
         "rawType": "float32",
         "type": "float"
        },
        {
         "name": "Veillonella dispar [1262]",
         "rawType": "float32",
         "type": "float"
        },
        {
         "name": "unnamed Veillonella sp. oral taxon 158 [1263]",
         "rawType": "float32",
         "type": "float"
        },
        {
         "name": "Megasphaera elsdenii [1267]",
         "rawType": "float32",
         "type": "float"
        },
        {
         "name": "Megasphaera micronuciformis [1268]",
         "rawType": "float32",
         "type": "float"
        },
        {
         "name": "Clostridium ramosum [1269]",
         "rawType": "float32",
         "type": "float"
        },
        {
         "name": "Clostridium spiroforme [1270]",
         "rawType": "float32",
         "type": "float"
        },
        {
         "name": "unnamed Coprobacillus sp. 29_1 [1271]",
         "rawType": "float32",
         "type": "float"
        },
        {
         "name": "Bulleidia extructa [1272]",
         "rawType": "float32",
         "type": "float"
        },
        {
         "name": "Solobacterium moorei [1273]",
         "rawType": "float32",
         "type": "float"
        },
        {
         "name": "Eubacterium biforme [1275]",
         "rawType": "float32",
         "type": "float"
        },
        {
         "name": "Eubacterium cylindroides [1276]",
         "rawType": "float32",
         "type": "float"
        },
        {
         "name": "unnamed Erysipelotrichaceae bacterium 3_1_53 [1277]",
         "rawType": "float32",
         "type": "float"
        },
        {
         "name": "unnamed Clostridium sp. HGF2 [1278]",
         "rawType": "float32",
         "type": "float"
        },
        {
         "name": "unnamed Erysipelotrichaceae bacterium 5_2_54FAA [1279]",
         "rawType": "float32",
         "type": "float"
        },
        {
         "name": "Eubacterium dolichum [1280]",
         "rawType": "float32",
         "type": "float"
        },
        {
         "name": "Holdemania filiformis [1281]",
         "rawType": "float32",
         "type": "float"
        },
        {
         "name": "Turicibacter sanguinis [1297]",
         "rawType": "float32",
         "type": "float"
        },
        {
         "name": "Gemella haemolysans [1299]",
         "rawType": "float32",
         "type": "float"
        },
        {
         "name": "Gemella haemolysans [1300]",
         "rawType": "float32",
         "type": "float"
        },
        {
         "name": "Gemella sanguinis [1301]",
         "rawType": "float32",
         "type": "float"
        },
        {
         "name": "Gemella morbillorum [1302]",
         "rawType": "float32",
         "type": "float"
        },
        {
         "name": "Staphylococcus aureus [1305]",
         "rawType": "float32",
         "type": "float"
        },
        {
         "name": "Granulicatella elegans [1357]",
         "rawType": "float32",
         "type": "float"
        },
        {
         "name": "Granulicatella adiacens [1358]",
         "rawType": "float32",
         "type": "float"
        },
        {
         "name": "Enterococcus casseliflavus [1361]",
         "rawType": "float32",
         "type": "float"
        },
        {
         "name": "Enterococcus gallinarum [1362]",
         "rawType": "float32",
         "type": "float"
        },
        {
         "name": "Enterococcus faecalis [1363]",
         "rawType": "float32",
         "type": "float"
        },
        {
         "name": "Enterococcus faecium [1364]",
         "rawType": "float32",
         "type": "float"
        },
        {
         "name": "Lactococcus garvieae [1368]",
         "rawType": "float32",
         "type": "float"
        },
        {
         "name": "Lactococcus lactis [1369]",
         "rawType": "float32",
         "type": "float"
        },
        {
         "name": "Lactococcus lactis [1370]",
         "rawType": "float32",
         "type": "float"
        },
        {
         "name": "Streptococcus downei [1372]",
         "rawType": "float32",
         "type": "float"
        },
        {
         "name": "Streptococcus mutans [1373]",
         "rawType": "float32",
         "type": "float"
        },
        {
         "name": "Streptococcus thermophilus [1375]",
         "rawType": "float32",
         "type": "float"
        },
        {
         "name": "Streptococcus vestibularis [1376]",
         "rawType": "float32",
         "type": "float"
        },
        {
         "name": "Streptococcus salivarius [1377]",
         "rawType": "float32",
         "type": "float"
        },
        {
         "name": "unnamed Streptococcus sp. C150 [1378]",
         "rawType": "float32",
         "type": "float"
        },
        {
         "name": "Streptococcus gallolyticus [1379]",
         "rawType": "float32",
         "type": "float"
        },
        {
         "name": "Streptococcus infantarius [1380]",
         "rawType": "float32",
         "type": "float"
        },
        {
         "name": "Streptococcus equinus [1381]",
         "rawType": "float32",
         "type": "float"
        },
        {
         "name": "Streptococcus agalactiae [1388]",
         "rawType": "float32",
         "type": "float"
        },
        {
         "name": "Streptococcus anginosus [1393]",
         "rawType": "float32",
         "type": "float"
        },
        {
         "name": "Streptococcus anginosus [1394]",
         "rawType": "float32",
         "type": "float"
        },
        {
         "name": "Streptococcus constellatus [1395]",
         "rawType": "float32",
         "type": "float"
        },
        {
         "name": "Streptococcus cristatus [1396]",
         "rawType": "float32",
         "type": "float"
        },
        {
         "name": "Streptococcus sanguinis [1397]",
         "rawType": "float32",
         "type": "float"
        },
        {
         "name": "Streptococcus gordonii [1398]",
         "rawType": "float32",
         "type": "float"
        },
        {
         "name": "unnamed Streptococcus sp. oral taxon 056 [1399]",
         "rawType": "float32",
         "type": "float"
        },
        {
         "name": "Streptococcus pneumoniae [1400]",
         "rawType": "float32",
         "type": "float"
        },
        {
         "name": "Streptococcus pseudopneumoniae [1401]",
         "rawType": "float32",
         "type": "float"
        },
        {
         "name": "Streptococcus mitis [1402]",
         "rawType": "float32",
         "type": "float"
        },
        {
         "name": "Streptococcus mitis [1403]",
         "rawType": "float32",
         "type": "float"
        },
        {
         "name": "Streptococcus mitis [1404]",
         "rawType": "float32",
         "type": "float"
        },
        {
         "name": "unnamed Streptococcus sp. M334 [1405]",
         "rawType": "float32",
         "type": "float"
        },
        {
         "name": "Streptococcus mitis [1406]",
         "rawType": "float32",
         "type": "float"
        },
        {
         "name": "unnamed Streptococcus sp. M143 [1407]",
         "rawType": "float32",
         "type": "float"
        },
        {
         "name": "Streptococcus mitis [1408]",
         "rawType": "float32",
         "type": "float"
        },
        {
         "name": "Streptococcus mitis [1409]",
         "rawType": "float32",
         "type": "float"
        },
        {
         "name": "Streptococcus oralis [1410]",
         "rawType": "float32",
         "type": "float"
        },
        {
         "name": "Streptococcus oralis [1411]",
         "rawType": "float32",
         "type": "float"
        },
        {
         "name": "Streptococcus sanguinis [1412]",
         "rawType": "float32",
         "type": "float"
        },
        {
         "name": "unnamed Streptococcus sp. oral taxon 071 [1413]",
         "rawType": "float32",
         "type": "float"
        },
        {
         "name": "Streptococcus mitis [1414]",
         "rawType": "float32",
         "type": "float"
        },
        {
         "name": "Streptococcus infantis [1415]",
         "rawType": "float32",
         "type": "float"
        },
        {
         "name": "Streptococcus infantis [1416]",
         "rawType": "float32",
         "type": "float"
        },
        {
         "name": "Streptococcus infantis [1417]",
         "rawType": "float32",
         "type": "float"
        },
        {
         "name": "Streptococcus infantis [1418]",
         "rawType": "float32",
         "type": "float"
        },
        {
         "name": "Streptococcus peroris [1419]",
         "rawType": "float32",
         "type": "float"
        },
        {
         "name": "Streptococcus australis [1420]",
         "rawType": "float32",
         "type": "float"
        },
        {
         "name": "Streptococcus parasanguinis [1421]",
         "rawType": "float32",
         "type": "float"
        },
        {
         "name": "Catonella morbi [1422]",
         "rawType": "float32",
         "type": "float"
        },
        {
         "name": "Weissella cibaria [1428]",
         "rawType": "float32",
         "type": "float"
        },
        {
         "name": "Leuconostoc mesenteroides [1430]",
         "rawType": "float32",
         "type": "float"
        },
        {
         "name": "Leuconostoc citreum [1431]",
         "rawType": "float32",
         "type": "float"
        },
        {
         "name": "Leuconostoc gasicomitatum [1434]",
         "rawType": "float32",
         "type": "float"
        },
        {
         "name": "Leuconostoc gelidum [1435]",
         "rawType": "float32",
         "type": "float"
        },
        {
         "name": "Lactobacillus delbrueckii [1438]",
         "rawType": "float32",
         "type": "float"
        },
        {
         "name": "Lactobacillus johnsonii [1442]",
         "rawType": "float32",
         "type": "float"
        },
        {
         "name": "Lactobacillus gasseri [1443]",
         "rawType": "float32",
         "type": "float"
        },
        {
         "name": "Lactobacillus crispatus [1444]",
         "rawType": "float32",
         "type": "float"
        },
        {
         "name": "Lactobacillus casei [1452]",
         "rawType": "float32",
         "type": "float"
        },
        {
         "name": "Lactobacillus rhamnosus [1453]",
         "rawType": "float32",
         "type": "float"
        },
        {
         "name": "Lactobacillus fermentum [1454]",
         "rawType": "float32",
         "type": "float"
        },
        {
         "name": "Lactobacillus oris [1455]",
         "rawType": "float32",
         "type": "float"
        },
        {
         "name": "Lactobacillus reuteri [1457]",
         "rawType": "float32",
         "type": "float"
        },
        {
         "name": "Lactobacillus vaginalis [1458]",
         "rawType": "float32",
         "type": "float"
        },
        {
         "name": "Lactobacillus sakei [1464]",
         "rawType": "float32",
         "type": "float"
        },
        {
         "name": "Lactobacillus ruminis [1466]",
         "rawType": "float32",
         "type": "float"
        },
        {
         "name": "Lactobacillus salivarius [1467]",
         "rawType": "float32",
         "type": "float"
        },
        {
         "name": "Pediococcus acidilactici [1469]",
         "rawType": "float32",
         "type": "float"
        },
        {
         "name": "Pediococcus pentosaceus [1470]",
         "rawType": "float32",
         "type": "float"
        },
        {
         "name": "Lactobacillus plantarum [1472]",
         "rawType": "float32",
         "type": "float"
        },
        {
         "name": "Lactobacillus brevis [1473]",
         "rawType": "float32",
         "type": "float"
        },
        {
         "name": "Fusobacterium gonidiaformans [1476]",
         "rawType": "float32",
         "type": "float"
        },
        {
         "name": "unnamed Fusobacterium sp. D12 [1477]",
         "rawType": "float32",
         "type": "float"
        },
        {
         "name": "Fusobacterium periodonticum [1478]",
         "rawType": "float32",
         "type": "float"
        },
        {
         "name": "Fusobacterium nucleatum [1479]",
         "rawType": "float32",
         "type": "float"
        },
        {
         "name": "Fusobacterium nucleatum [1480]",
         "rawType": "float32",
         "type": "float"
        },
        {
         "name": "unclassified Fusobacterium [1481]",
         "rawType": "float32",
         "type": "float"
        },
        {
         "name": "unclassified Fusobacterium [1482]",
         "rawType": "float32",
         "type": "float"
        },
        {
         "name": "Fusobacterium mortiferum [1485]",
         "rawType": "float32",
         "type": "float"
        },
        {
         "name": "Leptotrichia hofstadii [1488]",
         "rawType": "float32",
         "type": "float"
        },
        {
         "name": "Peptoniphilus lacrimalis [1492]",
         "rawType": "float32",
         "type": "float"
        },
        {
         "name": "Peptoniphilus harei [1493]",
         "rawType": "float32",
         "type": "float"
        },
        {
         "name": "Anaerococcus hydrogenalis [1497]",
         "rawType": "float32",
         "type": "float"
        },
        {
         "name": "Anaerococcus vaginalis [1498]",
         "rawType": "float32",
         "type": "float"
        },
        {
         "name": "Finegoldia magna [1503]",
         "rawType": "float32",
         "type": "float"
        },
        {
         "name": "Finegoldia magna [1504]",
         "rawType": "float32",
         "type": "float"
        },
        {
         "name": "Parvimonas micra [1505]",
         "rawType": "float32",
         "type": "float"
        },
        {
         "name": "unnamed Parvimonas sp. oral taxon 110 [1506]",
         "rawType": "float32",
         "type": "float"
        },
        {
         "name": "unnamed Parvimonas sp. oral taxon 393 [1507]",
         "rawType": "float32",
         "type": "float"
        },
        {
         "name": "Peptostreptococcus stomatis [1530]",
         "rawType": "float32",
         "type": "float"
        },
        {
         "name": "Peptostreptococcus anaerobius [1531]",
         "rawType": "float32",
         "type": "float"
        },
        {
         "name": "[Clostridium] difficile [1532]",
         "rawType": "float32",
         "type": "float"
        },
        {
         "name": "[Clostridium] bartlettii [1533]",
         "rawType": "float32",
         "type": "float"
        },
        {
         "name": "Clostridium perfringens [1540]",
         "rawType": "float32",
         "type": "float"
        },
        {
         "name": "Clostridium perfringens [1541]",
         "rawType": "float32",
         "type": "float"
        },
        {
         "name": "Clostridium botulinum [1542]",
         "rawType": "float32",
         "type": "float"
        },
        {
         "name": "Clostridium butyricum [1543]",
         "rawType": "float32",
         "type": "float"
        },
        {
         "name": "unnamed Clostridium sp. 7_2_43FAA [1545]",
         "rawType": "float32",
         "type": "float"
        },
        {
         "name": "Anaerofustis stercorihominis [1557]",
         "rawType": "float32",
         "type": "float"
        },
        {
         "name": "Eubacterium saphenum [1563]",
         "rawType": "float32",
         "type": "float"
        },
        {
         "name": "Eubacterium siraeum [1564]",
         "rawType": "float32",
         "type": "float"
        },
        {
         "name": "Ruminococcus champanellensis [1568]",
         "rawType": "float32",
         "type": "float"
        },
        {
         "name": "Ruminococcus bromii [1569]",
         "rawType": "float32",
         "type": "float"
        },
        {
         "name": "Anaerotruncus colihominis [1570]",
         "rawType": "float32",
         "type": "float"
        },
        {
         "name": "Clostridium methylpentosum [1572]",
         "rawType": "float32",
         "type": "float"
        },
        {
         "name": "Clostridium leptum [1573]",
         "rawType": "float32",
         "type": "float"
        },
        {
         "name": "Faecalibacterium prausnitzii [1574]",
         "rawType": "float32",
         "type": "float"
        },
        {
         "name": "Faecalibacterium prausnitzii [1575]",
         "rawType": "float32",
         "type": "float"
        },
        {
         "name": "Faecalibacterium prausnitzii [1576]",
         "rawType": "float32",
         "type": "float"
        },
        {
         "name": "Faecalibacterium prausnitzii [1577]",
         "rawType": "float32",
         "type": "float"
        },
        {
         "name": "Subdoligranulum variabile [1578]",
         "rawType": "float32",
         "type": "float"
        },
        {
         "name": "Pseudoflavonifractor capillosus [1579]",
         "rawType": "float32",
         "type": "float"
        },
        {
         "name": "unnamed Ruminococcaceae bacterium D16 [1580]",
         "rawType": "float32",
         "type": "float"
        },
        {
         "name": "Oscillibacter valericigenes [1581]",
         "rawType": "float32",
         "type": "float"
        },
        {
         "name": "Eubacterium limosum [1582]",
         "rawType": "float32",
         "type": "float"
        },
        {
         "name": "Pseudoramibacter alactolyticus [1584]",
         "rawType": "float32",
         "type": "float"
        },
        {
         "name": "Oribacterium sinus [1585]",
         "rawType": "float32",
         "type": "float"
        },
        {
         "name": "Coprococcus eutactus [1592]",
         "rawType": "float32",
         "type": "float"
        },
        {
         "name": "unnamed Clostridium sp. L2-50 [1593]",
         "rawType": "float32",
         "type": "float"
        },
        {
         "name": "Coprococcus catus [1594]",
         "rawType": "float32",
         "type": "float"
        },
        {
         "name": "butyrate-producing bacterium [1595]",
         "rawType": "float32",
         "type": "float"
        },
        {
         "name": "Anaerostipes caccae [1596]",
         "rawType": "float32",
         "type": "float"
        },
        {
         "name": "Eubacterium hallii [1597]",
         "rawType": "float32",
         "type": "float"
        },
        {
         "name": "Clostridium bolteae [1598]",
         "rawType": "float32",
         "type": "float"
        },
        {
         "name": "unnamed Clostridiales bacterium 1_7_47FAA [1599]",
         "rawType": "float32",
         "type": "float"
        },
        {
         "name": "Clostridium symbiosum [1600]",
         "rawType": "float32",
         "type": "float"
        },
        {
         "name": "Clostridium saccharolyticum [1601]",
         "rawType": "float32",
         "type": "float"
        },
        {
         "name": "unnamed butyrate-producing bacterium SS3/4 [1603]",
         "rawType": "float32",
         "type": "float"
        },
        {
         "name": "Dorea formicigenerans [1604]",
         "rawType": "float32",
         "type": "float"
        },
        {
         "name": "Dorea longicatena [1605]",
         "rawType": "float32",
         "type": "float"
        },
        {
         "name": "Clostridium scindens [1606]",
         "rawType": "float32",
         "type": "float"
        },
        {
         "name": "Clostridium hylemonae [1607]",
         "rawType": "float32",
         "type": "float"
        },
        {
         "name": "[Ruminococcus] torques [1608]",
         "rawType": "float32",
         "type": "float"
        },
        {
         "name": "Ruminococcus lactaris [1609]",
         "rawType": "float32",
         "type": "float"
        },
        {
         "name": "[Ruminococcus] torques [1610]",
         "rawType": "float32",
         "type": "float"
        },
        {
         "name": "[Ruminococcus] gnavus [1611]",
         "rawType": "float32",
         "type": "float"
        },
        {
         "name": "unnamed Lachnospiraceae bacterium 1_4_56FAA [1612]",
         "rawType": "float32",
         "type": "float"
        },
        {
         "name": "unnamed Clostridium sp. D5 [1613]",
         "rawType": "float32",
         "type": "float"
        },
        {
         "name": "unclassified Lachnospiraceae [1614]",
         "rawType": "float32",
         "type": "float"
        },
        {
         "name": "Coprococcus comes [1616]",
         "rawType": "float32",
         "type": "float"
        },
        {
         "name": "Blautia hansenii [1617]",
         "rawType": "float32",
         "type": "float"
        },
        {
         "name": "[Ruminococcus] obeum [1618]",
         "rawType": "float32",
         "type": "float"
        },
        {
         "name": "[Ruminococcus] obeum [1619]",
         "rawType": "float32",
         "type": "float"
        },
        {
         "name": "unnamed Ruminococcus sp. 5_1_39BFAA [1620]",
         "rawType": "float32",
         "type": "float"
        },
        {
         "name": "unnamed Ruminococcus sp. SR1/5 [1621]",
         "rawType": "float32",
         "type": "float"
        },
        {
         "name": "Blautia hydrogenotrophica [1622]",
         "rawType": "float32",
         "type": "float"
        },
        {
         "name": "unnamed Lachnospiraceae bacterium 3_1_57FAA_CT1 [1624]",
         "rawType": "float32",
         "type": "float"
        },
        {
         "name": "[Bacteroides] pectinophilus [1626]",
         "rawType": "float32",
         "type": "float"
        },
        {
         "name": "Eubacterium eligens [1627]",
         "rawType": "float32",
         "type": "float"
        },
        {
         "name": "Butyrivibrio crossotus [1628]",
         "rawType": "float32",
         "type": "float"
        },
        {
         "name": "Eubacterium ventriosum [1629]",
         "rawType": "float32",
         "type": "float"
        },
        {
         "name": "Eubacterium rectale [1630]",
         "rawType": "float32",
         "type": "float"
        },
        {
         "name": "Roseburia intestinalis [1631]",
         "rawType": "float32",
         "type": "float"
        },
        {
         "name": "Roseburia inulinivorans [1632]",
         "rawType": "float32",
         "type": "float"
        },
        {
         "name": "Roseburia hominis [1633]",
         "rawType": "float32",
         "type": "float"
        },
        {
         "name": "Pyramidobacter piscolens [1641]",
         "rawType": "float32",
         "type": "float"
        },
        {
         "name": "Mitsuokella multacida [1653]",
         "rawType": "float32",
         "type": "float"
        },
        {
         "name": "Selenomonas sputigena [1654]",
         "rawType": "float32",
         "type": "float"
        },
        {
         "name": "Acidaminococcus intestini [1657]",
         "rawType": "float32",
         "type": "float"
        },
        {
         "name": "Acidaminococcus fermentans [1658]",
         "rawType": "float32",
         "type": "float"
        },
        {
         "name": "Phascolarctobacterium succinatutens [1659]",
         "rawType": "float32",
         "type": "float"
        },
        {
         "name": "Campylobacter hominis [1719]",
         "rawType": "float32",
         "type": "float"
        },
        {
         "name": "Campylobacter rectus [1720]",
         "rawType": "float32",
         "type": "float"
        },
        {
         "name": "Campylobacter concisus [1722]",
         "rawType": "float32",
         "type": "float"
        },
        {
         "name": "Campylobacter gracilis [1724]",
         "rawType": "float32",
         "type": "float"
        },
        {
         "name": "Pseudomonas putida [222]",
         "rawType": "float32",
         "type": "float"
        },
        {
         "name": "Pseudomonas aeruginosa [236]",
         "rawType": "float32",
         "type": "float"
        },
        {
         "name": "Aggregatibacter aphrophilus [319]",
         "rawType": "float32",
         "type": "float"
        },
        {
         "name": "Aggregatibacter segnis [320]",
         "rawType": "float32",
         "type": "float"
        },
        {
         "name": "Haemophilus influenzae [323]",
         "rawType": "float32",
         "type": "float"
        },
        {
         "name": "Haemophilus haemolyticus [324]",
         "rawType": "float32",
         "type": "float"
        },
        {
         "name": "Haemophilus haemolyticus [325]",
         "rawType": "float32",
         "type": "float"
        },
        {
         "name": "Haemophilus parainfluenzae [326]",
         "rawType": "float32",
         "type": "float"
        },
        {
         "name": "Haemophilus pittmaniae [327]",
         "rawType": "float32",
         "type": "float"
        },
        {
         "name": "unnamed Enterobacteriaceae bacterium 9_2_54FAA [374]",
         "rawType": "float32",
         "type": "float"
        },
        {
         "name": "Enterobacter hormaechei/cloacae [384]",
         "rawType": "float32",
         "type": "float"
        },
        {
         "name": "Enterobacter cloacae [385]",
         "rawType": "float32",
         "type": "float"
        },
        {
         "name": "Enterobacter cloacae [386]",
         "rawType": "float32",
         "type": "float"
        },
        {
         "name": "Enterobacter cancerogenus [387]",
         "rawType": "float32",
         "type": "float"
        },
        {
         "name": "Enterobacter asburiae [388]",
         "rawType": "float32",
         "type": "float"
        },
        {
         "name": "Escherichia coli [390]",
         "rawType": "float32",
         "type": "float"
        },
        {
         "name": "Escherichia albertii [391]",
         "rawType": "float32",
         "type": "float"
        },
        {
         "name": "unnamed Citrobacter sp. 30_2 [392]",
         "rawType": "float32",
         "type": "float"
        },
        {
         "name": "Citrobacter youngae [393]",
         "rawType": "float32",
         "type": "float"
        },
        {
         "name": "Salmonella enterica [394]",
         "rawType": "float32",
         "type": "float"
        },
        {
         "name": "Citrobacter koseri [397]",
         "rawType": "float32",
         "type": "float"
        },
        {
         "name": "Klebsiella variicola/pneumoniae [399]",
         "rawType": "float32",
         "type": "float"
        },
        {
         "name": "Enterobacter aerogenes [400]",
         "rawType": "float32",
         "type": "float"
        },
        {
         "name": "Klebsiella oxytoca [401]",
         "rawType": "float32",
         "type": "float"
        },
        {
         "name": "Succinatimonas hippei [425]",
         "rawType": "float32",
         "type": "float"
        },
        {
         "name": "Neisseria sicca/macacae [437]",
         "rawType": "float32",
         "type": "float"
        },
        {
         "name": "unnamed Neisseria sp. oral taxon 014 [439]",
         "rawType": "float32",
         "type": "float"
        },
        {
         "name": "Neisseria meningitidis [442]",
         "rawType": "float32",
         "type": "float"
        },
        {
         "name": "Eikenella corrodens [448]",
         "rawType": "float32",
         "type": "float"
        },
        {
         "name": "Parasutterella excrementihominis [468]",
         "rawType": "float32",
         "type": "float"
        },
        {
         "name": "Sutterella wadsworthensis [469]",
         "rawType": "float32",
         "type": "float"
        },
        {
         "name": "Desulfovibrio piger [751]",
         "rawType": "float32",
         "type": "float"
        },
        {
         "name": "unnamed Desulfovibrio sp. 3_1_syn3 [752]",
         "rawType": "float32",
         "type": "float"
        },
        {
         "name": "Bilophila wadsworthia [756]",
         "rawType": "float32",
         "type": "float"
        },
        {
         "name": "Atopobium parvulum [808]",
         "rawType": "float32",
         "type": "float"
        },
        {
         "name": "Atopobium rimae [809]",
         "rawType": "float32",
         "type": "float"
        },
        {
         "name": "Collinsella stercoris [812]",
         "rawType": "float32",
         "type": "float"
        },
        {
         "name": "Collinsella intestinalis [813]",
         "rawType": "float32",
         "type": "float"
        },
        {
         "name": "Collinsella aerofaciens [814]",
         "rawType": "float32",
         "type": "float"
        },
        {
         "name": "Olsenella uli [816]",
         "rawType": "float32",
         "type": "float"
        },
        {
         "name": "Eggerthella lenta [817]",
         "rawType": "float32",
         "type": "float"
        },
        {
         "name": "unnamed Eggerthella sp. YY7918 [818]",
         "rawType": "float32",
         "type": "float"
        },
        {
         "name": "Slackia exigua [820]",
         "rawType": "float32",
         "type": "float"
        },
        {
         "name": "Cryptobacterium curtum [821]",
         "rawType": "float32",
         "type": "float"
        },
        {
         "name": "Propionibacterium acnes [823]",
         "rawType": "float32",
         "type": "float"
        },
        {
         "name": "Propionibacterium freudenreichii [825]",
         "rawType": "float32",
         "type": "float"
        },
        {
         "name": "Corynebacterium variabile [829]",
         "rawType": "float32",
         "type": "float"
        },
        {
         "name": "Actinomyces odontolyticus [878]",
         "rawType": "float32",
         "type": "float"
        },
        {
         "name": "unnamed Actinomyces sp. oral taxon 180 [879]",
         "rawType": "float32",
         "type": "float"
        },
        {
         "name": "Actinomyces viscosus [880]",
         "rawType": "float32",
         "type": "float"
        },
        {
         "name": "unnamed Actinomyces sp. oral taxon 170 [881]",
         "rawType": "float32",
         "type": "float"
        },
        {
         "name": "unnamed Actinomyces sp. oral taxon 448 [883]",
         "rawType": "float32",
         "type": "float"
        },
        {
         "name": "unnamed Actinomyces sp. oral taxon 848 [897]",
         "rawType": "float32",
         "type": "float"
        },
        {
         "name": "Methanobrevibacter smithii [92]",
         "rawType": "float32",
         "type": "float"
        },
        {
         "name": "Methanosphaera stadtmanae [94]",
         "rawType": "float32",
         "type": "float"
        },
        {
         "name": "Brevibacterium linens [949]",
         "rawType": "float32",
         "type": "float"
        },
        {
         "name": "Rothia mucilaginosa [955]",
         "rawType": "float32",
         "type": "float"
        },
        {
         "name": "Rothia dentocariosa [956]",
         "rawType": "float32",
         "type": "float"
        },
        {
         "name": "Micrococcus luteus [961]",
         "rawType": "float32",
         "type": "float"
        },
        {
         "name": "Bifidobacterium animalis [967]",
         "rawType": "float32",
         "type": "float"
        },
        {
         "name": "Bifidobacterium bifidum [968]",
         "rawType": "float32",
         "type": "float"
        },
        {
         "name": "Bifidobacterium breve [969]",
         "rawType": "float32",
         "type": "float"
        },
        {
         "name": "Bifidobacterium longum [970]",
         "rawType": "float32",
         "type": "float"
        },
        {
         "name": "Bifidobacterium dentium [971]",
         "rawType": "float32",
         "type": "float"
        },
        {
         "name": "Bifidobacterium adolescentis [972]",
         "rawType": "float32",
         "type": "float"
        },
        {
         "name": "Bifidobacterium catenulatum-Bifidobacterium pseudocatenulatum complex [973]",
         "rawType": "float32",
         "type": "float"
        },
        {
         "name": "Bifidobacterium angulatum [974]",
         "rawType": "float32",
         "type": "float"
        },
        {
         "name": "Parascardovia denticolens [976]",
         "rawType": "float32",
         "type": "float"
        },
        {
         "name": "Scardovia inopinata [977]",
         "rawType": "float32",
         "type": "float"
        },
        {
         "name": "target",
         "rawType": "int8",
         "type": "integer"
        }
       ],
       "conversionMethod": "pd.DataFrame",
       "ref": "0ab176d5-b9e9-4cb0-8ff4-2030e0206956",
       "rows": [
        [
         "0",
         "-1.3925618",
         "2.105299",
         "-0.73741823",
         "1.2448039",
         "1.7498032",
         "-0.648682",
         "-0.37029198",
         "-0.21693194",
         "-0.3691239",
         "-0.29134834",
         "-0.4537924",
         "-0.30996516",
         "1.5733386",
         "0.8596312",
         "-0.40449253",
         "8.121835",
         "-3.0151012",
         "-2.1740034",
         "-0.33784398",
         "2.0039053",
         "-5.0724783",
         "-0.73004854",
         "0.60271657",
         "1.8917497",
         "1.1405183",
         "4.229551",
         "2.4481125",
         "-1.6345001",
         "-4.3357553",
         "-1.1616008",
         "-0.082819715",
         "-0.1013453",
         "0.27259764",
         "0.24956433",
         "0.14634322",
         "0.18322767",
         "0.54430306",
         "-0.61283034",
         "-0.18420044",
         "-0.18836915",
         "-3.0679064",
         "-0.36595607",
         "2.805003",
         "-2.269252",
         "-2.368124",
         "-1.2069019",
         "-0.64349616",
         "-0.50166845",
         "-2.1347554",
         "-1.9225285",
         "-0.95729744",
         "-2.2046988",
         "-2.6445684",
         "1.7512658",
         "-0.5796131",
         "-0.6964993",
         "-0.71598667",
         "2.6765375",
         "2.8839881",
         "-1.8351799",
         "-0.78114015",
         "0.9983566",
         "-0.95257837",
         "-1.7464348",
         "-0.31708023",
         "-0.59332633",
         "-2.3948064",
         "-0.33367234",
         "-0.2745583",
         "-2.803777",
         "-2.1237457",
         "-0.23187797",
         "-3.6091323",
         "-2.1157644",
         "-0.73729527",
         "-0.22166982",
         "0.9385054",
         "-4.217369",
         "-1.063678",
         "-0.26349035",
         "-1.6997513",
         "-0.7252662",
         "-0.62127346",
         "-0.26751888",
         "-2.558106",
         "-2.5808284",
         "-2.0448172",
         "-1.5503454",
         "-0.521968",
         "-1.0672929",
         "-0.82553166",
         "0.6644274",
         "-1.088756",
         "-2.5392756",
         "0.11140542",
         "-1.6735113",
         "0.4154351",
         "-1.6537749",
         "-1.4729539",
         "-1.0777304",
         "1.6047041",
         "-0.2486433",
         "-1.7457821",
         "-1.5696142",
         "0.10294552",
         "-1.3996141",
         "-0.7145446",
         "-1.7883285",
         "-2.521766",
         "-1.765451",
         "-1.5335511",
         "-1.8873813",
         "-1.9684215",
         "-0.4672576",
         "-0.22457711",
         "-1.988951",
         "-0.16240211",
         "-0.20112544",
         "-0.18714438",
         "1.680847",
         "-0.51519406",
         "-1.7124258",
         "-0.4973692",
         "-1.6878432",
         "-0.6919948",
         "-0.73271203",
         "-0.3993603",
         "1.816885",
         "-0.5467343",
         "-0.7789258",
         "-0.5796193",
         "-0.7684102",
         "-0.27983707",
         "-0.19294177",
         "-0.5504862",
         "-0.12597659",
         "-0.36611786",
         "-0.35008353",
         "-0.74933255",
         "-0.51206374",
         "-0.7240204",
         "-1.2097816",
         "-0.7048791",
         "-0.43908215",
         "-0.13838589",
         "-0.44566095",
         "-0.38037473",
         "-0.13717245",
         "-0.64321065",
         "-0.42483175",
         "-0.3905528",
         "-2.8055212",
         "-1.1191962",
         "-1.1007005",
         "-2.0864613",
         "-0.5039909",
         "-0.36794305",
         "-4.3847365",
         "-0.61127174",
         "-1.1229062",
         "-0.18613659",
         "-0.19970411",
         "-0.3398163",
         "-0.36310133",
         "-0.48611453",
         "2.177022",
         "-0.9315293",
         "-4.0942698",
         "1.1274796",
         "-0.89695424",
         "-0.6331424",
         "0.65142554",
         "-0.57385236",
         "-0.20050734",
         "1.128736",
         "-0.96269065",
         "-1.2683369",
         "-2.235374",
         "0.30457118",
         "-1.3637832",
         "-0.14989391",
         "-0.801828",
         "-0.9951433",
         "5.5649333",
         "1.251318",
         "-0.38250443",
         "-1.1193393",
         "-1.6784036",
         "1.6057414",
         "0.40897062",
         "-2.5013654",
         "-1.398143",
         "0.98221946",
         "-0.74837685",
         "-1.2146177",
         "1.6697186",
         "-0.5493395",
         "-0.30789253",
         "3.0272346",
         "2.4883695",
         "-0.9699126",
         "2.7599843",
         "-0.60686046",
         "-0.66766495",
         "1.2115892",
         "-0.47151324",
         "-0.18234546",
         "-2.600042",
         "-0.8170141",
         "0.19734287",
         "-1.5316762",
         "0.24323535",
         "-1.1708895",
         "0.8982206",
         "-0.54979086",
         "3.0789187",
         "-1.6045458",
         "4.3991833",
         "2.4686496",
         "-0.64248294",
         "-0.39740565",
         "-1.1055416",
         "-0.2478329",
         "-1.3172696",
         "-1.53142",
         "5.9489717",
         "-0.20515946",
         "-0.17914912",
         "-0.22216345",
         "-0.18066964",
         "-0.15748206",
         "-0.3101991",
         "-0.22930391",
         "-0.5033588",
         "-1.2722142",
         "-0.97779924",
         "-0.35301238",
         "-0.4555003",
         "-0.9237435",
         "-1.167283",
         "-0.85748804",
         "-0.2786835",
         "-0.5343323",
         "-0.21314047",
         "-0.19497812",
         "-2.2308078",
         "-0.50220174",
         "-0.6222097",
         "-0.30535263",
         "-0.34680873",
         "-0.22341275",
         "-1.0515778",
         "-0.5874149",
         "-0.78283966",
         "-0.23764348",
         "-0.1712906",
         "-0.09108007",
         "-0.1873477",
         "-0.14248401",
         "2.3257997",
         "-1.9643172",
         "-2.8465185",
         "-0.4330141",
         "1.520737",
         "-0.8297274",
         "-0.955081",
         "-1.1456237",
         "0.13051268",
         "-0.79916495",
         "-1.1386352",
         "-2.0582697",
         "-0.7315222",
         "-1.0681885",
         "-0.38779604",
         "-0.674328",
         "0.6791565",
         "-0.21183236",
         "-3.6949227",
         "-1.3880084",
         "-2.5431507",
         "-1.312526",
         "0.18083102",
         "-0.53699106",
         "0.88350314",
         "-0.774693",
         "-0.13161792",
         "-1.047773",
         "-1.1129755",
         "-0.09444879",
         "-1.6025724",
         "-3.1536767",
         "-1.0744432",
         "-6.321915",
         "-2.7292001",
         "-5.181201",
         "-4.5661454",
         "-2.0949483",
         "-0.4624842",
         "-0.31181964",
         "1"
        ]
       ],
       "shape": {
        "columns": 300,
        "rows": 1
       }
      },
      "text/html": [
       "<div>\n",
       "<style scoped>\n",
       "    .dataframe tbody tr th:only-of-type {\n",
       "        vertical-align: middle;\n",
       "    }\n",
       "\n",
       "    .dataframe tbody tr th {\n",
       "        vertical-align: top;\n",
       "    }\n",
       "\n",
       "    .dataframe thead th {\n",
       "        text-align: right;\n",
       "    }\n",
       "</style>\n",
       "<table border=\"1\" class=\"dataframe\">\n",
       "  <thead>\n",
       "    <tr style=\"text-align: right;\">\n",
       "      <th></th>\n",
       "      <th>Victivallis vadensis [1000]</th>\n",
       "      <th>Akkermansia muciniphila [1008]</th>\n",
       "      <th>Alistipes shahii [1052]</th>\n",
       "      <th>unnamed Alistipes sp. HGB5 [1053]</th>\n",
       "      <th>Alistipes putredinis [1054]</th>\n",
       "      <th>Porphyromonas asaccharolytica [1056]</th>\n",
       "      <th>Porphyromonas uenonis [1057]</th>\n",
       "      <th>Prevotella buccalis [1059]</th>\n",
       "      <th>Prevotella buccae [1065]</th>\n",
       "      <th>Prevotella dentalis [1067]</th>\n",
       "      <th>...</th>\n",
       "      <th>Bifidobacterium bifidum [968]</th>\n",
       "      <th>Bifidobacterium breve [969]</th>\n",
       "      <th>Bifidobacterium longum [970]</th>\n",
       "      <th>Bifidobacterium dentium [971]</th>\n",
       "      <th>Bifidobacterium adolescentis [972]</th>\n",
       "      <th>Bifidobacterium catenulatum-Bifidobacterium pseudocatenulatum complex [973]</th>\n",
       "      <th>Bifidobacterium angulatum [974]</th>\n",
       "      <th>Parascardovia denticolens [976]</th>\n",
       "      <th>Scardovia inopinata [977]</th>\n",
       "      <th>target</th>\n",
       "    </tr>\n",
       "  </thead>\n",
       "  <tbody>\n",
       "    <tr>\n",
       "      <th>0</th>\n",
       "      <td>-1.392562</td>\n",
       "      <td>2.105299</td>\n",
       "      <td>-0.737418</td>\n",
       "      <td>1.244804</td>\n",
       "      <td>1.749803</td>\n",
       "      <td>-0.648682</td>\n",
       "      <td>-0.370292</td>\n",
       "      <td>-0.216932</td>\n",
       "      <td>-0.369124</td>\n",
       "      <td>-0.291348</td>\n",
       "      <td>...</td>\n",
       "      <td>-3.153677</td>\n",
       "      <td>-1.074443</td>\n",
       "      <td>-6.321915</td>\n",
       "      <td>-2.7292</td>\n",
       "      <td>-5.181201</td>\n",
       "      <td>-4.566145</td>\n",
       "      <td>-2.094948</td>\n",
       "      <td>-0.462484</td>\n",
       "      <td>-0.31182</td>\n",
       "      <td>1</td>\n",
       "    </tr>\n",
       "  </tbody>\n",
       "</table>\n",
       "<p>1 rows × 300 columns</p>\n",
       "</div>"
      ],
      "text/plain": [
       "   Victivallis vadensis [1000]  Akkermansia muciniphila [1008]  \\\n",
       "0                    -1.392562                        2.105299   \n",
       "\n",
       "   Alistipes shahii [1052]  unnamed Alistipes sp. HGB5 [1053]  \\\n",
       "0                -0.737418                           1.244804   \n",
       "\n",
       "   Alistipes putredinis [1054]  Porphyromonas asaccharolytica [1056]  \\\n",
       "0                     1.749803                             -0.648682   \n",
       "\n",
       "   Porphyromonas uenonis [1057]  Prevotella buccalis [1059]  \\\n",
       "0                     -0.370292                   -0.216932   \n",
       "\n",
       "   Prevotella buccae [1065]  Prevotella dentalis [1067]  ...  \\\n",
       "0                 -0.369124                   -0.291348  ...   \n",
       "\n",
       "   Bifidobacterium bifidum [968]  Bifidobacterium breve [969]  \\\n",
       "0                      -3.153677                    -1.074443   \n",
       "\n",
       "   Bifidobacterium longum [970]  Bifidobacterium dentium [971]  \\\n",
       "0                     -6.321915                        -2.7292   \n",
       "\n",
       "   Bifidobacterium adolescentis [972]  \\\n",
       "0                           -5.181201   \n",
       "\n",
       "   Bifidobacterium catenulatum-Bifidobacterium pseudocatenulatum complex [973]  \\\n",
       "0                                          -4.566145                             \n",
       "\n",
       "   Bifidobacterium angulatum [974]  Parascardovia denticolens [976]  \\\n",
       "0                        -2.094948                        -0.462484   \n",
       "\n",
       "   Scardovia inopinata [977]  target  \n",
       "0                   -0.31182       1  \n",
       "\n",
       "[1 rows x 300 columns]"
      ]
     },
     "metadata": {},
     "output_type": "display_data"
    },
    {
     "name": "stdout",
     "output_type": "stream",
     "text": [
      "\n",
      "Diverse Counterfactual set (new outcome: 0)\n"
     ]
    },
    {
     "data": {
      "application/vnd.microsoft.datawrangler.viewer.v0+json": {
       "columns": [
        {
         "name": "index",
         "rawType": "int64",
         "type": "integer"
        },
        {
         "name": "Victivallis vadensis [1000]",
         "rawType": "float64",
         "type": "float"
        },
        {
         "name": "Akkermansia muciniphila [1008]",
         "rawType": "float64",
         "type": "float"
        },
        {
         "name": "Alistipes shahii [1052]",
         "rawType": "float64",
         "type": "float"
        },
        {
         "name": "unnamed Alistipes sp. HGB5 [1053]",
         "rawType": "float64",
         "type": "float"
        },
        {
         "name": "Alistipes putredinis [1054]",
         "rawType": "float64",
         "type": "float"
        },
        {
         "name": "Porphyromonas asaccharolytica [1056]",
         "rawType": "float64",
         "type": "float"
        },
        {
         "name": "Porphyromonas uenonis [1057]",
         "rawType": "float64",
         "type": "float"
        },
        {
         "name": "Prevotella buccalis [1059]",
         "rawType": "float64",
         "type": "float"
        },
        {
         "name": "Prevotella buccae [1065]",
         "rawType": "float64",
         "type": "float"
        },
        {
         "name": "Prevotella dentalis [1067]",
         "rawType": "float64",
         "type": "float"
        },
        {
         "name": "Prevotella nigrescens [1069]",
         "rawType": "float64",
         "type": "float"
        },
        {
         "name": "Prevotella disiens [1071]",
         "rawType": "float64",
         "type": "float"
        },
        {
         "name": "Prevotella denticola [1072]",
         "rawType": "float64",
         "type": "float"
        },
        {
         "name": "Prevotella multiformis [1073]",
         "rawType": "float64",
         "type": "float"
        },
        {
         "name": "Prevotella bivia [1076]",
         "rawType": "float64",
         "type": "float"
        },
        {
         "name": "Prevotella copri [1081]",
         "rawType": "float64",
         "type": "float"
        },
        {
         "name": "unnamed Capnocytophaga sp. oral taxon 329 [1086]",
         "rawType": "float64",
         "type": "float"
        },
        {
         "name": "Paraprevotella xylaniphila [1087]",
         "rawType": "float64",
         "type": "float"
        },
        {
         "name": "Parabacteroides distasonis [1088]",
         "rawType": "float64",
         "type": "float"
        },
        {
         "name": "Parabacteroides merdae [1089]",
         "rawType": "float64",
         "type": "float"
        },
        {
         "name": "Bacteroides fragilis [1090]",
         "rawType": "float64",
         "type": "float"
        },
        {
         "name": "Bacteroides fragilis [1091]",
         "rawType": "float64",
         "type": "float"
        },
        {
         "name": "Bacteroides thetaiotaomicron [1092]",
         "rawType": "float64",
         "type": "float"
        },
        {
         "name": "Bacteroides xylanisolvens [1093]",
         "rawType": "float64",
         "type": "float"
        },
        {
         "name": "Bacteroides ovatus [1094]",
         "rawType": "float64",
         "type": "float"
        },
        {
         "name": "Bacteroides finegoldii [1095]",
         "rawType": "float64",
         "type": "float"
        },
        {
         "name": "Bacteroides caccae [1096]",
         "rawType": "float64",
         "type": "float"
        },
        {
         "name": "Bacteroides eggerthii [1097]",
         "rawType": "float64",
         "type": "float"
        },
        {
         "name": "Bacteroides stercoris [1098]",
         "rawType": "float64",
         "type": "float"
        },
        {
         "name": "Bacteroides clarus [1099]",
         "rawType": "float64",
         "type": "float"
        },
        {
         "name": "Bacteroides uniformis [1100]",
         "rawType": "float64",
         "type": "float"
        },
        {
         "name": "Bacteroides fluxus [1101]",
         "rawType": "float64",
         "type": "float"
        },
        {
         "name": "Bacteroides intestinalis [1103]",
         "rawType": "float64",
         "type": "float"
        },
        {
         "name": "Bacteroides dorei/vulgatus [1104]",
         "rawType": "float64",
         "type": "float"
        },
        {
         "name": "Bacteroides plebeius [1105]",
         "rawType": "float64",
         "type": "float"
        },
        {
         "name": "Bacteroides coprophilus [1106]",
         "rawType": "float64",
         "type": "float"
        },
        {
         "name": "Bacteroides coprocola [1107]",
         "rawType": "float64",
         "type": "float"
        },
        {
         "name": "Bacteroides salanitronis [1108]",
         "rawType": "float64",
         "type": "float"
        },
        {
         "name": "Prevotella tannerae [1112]",
         "rawType": "float64",
         "type": "float"
        },
        {
         "name": "Odoribacter splanchnicus [1115]",
         "rawType": "float64",
         "type": "float"
        },
        {
         "name": "Dialister invisus [1259]",
         "rawType": "float64",
         "type": "float"
        },
        {
         "name": "Veillonella atypica [1260]",
         "rawType": "float64",
         "type": "float"
        },
        {
         "name": "Veillonella parvula [1261]",
         "rawType": "float64",
         "type": "float"
        },
        {
         "name": "Veillonella dispar [1262]",
         "rawType": "float64",
         "type": "float"
        },
        {
         "name": "unnamed Veillonella sp. oral taxon 158 [1263]",
         "rawType": "float64",
         "type": "float"
        },
        {
         "name": "Megasphaera elsdenii [1267]",
         "rawType": "float64",
         "type": "float"
        },
        {
         "name": "Megasphaera micronuciformis [1268]",
         "rawType": "float64",
         "type": "float"
        },
        {
         "name": "Clostridium ramosum [1269]",
         "rawType": "float64",
         "type": "float"
        },
        {
         "name": "Clostridium spiroforme [1270]",
         "rawType": "float64",
         "type": "float"
        },
        {
         "name": "unnamed Coprobacillus sp. 29_1 [1271]",
         "rawType": "float64",
         "type": "float"
        },
        {
         "name": "Bulleidia extructa [1272]",
         "rawType": "float64",
         "type": "float"
        },
        {
         "name": "Solobacterium moorei [1273]",
         "rawType": "float64",
         "type": "float"
        },
        {
         "name": "Eubacterium biforme [1275]",
         "rawType": "float64",
         "type": "float"
        },
        {
         "name": "Eubacterium cylindroides [1276]",
         "rawType": "float64",
         "type": "float"
        },
        {
         "name": "unnamed Erysipelotrichaceae bacterium 3_1_53 [1277]",
         "rawType": "float64",
         "type": "float"
        },
        {
         "name": "unnamed Clostridium sp. HGF2 [1278]",
         "rawType": "float64",
         "type": "float"
        },
        {
         "name": "unnamed Erysipelotrichaceae bacterium 5_2_54FAA [1279]",
         "rawType": "float64",
         "type": "float"
        },
        {
         "name": "Eubacterium dolichum [1280]",
         "rawType": "float64",
         "type": "float"
        },
        {
         "name": "Holdemania filiformis [1281]",
         "rawType": "float64",
         "type": "float"
        },
        {
         "name": "Turicibacter sanguinis [1297]",
         "rawType": "float64",
         "type": "float"
        },
        {
         "name": "Gemella haemolysans [1299]",
         "rawType": "float64",
         "type": "float"
        },
        {
         "name": "Gemella haemolysans [1300]",
         "rawType": "float64",
         "type": "float"
        },
        {
         "name": "Gemella sanguinis [1301]",
         "rawType": "float64",
         "type": "float"
        },
        {
         "name": "Gemella morbillorum [1302]",
         "rawType": "float64",
         "type": "float"
        },
        {
         "name": "Staphylococcus aureus [1305]",
         "rawType": "float64",
         "type": "float"
        },
        {
         "name": "Granulicatella elegans [1357]",
         "rawType": "float64",
         "type": "float"
        },
        {
         "name": "Granulicatella adiacens [1358]",
         "rawType": "float64",
         "type": "float"
        },
        {
         "name": "Enterococcus casseliflavus [1361]",
         "rawType": "float64",
         "type": "float"
        },
        {
         "name": "Enterococcus gallinarum [1362]",
         "rawType": "float64",
         "type": "float"
        },
        {
         "name": "Enterococcus faecalis [1363]",
         "rawType": "float64",
         "type": "float"
        },
        {
         "name": "Enterococcus faecium [1364]",
         "rawType": "float64",
         "type": "float"
        },
        {
         "name": "Lactococcus garvieae [1368]",
         "rawType": "float64",
         "type": "float"
        },
        {
         "name": "Lactococcus lactis [1369]",
         "rawType": "float64",
         "type": "float"
        },
        {
         "name": "Lactococcus lactis [1370]",
         "rawType": "float64",
         "type": "float"
        },
        {
         "name": "Streptococcus downei [1372]",
         "rawType": "float64",
         "type": "float"
        },
        {
         "name": "Streptococcus mutans [1373]",
         "rawType": "float64",
         "type": "float"
        },
        {
         "name": "Streptococcus thermophilus [1375]",
         "rawType": "float64",
         "type": "float"
        },
        {
         "name": "Streptococcus vestibularis [1376]",
         "rawType": "float64",
         "type": "float"
        },
        {
         "name": "Streptococcus salivarius [1377]",
         "rawType": "float64",
         "type": "float"
        },
        {
         "name": "unnamed Streptococcus sp. C150 [1378]",
         "rawType": "float64",
         "type": "float"
        },
        {
         "name": "Streptococcus gallolyticus [1379]",
         "rawType": "float64",
         "type": "float"
        },
        {
         "name": "Streptococcus infantarius [1380]",
         "rawType": "float64",
         "type": "float"
        },
        {
         "name": "Streptococcus equinus [1381]",
         "rawType": "float64",
         "type": "float"
        },
        {
         "name": "Streptococcus agalactiae [1388]",
         "rawType": "float64",
         "type": "float"
        },
        {
         "name": "Streptococcus anginosus [1393]",
         "rawType": "float64",
         "type": "float"
        },
        {
         "name": "Streptococcus anginosus [1394]",
         "rawType": "float64",
         "type": "float"
        },
        {
         "name": "Streptococcus constellatus [1395]",
         "rawType": "float64",
         "type": "float"
        },
        {
         "name": "Streptococcus cristatus [1396]",
         "rawType": "float64",
         "type": "float"
        },
        {
         "name": "Streptococcus sanguinis [1397]",
         "rawType": "float64",
         "type": "float"
        },
        {
         "name": "Streptococcus gordonii [1398]",
         "rawType": "float64",
         "type": "float"
        },
        {
         "name": "unnamed Streptococcus sp. oral taxon 056 [1399]",
         "rawType": "float64",
         "type": "float"
        },
        {
         "name": "Streptococcus pneumoniae [1400]",
         "rawType": "float64",
         "type": "float"
        },
        {
         "name": "Streptococcus pseudopneumoniae [1401]",
         "rawType": "float64",
         "type": "float"
        },
        {
         "name": "Streptococcus mitis [1402]",
         "rawType": "float64",
         "type": "float"
        },
        {
         "name": "Streptococcus mitis [1403]",
         "rawType": "float64",
         "type": "float"
        },
        {
         "name": "Streptococcus mitis [1404]",
         "rawType": "float64",
         "type": "float"
        },
        {
         "name": "unnamed Streptococcus sp. M334 [1405]",
         "rawType": "float64",
         "type": "float"
        },
        {
         "name": "Streptococcus mitis [1406]",
         "rawType": "float64",
         "type": "float"
        },
        {
         "name": "unnamed Streptococcus sp. M143 [1407]",
         "rawType": "float64",
         "type": "float"
        },
        {
         "name": "Streptococcus mitis [1408]",
         "rawType": "float64",
         "type": "float"
        },
        {
         "name": "Streptococcus mitis [1409]",
         "rawType": "float64",
         "type": "float"
        },
        {
         "name": "Streptococcus oralis [1410]",
         "rawType": "float64",
         "type": "float"
        },
        {
         "name": "Streptococcus oralis [1411]",
         "rawType": "float64",
         "type": "float"
        },
        {
         "name": "Streptococcus sanguinis [1412]",
         "rawType": "float64",
         "type": "float"
        },
        {
         "name": "unnamed Streptococcus sp. oral taxon 071 [1413]",
         "rawType": "float64",
         "type": "float"
        },
        {
         "name": "Streptococcus mitis [1414]",
         "rawType": "float64",
         "type": "float"
        },
        {
         "name": "Streptococcus infantis [1415]",
         "rawType": "float64",
         "type": "float"
        },
        {
         "name": "Streptococcus infantis [1416]",
         "rawType": "float64",
         "type": "float"
        },
        {
         "name": "Streptococcus infantis [1417]",
         "rawType": "float64",
         "type": "float"
        },
        {
         "name": "Streptococcus infantis [1418]",
         "rawType": "float64",
         "type": "float"
        },
        {
         "name": "Streptococcus peroris [1419]",
         "rawType": "float64",
         "type": "float"
        },
        {
         "name": "Streptococcus australis [1420]",
         "rawType": "float64",
         "type": "float"
        },
        {
         "name": "Streptococcus parasanguinis [1421]",
         "rawType": "float64",
         "type": "float"
        },
        {
         "name": "Catonella morbi [1422]",
         "rawType": "float64",
         "type": "float"
        },
        {
         "name": "Weissella cibaria [1428]",
         "rawType": "float64",
         "type": "float"
        },
        {
         "name": "Leuconostoc mesenteroides [1430]",
         "rawType": "float64",
         "type": "float"
        },
        {
         "name": "Leuconostoc citreum [1431]",
         "rawType": "float64",
         "type": "float"
        },
        {
         "name": "Leuconostoc gasicomitatum [1434]",
         "rawType": "float64",
         "type": "float"
        },
        {
         "name": "Leuconostoc gelidum [1435]",
         "rawType": "float64",
         "type": "float"
        },
        {
         "name": "Lactobacillus delbrueckii [1438]",
         "rawType": "float64",
         "type": "float"
        },
        {
         "name": "Lactobacillus johnsonii [1442]",
         "rawType": "float64",
         "type": "float"
        },
        {
         "name": "Lactobacillus gasseri [1443]",
         "rawType": "float64",
         "type": "float"
        },
        {
         "name": "Lactobacillus crispatus [1444]",
         "rawType": "float64",
         "type": "float"
        },
        {
         "name": "Lactobacillus casei [1452]",
         "rawType": "float64",
         "type": "float"
        },
        {
         "name": "Lactobacillus rhamnosus [1453]",
         "rawType": "float64",
         "type": "float"
        },
        {
         "name": "Lactobacillus fermentum [1454]",
         "rawType": "float64",
         "type": "float"
        },
        {
         "name": "Lactobacillus oris [1455]",
         "rawType": "float64",
         "type": "float"
        },
        {
         "name": "Lactobacillus reuteri [1457]",
         "rawType": "float64",
         "type": "float"
        },
        {
         "name": "Lactobacillus vaginalis [1458]",
         "rawType": "float64",
         "type": "float"
        },
        {
         "name": "Lactobacillus sakei [1464]",
         "rawType": "float64",
         "type": "float"
        },
        {
         "name": "Lactobacillus ruminis [1466]",
         "rawType": "float64",
         "type": "float"
        },
        {
         "name": "Lactobacillus salivarius [1467]",
         "rawType": "float64",
         "type": "float"
        },
        {
         "name": "Pediococcus acidilactici [1469]",
         "rawType": "float64",
         "type": "float"
        },
        {
         "name": "Pediococcus pentosaceus [1470]",
         "rawType": "float64",
         "type": "float"
        },
        {
         "name": "Lactobacillus plantarum [1472]",
         "rawType": "float64",
         "type": "float"
        },
        {
         "name": "Lactobacillus brevis [1473]",
         "rawType": "float64",
         "type": "float"
        },
        {
         "name": "Fusobacterium gonidiaformans [1476]",
         "rawType": "float64",
         "type": "float"
        },
        {
         "name": "unnamed Fusobacterium sp. D12 [1477]",
         "rawType": "float64",
         "type": "float"
        },
        {
         "name": "Fusobacterium periodonticum [1478]",
         "rawType": "float64",
         "type": "float"
        },
        {
         "name": "Fusobacterium nucleatum [1479]",
         "rawType": "float64",
         "type": "float"
        },
        {
         "name": "Fusobacterium nucleatum [1480]",
         "rawType": "float64",
         "type": "float"
        },
        {
         "name": "unclassified Fusobacterium [1481]",
         "rawType": "float64",
         "type": "float"
        },
        {
         "name": "unclassified Fusobacterium [1482]",
         "rawType": "float64",
         "type": "float"
        },
        {
         "name": "Fusobacterium mortiferum [1485]",
         "rawType": "float64",
         "type": "float"
        },
        {
         "name": "Leptotrichia hofstadii [1488]",
         "rawType": "float64",
         "type": "float"
        },
        {
         "name": "Peptoniphilus lacrimalis [1492]",
         "rawType": "float64",
         "type": "float"
        },
        {
         "name": "Peptoniphilus harei [1493]",
         "rawType": "float64",
         "type": "float"
        },
        {
         "name": "Anaerococcus hydrogenalis [1497]",
         "rawType": "float64",
         "type": "float"
        },
        {
         "name": "Anaerococcus vaginalis [1498]",
         "rawType": "float64",
         "type": "float"
        },
        {
         "name": "Finegoldia magna [1503]",
         "rawType": "float64",
         "type": "float"
        },
        {
         "name": "Finegoldia magna [1504]",
         "rawType": "float64",
         "type": "float"
        },
        {
         "name": "Parvimonas micra [1505]",
         "rawType": "float64",
         "type": "float"
        },
        {
         "name": "unnamed Parvimonas sp. oral taxon 110 [1506]",
         "rawType": "float64",
         "type": "float"
        },
        {
         "name": "unnamed Parvimonas sp. oral taxon 393 [1507]",
         "rawType": "float64",
         "type": "float"
        },
        {
         "name": "Peptostreptococcus stomatis [1530]",
         "rawType": "float64",
         "type": "float"
        },
        {
         "name": "Peptostreptococcus anaerobius [1531]",
         "rawType": "float64",
         "type": "float"
        },
        {
         "name": "[Clostridium] difficile [1532]",
         "rawType": "float64",
         "type": "float"
        },
        {
         "name": "[Clostridium] bartlettii [1533]",
         "rawType": "float64",
         "type": "float"
        },
        {
         "name": "Clostridium perfringens [1540]",
         "rawType": "float64",
         "type": "float"
        },
        {
         "name": "Clostridium perfringens [1541]",
         "rawType": "float64",
         "type": "float"
        },
        {
         "name": "Clostridium botulinum [1542]",
         "rawType": "float64",
         "type": "float"
        },
        {
         "name": "Clostridium butyricum [1543]",
         "rawType": "float64",
         "type": "float"
        },
        {
         "name": "unnamed Clostridium sp. 7_2_43FAA [1545]",
         "rawType": "float64",
         "type": "float"
        },
        {
         "name": "Anaerofustis stercorihominis [1557]",
         "rawType": "float64",
         "type": "float"
        },
        {
         "name": "Eubacterium saphenum [1563]",
         "rawType": "float64",
         "type": "float"
        },
        {
         "name": "Eubacterium siraeum [1564]",
         "rawType": "float64",
         "type": "float"
        },
        {
         "name": "Ruminococcus champanellensis [1568]",
         "rawType": "float64",
         "type": "float"
        },
        {
         "name": "Ruminococcus bromii [1569]",
         "rawType": "float64",
         "type": "float"
        },
        {
         "name": "Anaerotruncus colihominis [1570]",
         "rawType": "float64",
         "type": "float"
        },
        {
         "name": "Clostridium methylpentosum [1572]",
         "rawType": "float64",
         "type": "float"
        },
        {
         "name": "Clostridium leptum [1573]",
         "rawType": "float64",
         "type": "float"
        },
        {
         "name": "Faecalibacterium prausnitzii [1574]",
         "rawType": "float64",
         "type": "float"
        },
        {
         "name": "Faecalibacterium prausnitzii [1575]",
         "rawType": "float64",
         "type": "float"
        },
        {
         "name": "Faecalibacterium prausnitzii [1576]",
         "rawType": "float64",
         "type": "float"
        },
        {
         "name": "Faecalibacterium prausnitzii [1577]",
         "rawType": "float64",
         "type": "float"
        },
        {
         "name": "Subdoligranulum variabile [1578]",
         "rawType": "float64",
         "type": "float"
        },
        {
         "name": "Pseudoflavonifractor capillosus [1579]",
         "rawType": "float64",
         "type": "float"
        },
        {
         "name": "unnamed Ruminococcaceae bacterium D16 [1580]",
         "rawType": "float64",
         "type": "float"
        },
        {
         "name": "Oscillibacter valericigenes [1581]",
         "rawType": "float64",
         "type": "float"
        },
        {
         "name": "Eubacterium limosum [1582]",
         "rawType": "float64",
         "type": "float"
        },
        {
         "name": "Pseudoramibacter alactolyticus [1584]",
         "rawType": "float64",
         "type": "float"
        },
        {
         "name": "Oribacterium sinus [1585]",
         "rawType": "float64",
         "type": "float"
        },
        {
         "name": "Coprococcus eutactus [1592]",
         "rawType": "float64",
         "type": "float"
        },
        {
         "name": "unnamed Clostridium sp. L2-50 [1593]",
         "rawType": "float64",
         "type": "float"
        },
        {
         "name": "Coprococcus catus [1594]",
         "rawType": "float64",
         "type": "float"
        },
        {
         "name": "butyrate-producing bacterium [1595]",
         "rawType": "float64",
         "type": "float"
        },
        {
         "name": "Anaerostipes caccae [1596]",
         "rawType": "float64",
         "type": "float"
        },
        {
         "name": "Eubacterium hallii [1597]",
         "rawType": "float64",
         "type": "float"
        },
        {
         "name": "Clostridium bolteae [1598]",
         "rawType": "float64",
         "type": "float"
        },
        {
         "name": "unnamed Clostridiales bacterium 1_7_47FAA [1599]",
         "rawType": "float64",
         "type": "float"
        },
        {
         "name": "Clostridium symbiosum [1600]",
         "rawType": "float64",
         "type": "float"
        },
        {
         "name": "Clostridium saccharolyticum [1601]",
         "rawType": "float64",
         "type": "float"
        },
        {
         "name": "unnamed butyrate-producing bacterium SS3/4 [1603]",
         "rawType": "float64",
         "type": "float"
        },
        {
         "name": "Dorea formicigenerans [1604]",
         "rawType": "float64",
         "type": "float"
        },
        {
         "name": "Dorea longicatena [1605]",
         "rawType": "float64",
         "type": "float"
        },
        {
         "name": "Clostridium scindens [1606]",
         "rawType": "float64",
         "type": "float"
        },
        {
         "name": "Clostridium hylemonae [1607]",
         "rawType": "float64",
         "type": "float"
        },
        {
         "name": "[Ruminococcus] torques [1608]",
         "rawType": "float64",
         "type": "float"
        },
        {
         "name": "Ruminococcus lactaris [1609]",
         "rawType": "float64",
         "type": "float"
        },
        {
         "name": "[Ruminococcus] torques [1610]",
         "rawType": "float64",
         "type": "float"
        },
        {
         "name": "[Ruminococcus] gnavus [1611]",
         "rawType": "float64",
         "type": "float"
        },
        {
         "name": "unnamed Lachnospiraceae bacterium 1_4_56FAA [1612]",
         "rawType": "float64",
         "type": "float"
        },
        {
         "name": "unnamed Clostridium sp. D5 [1613]",
         "rawType": "float64",
         "type": "float"
        },
        {
         "name": "unclassified Lachnospiraceae [1614]",
         "rawType": "float64",
         "type": "float"
        },
        {
         "name": "Coprococcus comes [1616]",
         "rawType": "float64",
         "type": "float"
        },
        {
         "name": "Blautia hansenii [1617]",
         "rawType": "float64",
         "type": "float"
        },
        {
         "name": "[Ruminococcus] obeum [1618]",
         "rawType": "float64",
         "type": "float"
        },
        {
         "name": "[Ruminococcus] obeum [1619]",
         "rawType": "float64",
         "type": "float"
        },
        {
         "name": "unnamed Ruminococcus sp. 5_1_39BFAA [1620]",
         "rawType": "float64",
         "type": "float"
        },
        {
         "name": "unnamed Ruminococcus sp. SR1/5 [1621]",
         "rawType": "float64",
         "type": "float"
        },
        {
         "name": "Blautia hydrogenotrophica [1622]",
         "rawType": "float64",
         "type": "float"
        },
        {
         "name": "unnamed Lachnospiraceae bacterium 3_1_57FAA_CT1 [1624]",
         "rawType": "float64",
         "type": "float"
        },
        {
         "name": "[Bacteroides] pectinophilus [1626]",
         "rawType": "float64",
         "type": "float"
        },
        {
         "name": "Eubacterium eligens [1627]",
         "rawType": "float64",
         "type": "float"
        },
        {
         "name": "Butyrivibrio crossotus [1628]",
         "rawType": "float64",
         "type": "float"
        },
        {
         "name": "Eubacterium ventriosum [1629]",
         "rawType": "float64",
         "type": "float"
        },
        {
         "name": "Eubacterium rectale [1630]",
         "rawType": "float64",
         "type": "float"
        },
        {
         "name": "Roseburia intestinalis [1631]",
         "rawType": "float64",
         "type": "float"
        },
        {
         "name": "Roseburia inulinivorans [1632]",
         "rawType": "float64",
         "type": "float"
        },
        {
         "name": "Roseburia hominis [1633]",
         "rawType": "float64",
         "type": "float"
        },
        {
         "name": "Pyramidobacter piscolens [1641]",
         "rawType": "float64",
         "type": "float"
        },
        {
         "name": "Mitsuokella multacida [1653]",
         "rawType": "float64",
         "type": "float"
        },
        {
         "name": "Selenomonas sputigena [1654]",
         "rawType": "float64",
         "type": "float"
        },
        {
         "name": "Acidaminococcus intestini [1657]",
         "rawType": "float64",
         "type": "float"
        },
        {
         "name": "Acidaminococcus fermentans [1658]",
         "rawType": "float64",
         "type": "float"
        },
        {
         "name": "Phascolarctobacterium succinatutens [1659]",
         "rawType": "float64",
         "type": "float"
        },
        {
         "name": "Campylobacter hominis [1719]",
         "rawType": "float64",
         "type": "float"
        },
        {
         "name": "Campylobacter rectus [1720]",
         "rawType": "float64",
         "type": "float"
        },
        {
         "name": "Campylobacter concisus [1722]",
         "rawType": "float64",
         "type": "float"
        },
        {
         "name": "Campylobacter gracilis [1724]",
         "rawType": "float64",
         "type": "float"
        },
        {
         "name": "Pseudomonas putida [222]",
         "rawType": "float64",
         "type": "float"
        },
        {
         "name": "Pseudomonas aeruginosa [236]",
         "rawType": "float64",
         "type": "float"
        },
        {
         "name": "Aggregatibacter aphrophilus [319]",
         "rawType": "float64",
         "type": "float"
        },
        {
         "name": "Aggregatibacter segnis [320]",
         "rawType": "float64",
         "type": "float"
        },
        {
         "name": "Haemophilus influenzae [323]",
         "rawType": "float64",
         "type": "float"
        },
        {
         "name": "Haemophilus haemolyticus [324]",
         "rawType": "float64",
         "type": "float"
        },
        {
         "name": "Haemophilus haemolyticus [325]",
         "rawType": "float64",
         "type": "float"
        },
        {
         "name": "Haemophilus parainfluenzae [326]",
         "rawType": "float64",
         "type": "float"
        },
        {
         "name": "Haemophilus pittmaniae [327]",
         "rawType": "float64",
         "type": "float"
        },
        {
         "name": "unnamed Enterobacteriaceae bacterium 9_2_54FAA [374]",
         "rawType": "float64",
         "type": "float"
        },
        {
         "name": "Enterobacter hormaechei/cloacae [384]",
         "rawType": "float64",
         "type": "float"
        },
        {
         "name": "Enterobacter cloacae [385]",
         "rawType": "float64",
         "type": "float"
        },
        {
         "name": "Enterobacter cloacae [386]",
         "rawType": "float64",
         "type": "float"
        },
        {
         "name": "Enterobacter cancerogenus [387]",
         "rawType": "float64",
         "type": "float"
        },
        {
         "name": "Enterobacter asburiae [388]",
         "rawType": "float64",
         "type": "float"
        },
        {
         "name": "Escherichia coli [390]",
         "rawType": "float64",
         "type": "float"
        },
        {
         "name": "Escherichia albertii [391]",
         "rawType": "float64",
         "type": "float"
        },
        {
         "name": "unnamed Citrobacter sp. 30_2 [392]",
         "rawType": "float64",
         "type": "float"
        },
        {
         "name": "Citrobacter youngae [393]",
         "rawType": "float64",
         "type": "float"
        },
        {
         "name": "Salmonella enterica [394]",
         "rawType": "float64",
         "type": "float"
        },
        {
         "name": "Citrobacter koseri [397]",
         "rawType": "float64",
         "type": "float"
        },
        {
         "name": "Klebsiella variicola/pneumoniae [399]",
         "rawType": "float64",
         "type": "float"
        },
        {
         "name": "Enterobacter aerogenes [400]",
         "rawType": "float64",
         "type": "float"
        },
        {
         "name": "Klebsiella oxytoca [401]",
         "rawType": "float64",
         "type": "float"
        },
        {
         "name": "Succinatimonas hippei [425]",
         "rawType": "float64",
         "type": "float"
        },
        {
         "name": "Neisseria sicca/macacae [437]",
         "rawType": "float64",
         "type": "float"
        },
        {
         "name": "unnamed Neisseria sp. oral taxon 014 [439]",
         "rawType": "float64",
         "type": "float"
        },
        {
         "name": "Neisseria meningitidis [442]",
         "rawType": "float64",
         "type": "float"
        },
        {
         "name": "Eikenella corrodens [448]",
         "rawType": "float64",
         "type": "float"
        },
        {
         "name": "Parasutterella excrementihominis [468]",
         "rawType": "float64",
         "type": "float"
        },
        {
         "name": "Sutterella wadsworthensis [469]",
         "rawType": "float64",
         "type": "float"
        },
        {
         "name": "Desulfovibrio piger [751]",
         "rawType": "float64",
         "type": "float"
        },
        {
         "name": "unnamed Desulfovibrio sp. 3_1_syn3 [752]",
         "rawType": "float64",
         "type": "float"
        },
        {
         "name": "Bilophila wadsworthia [756]",
         "rawType": "float64",
         "type": "float"
        },
        {
         "name": "Atopobium parvulum [808]",
         "rawType": "float64",
         "type": "float"
        },
        {
         "name": "Atopobium rimae [809]",
         "rawType": "float64",
         "type": "float"
        },
        {
         "name": "Collinsella stercoris [812]",
         "rawType": "float64",
         "type": "float"
        },
        {
         "name": "Collinsella intestinalis [813]",
         "rawType": "float64",
         "type": "float"
        },
        {
         "name": "Collinsella aerofaciens [814]",
         "rawType": "float64",
         "type": "float"
        },
        {
         "name": "Olsenella uli [816]",
         "rawType": "float64",
         "type": "float"
        },
        {
         "name": "Eggerthella lenta [817]",
         "rawType": "float64",
         "type": "float"
        },
        {
         "name": "unnamed Eggerthella sp. YY7918 [818]",
         "rawType": "float64",
         "type": "float"
        },
        {
         "name": "Slackia exigua [820]",
         "rawType": "float64",
         "type": "float"
        },
        {
         "name": "Cryptobacterium curtum [821]",
         "rawType": "float64",
         "type": "float"
        },
        {
         "name": "Propionibacterium acnes [823]",
         "rawType": "float64",
         "type": "float"
        },
        {
         "name": "Propionibacterium freudenreichii [825]",
         "rawType": "float64",
         "type": "float"
        },
        {
         "name": "Corynebacterium variabile [829]",
         "rawType": "float64",
         "type": "float"
        },
        {
         "name": "Actinomyces odontolyticus [878]",
         "rawType": "float64",
         "type": "float"
        },
        {
         "name": "unnamed Actinomyces sp. oral taxon 180 [879]",
         "rawType": "float64",
         "type": "float"
        },
        {
         "name": "Actinomyces viscosus [880]",
         "rawType": "float64",
         "type": "float"
        },
        {
         "name": "unnamed Actinomyces sp. oral taxon 170 [881]",
         "rawType": "float64",
         "type": "float"
        },
        {
         "name": "unnamed Actinomyces sp. oral taxon 448 [883]",
         "rawType": "float64",
         "type": "float"
        },
        {
         "name": "unnamed Actinomyces sp. oral taxon 848 [897]",
         "rawType": "float64",
         "type": "float"
        },
        {
         "name": "Methanobrevibacter smithii [92]",
         "rawType": "float64",
         "type": "float"
        },
        {
         "name": "Methanosphaera stadtmanae [94]",
         "rawType": "float64",
         "type": "float"
        },
        {
         "name": "Brevibacterium linens [949]",
         "rawType": "float64",
         "type": "float"
        },
        {
         "name": "Rothia mucilaginosa [955]",
         "rawType": "float64",
         "type": "float"
        },
        {
         "name": "Rothia dentocariosa [956]",
         "rawType": "float64",
         "type": "float"
        },
        {
         "name": "Micrococcus luteus [961]",
         "rawType": "float64",
         "type": "float"
        },
        {
         "name": "Bifidobacterium animalis [967]",
         "rawType": "float64",
         "type": "float"
        },
        {
         "name": "Bifidobacterium bifidum [968]",
         "rawType": "float64",
         "type": "float"
        },
        {
         "name": "Bifidobacterium breve [969]",
         "rawType": "float64",
         "type": "float"
        },
        {
         "name": "Bifidobacterium longum [970]",
         "rawType": "float64",
         "type": "float"
        },
        {
         "name": "Bifidobacterium dentium [971]",
         "rawType": "float64",
         "type": "float"
        },
        {
         "name": "Bifidobacterium adolescentis [972]",
         "rawType": "float64",
         "type": "float"
        },
        {
         "name": "Bifidobacterium catenulatum-Bifidobacterium pseudocatenulatum complex [973]",
         "rawType": "float64",
         "type": "float"
        },
        {
         "name": "Bifidobacterium angulatum [974]",
         "rawType": "float64",
         "type": "float"
        },
        {
         "name": "Parascardovia denticolens [976]",
         "rawType": "float64",
         "type": "float"
        },
        {
         "name": "Scardovia inopinata [977]",
         "rawType": "float64",
         "type": "float"
        },
        {
         "name": "target",
         "rawType": "int64",
         "type": "integer"
        }
       ],
       "conversionMethod": "pd.DataFrame",
       "ref": "df7121af-6a4b-4e71-9fc9-925a2f000754",
       "rows": [
        [
         "0",
         "-1.3925618",
         "2.5960073",
         "0.2726408",
         "1.2961415",
         "-1.4707574",
         "-0.648682",
         "-0.37029198",
         "-0.21693194",
         "-0.3691239",
         "-0.29134834",
         "5.2518468",
         "-0.30996516",
         "-0.33015883",
         "-0.3449036",
         "9.58644772",
         "1.706093",
         "-3.0151012",
         "2.6366351",
         "0.6558876038",
         "2.576761",
         "-0.8972989",
         "-0.73004854",
         "2.69251",
         "1.66627",
         "2.7744550705",
         "-4.068845",
         "0.1424354",
         "-3.6899602",
         "1.7605021",
         "-3.2271476",
         "0.377616495",
         "-3.260651",
         "5.1400023",
         "0.832573593",
         "1.3565756",
         "3.7530444",
         "-1.6623136",
         "-0.61283034",
         "-0.18420044",
         "0.9453245",
         "-3.0679064",
         "-2.4027288",
         "-3.61267",
         "-2.269252",
         "2.474506",
         "-1.2069019",
         "-0.64349616",
         "1.935109",
         "-2.1347554",
         "-1.9225285",
         "-0.95729744",
         "-2.2046988",
         "1.5672375",
         "-2.4741955",
         "-0.5796131",
         "1.1458366",
         "-0.71598667",
         "-0.7816566",
         "-3.1487396",
         "-1.8351799",
         "-0.78114015",
         "-0.83031285",
         "-2.9411898",
         "-1.7464348",
         "-0.31708023",
         "-0.59332633",
         "-2.3948064",
         "-0.33367234",
         "-0.2745583",
         "-2.803777",
         "-2.1237457",
         "-0.23187797",
         "4.268631",
         "4.3100028",
         "-0.73729527",
         "-2.1638978",
         "0.867737",
         "-4.217369",
         "-6.2944927",
         "-2.8090553",
         "-1.6997513",
         "-0.7252662",
         "-0.62127346",
         "-0.26751888",
         "-2.558106",
         "-2.5808284",
         "-2.0448172",
         "-1.5503454",
         "-2.6367838",
         "-2.9678178",
         "-0.82553166",
         "-2.3372326",
         "-1.088756",
         "-2.5392756",
         "-1.7940364",
         "-1.6735113",
         "-1.4810685",
         "-1.6537749",
         "-1.4729539",
         "-1.0777304",
         "-1.0546625",
         "-2.8099518",
         "-1.7457821",
         "-1.5696142",
         "-1.7414312",
         "-1.3996141",
         "-3.0215836",
         "-1.7883285",
         "-2.521766",
         "-1.765451",
         "-1.5335511",
         "-3.4973257",
         "-5.1944823",
         "-0.4672576",
         "-0.22457711",
         "-1.988951",
         "-0.16240211",
         "-0.20112544",
         "-0.18714438",
         "-1.7072419",
         "-0.51519406",
         "-1.7124258",
         "-0.4973692",
         "-1.6878432",
         "-0.6919948",
         "-0.73271203",
         "-0.3993603",
         "-0.68959403",
         "-0.5467343",
         "-0.7789258",
         "-0.5796193",
         "-0.7684102",
         "-0.27983707",
         "-0.19294177",
         "-0.5504862",
         "-0.12597659",
         "12.07607841",
         "-0.35008353",
         "-0.74933255",
         "-0.51206374",
         "-0.7240204",
         "4.3139238",
         "-0.7048791",
         "-0.43908215",
         "-0.13838589",
         "-0.44566095",
         "-0.38037473",
         "6.40112352",
         "-0.64321065",
         "-0.42483175",
         "-0.3905528",
         "-2.8055212",
         "-1.1191962",
         "-1.1007005",
         "-2.0864613",
         "5.0262175",
         "-0.36794305",
         "-4.3847365",
         "-0.61127174",
         "-1.1229062",
         "-0.18613659",
         "-0.19970411",
         "-0.3398163",
         "-0.36310133",
         "-0.48611453",
         "-5.4815145",
         "-0.9315293",
         "3.5162267685",
         "4.220201",
         "-0.89695424",
         "-4.9411664",
         "1.071595",
         "-1.339546919",
         "-2.44711113",
         "-0.408437043",
         "-3.1383896",
         "0.80136",
         "-0.689435",
         "3.5124671",
         "-1.3637832",
         "-0.14989391",
         "-0.801828",
         "3.1399531",
         "1.4989929",
         "2.429592",
         "-0.281886",
         "-1.1193393",
         "-1.00081",
         "2.800137",
         "-1.8833683",
         "-2.5013654",
         "-1.398143",
         "-0.7881002",
         "0.9648267",
         "0.380558",
         "-1.9861933",
         "-0.5493395",
         "2.5341599",
         "1.1165156",
         "2.2212839",
         "2.1100209",
         "4.0833163",
         "-0.60686046",
         "-0.66766495",
         "1.4979395",
         "-0.47151324",
         "-0.806866",
         "0.4450948",
         "0.417268097",
         "1.60314703",
         "6.0891647",
         "-3.1812727",
         "-1.1708895",
         "0.1207397",
         "2.797432",
         "1.5241321",
         "0.7740527391",
         "0.746101",
         "1.4396886",
         "-5.0377707",
         "-0.39740565",
         "-1.1055416",
         "-0.2478329",
         "4.3858638",
         "-1.53142",
         "0.8321316",
         "-0.20515946",
         "-0.17914912",
         "-0.22216345",
         "-0.18066964",
         "-0.15748206",
         "-0.3101991",
         "-0.22930391",
         "-0.5033588",
         "-1.2722142",
         "-0.97779924",
         "-0.35301238",
         "1.2047588",
         "-0.9237435",
         "-1.167283",
         "-0.85748804",
         "-0.2786835",
         "-0.5343323",
         "-0.21314047",
         "-0.19497812",
         "-6.4938574",
         "-0.50220174",
         "-0.6222097",
         "-0.30535263",
         "-0.34680873",
         "-0.22341275",
         "-1.0515778",
         "-0.5874149",
         "-0.78283966",
         "-0.23764348",
         "-0.1712906",
         "-0.09108007",
         "-0.1873477",
         "-0.14248401",
         "-4.140045",
         "-1.9643172",
         "-2.8465185",
         "-0.4330141",
         "-5.764247",
         "-0.8297274",
         "-0.955081",
         "3.3330967",
         "5.5499735",
         "0.3322053",
         "-1.1386352",
         "-0.02068",
         "-0.7315222",
         "-1.0681885",
         "-0.38779604",
         "-0.674328",
         "-1.01098",
         "-0.21183236",
         "-3.6949227",
         "-1.3880084",
         "-2.5431507",
         "-1.312526",
         "-1.2799201",
         "-0.53699106",
         "2.448448",
         "-0.774693",
         "-0.13161792",
         "-2.4697223",
         "-1.1129755",
         "5.37959814",
         "-1.6025724",
         "2.3052354",
         "-1.0744432",
         "-0.585362",
         "-2.7292001",
         "-0.23809",
         "1.3244883",
         "2.6235359",
         "-0.4624842",
         "-0.31181964",
         "0"
        ],
        [
         "0",
         "-1.3925618",
         "-0.5483761",
         "1.8003366",
         "2.8619192",
         "2.7115362",
         "-0.648682",
         "-0.37029198",
         "-0.21693194",
         "-0.3691239",
         "0.1859421",
         "4.1397805",
         "-0.30996516",
         "-0.33015883",
         "-0.3449036",
         "-0.40449253",
         "-2.127697",
         "-3.0151012",
         "-2.1740034",
         "1.8157675266",
         "0.660552",
         "5.1196799",
         "0.40444991",
         "2.29858",
         "0.6917",
         "-1.433462739",
         "5.504205",
         "-2.1953504",
         "0.6464634",
         "-3.8155296",
         "-2.7111905",
         "2.842068434",
         "0.999425",
         "4.2386112",
         "0.828336656",
         "-3.4538696",
         "-1.3631432",
         "-0.7736088",
         "0.81815267",
         "-0.18420044",
         "1.6244632",
         "-3.0679064",
         "-0.1668964",
         "-1.70645",
         "-0.366317",
         "-2.368124",
         "-1.2069019",
         "1.08051682",
         "0.393479",
         "-0.2204873",
         "-1.9225285",
         "-0.95729744",
         "-2.2046988",
         "6.9702864",
         "-2.4741955",
         "-0.5796131",
         "-0.3217152",
         "-0.71598667",
         "-0.7816566",
         "0.7228166",
         "-1.8351799",
         "-0.78114015",
         "-0.83031285",
         "-1.7182676",
         "1.270252",
         "-0.31708023",
         "-0.59332633",
         "-2.3948064",
         "-0.33367234",
         "-0.2745583",
         "-2.803777",
         "-2.1237457",
         "-0.23187797",
         "-3.6091323",
         "-0.2680928",
         "-0.73729527",
         "-2.1638978",
         "-6.327906",
         "-2.407528",
         "-3.3048217",
         "-2.8090553",
         "1.5534461",
         "-0.7252662",
         "-0.62127346",
         "-0.26751888",
         "-2.458705",
         "-3.1744795",
         "-2.0448172",
         "-1.5503454",
         "-0.4562634",
         "-1.088717",
         "-0.82553166",
         "-1.1479917",
         "-1.088756",
         "0.3407555",
         "-1.7940364",
         "-1.6735113",
         "-0.9813026",
         "-1.6537749",
         "-1.4729539",
         "-1.0777304",
         "-0.5657241",
         "-2.8099518",
         "-1.7457821",
         "-1.5696142",
         "-1.7414312",
         "-1.3996141",
         "-3.0215836",
         "-1.7883285",
         "-2.521766",
         "-1.765451",
         "-1.5335511",
         "-3.4973257",
         "-2.4341772",
         "-0.4672576",
         "-0.22457711",
         "-1.988951",
         "-0.16240211",
         "-0.20112544",
         "-0.18714438",
         "-1.7072419",
         "-0.51519406",
         "-1.7124258",
         "-0.4973692",
         "-1.6878432",
         "-0.6919948",
         "-0.73271203",
         "-0.3993603",
         "-0.68959403",
         "-0.5467343",
         "-0.7789258",
         "-0.5796193",
         "-0.7684102",
         "-0.27983707",
         "-0.19294177",
         "-0.5504862",
         "-0.12597659",
         "-0.36611786",
         "-0.35008353",
         "0.45779005",
         "0.29674858",
         "-0.6127164",
         "3.3177826",
         "1.6702636",
         "-0.43908215",
         "-0.13838589",
         "-0.44566095",
         "-0.38037473",
         "-0.13717245",
         "2.29829097",
         "-0.42483175",
         "-0.3905528",
         "3.717335",
         "3.2000353",
         "1.2971374",
         "3.9221444",
         "-0.5039909",
         "-0.36794305",
         "-4.3847365",
         "-0.61127174",
         "-1.1229062",
         "-0.18613659",
         "-0.19970411",
         "-0.3398163",
         "-0.36310133",
         "-0.48611453",
         "0.3986326",
         "-0.9315293",
         "-5.7430963516",
         "4.340604",
         "-0.89695424",
         "-1.4336534",
         "-2.71048",
         "-0.939923704",
         "0.950554788",
         "-1.512443423",
         "-0.0457647",
         "0.53063",
         "-0.145921",
         "-1.1198363",
         "-1.3637832",
         "-0.14989391",
         "0.580366",
         "-3.1137254",
         "-3.4554348",
         "-0.156997",
         "-2.451228",
         "-1.1193393",
         "-7.098074",
         "2.394511",
         "2.1355054",
         "1.8918157",
         "-1.398143",
         "1.1169498",
         "-0.6717355",
         "-0.163322",
         "-1.9861933",
         "-0.5493395",
         "3.12255454",
         "-5.3079424",
         "1.0174346",
         "0.670146",
         "1.9152362",
         "0.622347",
         "-0.66766495",
         "0.0403783",
         "-0.47151324",
         "0.352901",
         "-5.5215416",
         "-0.235766187",
         "-1.706342936",
         "-1.5316762",
         "1.6457701",
         "-1.1708895",
         "0.5167783",
         "-3.133582",
         "1.854117",
         "2.758238554",
         "-0.164979",
         "1.1425381",
         "-0.2105862",
         "-0.39740565",
         "-1.1055416",
         "-0.2478329",
         "-1.3172696",
         "-1.53142",
         "6.025486",
         "-0.20515946",
         "-0.17914912",
         "-0.22216345",
         "-0.18066964",
         "-0.15748206",
         "-0.3101991",
         "-0.22930391",
         "-0.5033588",
         "-1.2722142",
         "-0.97779924",
         "-0.35301238",
         "-3.2162912",
         "-0.9237435",
         "-1.167283",
         "-0.85748804",
         "-0.2786835",
         "-0.5343323",
         "-0.21314047",
         "-0.19497812",
         "-6.4938574",
         "-0.50220174",
         "-0.6222097",
         "-0.30535263",
         "-0.34680873",
         "-0.22341275",
         "-1.0515778",
         "-0.5874149",
         "-0.78283966",
         "-0.23764348",
         "-0.1712906",
         "-0.09108007",
         "-0.1873477",
         "-0.14248401",
         "2.490684",
         "6.4100041",
         "-2.8465185",
         "-0.4330141",
         "2.530349",
         "-0.8297274",
         "-0.955081",
         "-1.1456237",
         "-1.2046802",
         "-0.8770202",
         "0.2926488",
         "0.172582",
         "-0.7315222",
         "-1.0681885",
         "-0.38779604",
         "-0.674328",
         "-1.01098",
         "-0.21183236",
         "-3.6949227",
         "-1.3880084",
         "-2.5431507",
         "-1.312526",
         "0.5013446",
         "-0.53699106",
         "-4.259306",
         "-0.774693",
         "-0.13161792",
         "-2.4697223",
         "-1.1129755",
         "-0.09444879",
         "-1.6025724",
         "-0.2381356",
         "-1.0744432",
         "0.757404",
         "-2.7292001",
         "-1.525136",
         "0.4966835",
         "-2.0949483",
         "1.2733662",
         "-0.31181964",
         "0"
        ],
        [
         "0",
         "4.060926",
         "5.8407087",
         "1.027295",
         "-0.3991702",
         "-0.2232277",
         "3.177045",
         "0.83171743",
         "0.72164696",
         "-0.3691239",
         "-0.29134834",
         "-0.4537924",
         "-0.30996516",
         "0.64020813",
         "-0.3449036",
         "-0.40449253",
         "1.676552",
         "2.3281107",
         "1.3076963",
         "1.7818263769",
         "1.360997",
         "1.5997932",
         "-0.73004854",
         "1.96795",
         "-0.49107",
         "2.094918251",
         "-0.203394",
         "0.1980111",
         "-1.4318163",
         "1.8110923",
         "-3.2271476",
         "1.662350774",
         "1.596422",
         "1.3285273",
         "0.397979528",
         "1.5662856",
         "-1.3631432",
         "-1.6623136",
         "-0.61283034",
         "-0.18420044",
         "-0.2215892",
         "4.4159651",
         "-2.4027288",
         "-1.32041",
         "-2.269252",
         "-2.368124",
         "-1.2069019",
         "-0.64349616",
         "-2.931382",
         "-2.1347554",
         "-1.9225285",
         "-0.95729744",
         "-2.2046988",
         "1.0205699",
         "-2.4741955",
         "-0.5796131",
         "3.4007308",
         "-0.71598667",
         "-0.7816566",
         "-3.1487396",
         "-1.8351799",
         "-0.78114015",
         "-0.83031285",
         "-2.9411898",
         "-1.7464348",
         "-0.31708023",
         "-0.59332633",
         "-2.3948064",
         "-0.33367234",
         "-0.2745583",
         "-2.803777",
         "-0.0728586",
         "-0.23187797",
         "1.4665931",
         "-2.1157644",
         "-0.73729527",
         "-2.1638978",
         "-2.329001",
         "-2.561392",
         "-6.2944927",
         "-2.8090553",
         "-1.6997513",
         "-0.7252662",
         "-0.62127346",
         "-0.26751888",
         "-2.558106",
         "1.4304315",
         "-2.0448172",
         "-1.5503454",
         "-2.6367838",
         "-2.9678178",
         "-0.82553166",
         "-2.3372326",
         "-1.088756",
         "-0.0894371",
         "-1.7940364",
         "-1.6735113",
         "-1.4810685",
         "-1.6537749",
         "-1.4729539",
         "-1.0777304",
         "-1.0546625",
         "-2.8099518",
         "-1.7457821",
         "-1.5696142",
         "-1.7414312",
         "-1.3996141",
         "-3.0215836",
         "-1.7883285",
         "-2.521766",
         "-1.765451",
         "-1.5335511",
         "-3.4973257",
         "-5.1944823",
         "-0.4672576",
         "-0.22457711",
         "-1.988951",
         "-0.16240211",
         "-0.20112544",
         "-0.18714438",
         "-1.7072419",
         "-0.51519406",
         "-1.7124258",
         "-0.4973692",
         "-0.0839341",
         "0.9059213",
         "-0.73271203",
         "-0.3993603",
         "2.25669861",
         "-0.5467343",
         "-0.7789258",
         "-0.5796193",
         "-0.7684102",
         "-0.27983707",
         "-0.19294177",
         "-0.5504862",
         "-0.12597659",
         "-0.36611786",
         "1.43574643",
         "-0.74933255",
         "-0.51206374",
         "-0.7240204",
         "-1.2097816",
         "-0.7048791",
         "-0.43908215",
         "-0.13838589",
         "-0.44566095",
         "-0.38037473",
         "-0.13717245",
         "-0.64321065",
         "-0.42483175",
         "-0.3905528",
         "-2.8055212",
         "-1.1191962",
         "-1.1007005",
         "-2.0864613",
         "-0.5039909",
         "-0.36794305",
         "-4.3847365",
         "-0.61127174",
         "-1.1229062",
         "-0.18613659",
         "-0.19970411",
         "-0.3398163",
         "-0.36310133",
         "-0.48611453",
         "3.7214653",
         "0.2786107",
         "-0.3420085013",
         "-1.705795",
         "-0.89695424",
         "1.2582151",
         "1.118425",
         "0.541495442",
         "-0.611006796",
         "0.569541812",
         "-0.1576278",
         "0.81427",
         "1.331626",
         "-0.1419132",
         "4.5020537",
         "-0.14989391",
         "-0.801828",
         "-0.1697332",
         "-3.4554348",
         "0.139758",
         "-3.358106",
         "-1.1193393",
         "-3.880107",
         "1.799692",
         "-0.2912134",
         "-2.5013654",
         "0.652759",
         "-1.9262813",
         "-3.3929646",
         "-1.097389",
         "-1.9861933",
         "-0.5493395",
         "-3.19849324",
         "-5.3079424",
         "-0.4597954",
         "-4.8569508",
         "-2.1529753",
         "-0.60686046",
         "-0.66766495",
         "-0.6218847",
         "-0.47151324",
         "-1.021363",
         "0.3684847",
         "-4.90458107",
         "-0.936703444",
         "-1.5316762",
         "-1.5851488",
         "5.7919683",
         "-1.9549156",
         "-3.133582",
         "-5.7090406",
         "-2.5864460468",
         "-4.107607",
         "-7.1067095",
         "-1.1662649",
         "-0.39740565",
         "-1.1055416",
         "-0.2478329",
         "-1.3172696",
         "-1.53142",
         "-3.4644334",
         "-0.20515946",
         "-0.17914912",
         "-0.22216345",
         "-0.18066964",
         "2.63036132",
         "-0.3101991",
         "-0.22930391",
         "-0.5033588",
         "-1.2722142",
         "-0.97779924",
         "-0.35301238",
         "-3.2162912",
         "-0.9237435",
         "-1.167283",
         "-0.85748804",
         "-0.2786835",
         "-0.5343323",
         "-0.21314047",
         "-0.19497812",
         "5.4822335",
         "-0.50220174",
         "-0.6222097",
         "-0.30535263",
         "0.71620333",
         "-0.22341275",
         "-1.0515778",
         "-0.5874149",
         "-0.78283966",
         "-0.23764348",
         "-0.1712906",
         "-0.09108007",
         "-0.1873477",
         "-0.14248401",
         "1.615381",
         "-1.9643172",
         "-2.8465185",
         "-0.4330141",
         "2.400768",
         "-0.8297274",
         "-0.955081",
         "-1.1456237",
         "-1.2046802",
         "1.4844506",
         "-1.1386352",
         "1.0107718",
         "0.7376038",
         "-1.0681885",
         "-0.38779604",
         "2.078079",
         "-1.01098",
         "-0.21183236",
         "-3.6949227",
         "-1.3880084",
         "-1.0356426",
         "-1.312526",
         "-1.2799201",
         "-0.53699106",
         "1.302184",
         "-0.774693",
         "-0.13161792",
         "-0.2221737",
         "-1.1129755",
         "-0.09444879",
         "-0.3138499",
         "5.135869",
         "-0.0267243",
         "3.780432",
         "2.3585169",
         "3.188324",
         "-0.2514397",
         "-0.6094009",
         "1.6135049",
         "-0.31181964",
         "0"
        ],
        [
         "0",
         "-1.3925618",
         "-1.1396621",
         "-2.0101523",
         "-1.4717476",
         "-2.3619301",
         "-0.648682",
         "-0.37029198",
         "-0.21693194",
         "-0.3691239",
         "-0.29134834",
         "-0.4537924",
         "-0.30996516",
         "-0.33015883",
         "-0.3449036",
         "2.64003491",
         "-0.137999",
         "-3.0151012",
         "-2.1740034",
         "-3.21601367",
         "-3.526766",
         "5.2365217",
         "-0.73004854",
         "-1.92906",
         "3.10871",
         "3.5024950504",
         "7.295048",
         "-6.0527034",
         "2.1295094",
         "-1.1060483",
         "-3.2271476",
         "2.223986387",
         "3.37298",
         "0.3625371",
         "2.666577816",
         "0.3154476",
         "-1.3631432",
         "-1.6623136",
         "-0.61283034",
         "-0.18420044",
         "-6.8136516",
         "-3.0679064",
         "2.4660482",
         "0.42999",
         "2.205231",
         "1.175549",
         "5.952879",
         "-0.64349616",
         "1.295651",
         "-2.1347554",
         "-1.9225285",
         "-0.95729744",
         "-2.2046988",
         "-2.6445684",
         "-2.4741955",
         "-0.5796131",
         "2.4269848",
         "-0.71598667",
         "-0.7816566",
         "-3.1487396",
         "-1.8351799",
         "-0.78114015",
         "-0.83031285",
         "0.8760093",
         "-1.7464348",
         "-0.31708023",
         "-0.59332633",
         "-2.3948064",
         "-0.33367234",
         "-0.2745583",
         "-2.803777",
         "-2.1237457",
         "-0.23187797",
         "-3.6091323",
         "-2.1157644",
         "-0.73729527",
         "-2.1638978",
         "0.10048",
         "-1.143403",
         "0.3779985",
         "-2.8090553",
         "4.6308537",
         "-0.7252662",
         "2.48861241",
         "-0.26751888",
         "-2.558106",
         "-2.5808284",
         "1.8277742",
         "-1.5503454",
         "0.4208265",
         "-2.9678178",
         "-0.82553166",
         "-2.3372326",
         "-1.088756",
         "-0.4793711",
         "0.0856098",
         "-1.6735113",
         "1.5875428",
         "2.1237566",
         "-1.4729539",
         "2.7048194",
         "-1.0546625",
         "-2.8099518",
         "-1.7457821",
         "-1.5696142",
         "-1.7414312",
         "-1.3996141",
         "0.7658154",
         "-1.7883285",
         "-2.521766",
         "-1.765451",
         "-1.5335511",
         "-3.4973257",
         "-0.911944",
         "-0.4672576",
         "-0.22457711",
         "-1.988951",
         "-0.16240211",
         "-0.20112544",
         "-0.18714438",
         "-1.7072419",
         "-0.51519406",
         "-1.7124258",
         "-0.4973692",
         "-1.6878432",
         "-0.6919948",
         "-0.73271203",
         "-0.3993603",
         "-0.68959403",
         "-0.5467343",
         "-0.7789258",
         "3.3083146",
         "2.3529377",
         "-0.27983707",
         "-0.19294177",
         "-0.5504862",
         "-0.12597659",
         "-0.36611786",
         "-0.35008353",
         "-0.74933255",
         "-0.51206374",
         "-0.7240204",
         "-1.2097816",
         "-0.7048791",
         "-0.43908215",
         "-0.13838589",
         "-0.44566095",
         "-0.38037473",
         "-0.13717245",
         "-0.64321065",
         "3.29271293",
         "-0.3905528",
         "-2.8055212",
         "-1.1191962",
         "-1.1007005",
         "-2.0864613",
         "-0.5039909",
         "-0.36794305",
         "0.0960261",
         "-0.61127174",
         "-1.1229062",
         "-0.18613659",
         "-0.19970411",
         "-0.3398163",
         "-0.36310133",
         "-0.48611453",
         "-1.1189016",
         "-0.9315293",
         "-1.5109820366",
         "-2.762591",
         "-0.89695424",
         "0.0505591",
         "-3.687577",
         "-2.661097288",
         "-3.706322193",
         "2.348948002",
         "-3.1383896",
         "-0.22708",
         "-4.044923",
         "-1.1198363",
         "-1.3637832",
         "-0.14989391",
         "-0.801828",
         "-3.1137254",
         "-3.4554348",
         "-5.833466",
         "1.028766",
         "5.398809",
         "0.828274",
         "-0.165158",
         "-1.8833683",
         "-2.5013654",
         "-1.398143",
         "2.9291",
         "0.6223099",
         "-1.276099",
         "-1.9861933",
         "-0.5493395",
         "-2.06098175",
         "-5.3079424",
         "-6.6121125",
         "3.7518058",
         "-2.1529753",
         "-0.60686046",
         "5.25025225",
         "-3.4724219",
         "-0.47151324",
         "-0.21807",
         "-5.5215416",
         "0.500859916",
         "-1.681176305",
         "-1.5316762",
         "-3.1812727",
         "-1.1708895",
         "-3.1887088",
         "-3.133582",
         "-5.7090406",
         "1.6360595226",
         "-5.716337",
         "1.302913",
         "-5.0377707",
         "-0.39740565",
         "-1.1055416",
         "-0.2478329",
         "3.5881574",
         "-1.53142",
         "-3.4644334",
         "-0.20515946",
         "-0.17914912",
         "-0.22216345",
         "-0.18066964",
         "-0.15748206",
         "-0.3101991",
         "-0.22930391",
         "-0.5033588",
         "1.5991274",
         "2.99021482",
         "-0.6659987",
         "2.5217471",
         "-0.9237435",
         "-1.167283",
         "-0.85748804",
         "-0.2786835",
         "-0.5343323",
         "-0.21314047",
         "-0.19497812",
         "0.2049631",
         "-0.50220174",
         "-0.6222097",
         "-0.30535263",
         "-0.34680873",
         "-0.22341275",
         "-1.0515778",
         "-0.5874149",
         "-0.78283966",
         "-0.23764348",
         "-0.1712906",
         "-0.09108007",
         "-0.1873477",
         "-0.14248401",
         "-1.525345",
         "-1.9643172",
         "1.0776094",
         "-0.4330141",
         "-5.764247",
         "-0.8297274",
         "-0.955081",
         "-1.1456237",
         "-1.2046802",
         "2.3400755",
         "-1.1386352",
         "1.1267443",
         "-0.7315222",
         "-1.0681885",
         "-0.38779604",
         "-0.674328",
         "-1.01098",
         "-0.21183236",
         "-0.6781511",
         "-1.3880084",
         "-2.5431507",
         "-1.312526",
         "-1.2799201",
         "-0.53699106",
         "-5.352411",
         "-0.774693",
         "-0.13161792",
         "-2.4697223",
         "-1.1129755",
         "-0.09444879",
         "-1.6025724",
         "5.7065363",
         "3.8999512",
         "3.153469",
         "1.5425001",
         "2.868416",
         "5.0884075",
         "1.445936",
         "-0.4624842",
         "-0.31181964",
         "0"
        ],
        [
         "0",
         "-1.3925618",
         "-1.1396621",
         "-2.0101523",
         "-1.4717476",
         "-2.3619301",
         "-0.648682",
         "-0.37029198",
         "-0.21693194",
         "-0.3691239",
         "-0.29134834",
         "-0.4537924",
         "-0.30996516",
         "-0.33015883",
         "-0.3449036",
         "2.64003491",
         "-0.137999",
         "-3.0151012",
         "-2.1740034",
         "-7.820016861",
         "-3.526766",
         "5.2365217",
         "-0.73004854",
         "-1.92906",
         "3.10871",
         "3.5024950504",
         "7.295048",
         "-6.0527034",
         "2.1295094",
         "-1.1060483",
         "-3.6212904",
         "2.223986387",
         "3.37298",
         "0.3625371",
         "2.666577816",
         "0.3154476",
         "-1.3631432",
         "-1.6623136",
         "-0.61283034",
         "-0.18420044",
         "-6.8136516",
         "-3.0679064",
         "2.4660482",
         "0.42999",
         "2.205231",
         "1.175549",
         "5.952879",
         "-0.64349616",
         "1.295651",
         "-2.1347554",
         "-1.9225285",
         "-0.95729744",
         "-2.2046988",
         "-2.6445684",
         "-2.4741955",
         "-0.5796131",
         "2.4269848",
         "-0.71598667",
         "-0.7816566",
         "-3.1487396",
         "-1.8351799",
         "-0.78114015",
         "-0.83031285",
         "0.8760093",
         "-1.7464348",
         "-0.31708023",
         "-0.59332633",
         "-2.3948064",
         "-0.33367234",
         "-0.2745583",
         "-2.803777",
         "-2.1237457",
         "-0.23187797",
         "-3.6091323",
         "-2.1157644",
         "-0.9814145",
         "-2.1638978",
         "0.10048",
         "-1.143403",
         "0.3779985",
         "-2.8090553",
         "4.6308537",
         "-0.7252662",
         "2.48861241",
         "-0.26751888",
         "-2.558106",
         "-2.5808284",
         "1.8277742",
         "-1.5503454",
         "0.4208265",
         "-2.9678178",
         "-0.82553166",
         "-2.3372326",
         "-1.088756",
         "-2.5392756",
         "0.0856098",
         "-1.6735113",
         "1.5875428",
         "-3.2528009",
         "-1.4729539",
         "2.7048194",
         "-1.0546625",
         "-2.8099518",
         "-1.7457821",
         "-1.5696142",
         "-1.7414312",
         "-1.3996141",
         "0.7658154",
         "-1.7883285",
         "-2.521766",
         "-1.765451",
         "-1.5335511",
         "-3.4973257",
         "-0.911944",
         "-0.4672576",
         "-0.22457711",
         "-1.988951",
         "-0.16240211",
         "-0.20112544",
         "-0.18714438",
         "-1.7072419",
         "-0.51519406",
         "-1.7124258",
         "-0.4973692",
         "-1.6878432",
         "-0.6919948",
         "-0.73271203",
         "-0.3993603",
         "-0.68959403",
         "-0.9955398",
         "-0.7789258",
         "-0.5796193",
         "2.3529377",
         "-0.27983707",
         "-0.19294177",
         "-0.5504862",
         "-0.12597659",
         "-0.36611786",
         "-0.35008353",
         "-0.74933255",
         "-0.51206374",
         "-0.7240204",
         "-1.2097816",
         "-0.7048791",
         "-0.43908215",
         "-0.13838589",
         "-0.44566095",
         "-0.38037473",
         "-0.13717245",
         "-0.64321065",
         "-0.42483175",
         "-0.3905528",
         "-2.8055212",
         "-1.1191962",
         "-1.1007005",
         "-2.0864613",
         "-0.5039909",
         "-0.36794305",
         "0.0960261",
         "-0.61127174",
         "-1.1229062",
         "-1.61656213",
         "-0.19970411",
         "-0.3398163",
         "-0.36310133",
         "-0.48611453",
         "-1.1189016",
         "-0.9315293",
         "-1.5109820366",
         "-2.762591",
         "-0.89695424",
         "0.0505591",
         "-3.687577",
         "-2.661097288",
         "-3.706322193",
         "2.348948002",
         "-3.1383896",
         "-4.06151",
         "-4.044923",
         "-1.1198363",
         "-1.3637832",
         "-0.14989391",
         "-0.801828",
         "-3.1137254",
         "-3.4554348",
         "-5.833466",
         "1.028766",
         "5.398809",
         "0.828274",
         "-0.165158",
         "-1.8833683",
         "-2.5013654",
         "-1.398143",
         "2.9291",
         "-6.8382893",
         "-1.276099",
         "-1.9861933",
         "-0.5493395",
         "-2.06098175",
         "-5.3079424",
         "-6.6121125",
         "-4.8569508",
         "-2.1529753",
         "-0.60686046",
         "5.25025225",
         "-3.4724219",
         "-0.47151324",
         "-0.21807",
         "-5.5215416",
         "0.500859916",
         "-7.493979454",
         "-1.5316762",
         "-3.1812727",
         "-1.1708895",
         "-3.1887088",
         "-3.133582",
         "-5.7090406",
         "-8.2595844269",
         "-5.716337",
         "-7.1067095",
         "-5.0377707",
         "-0.39740565",
         "-1.1055416",
         "-0.2478329",
         "3.5881574",
         "-1.53142",
         "-3.4644334",
         "-0.20515946",
         "-0.17914912",
         "-0.22216345",
         "-0.18066964",
         "-0.15748206",
         "-0.3101991",
         "-0.22930391",
         "-0.5033588",
         "-1.2722142",
         "-2.37394238",
         "-0.6659987",
         "2.5217471",
         "-0.9237435",
         "-1.167283",
         "-0.85748804",
         "-0.2786835",
         "-0.8659104",
         "-0.21314047",
         "-0.70772451",
         "0.2049631",
         "-0.50220174",
         "-0.6222097",
         "-0.30535263",
         "-0.34680873",
         "-0.22341275",
         "-1.0515778",
         "-2.420167",
         "-0.78283966",
         "-0.23764348",
         "-0.1712906",
         "-0.09108007",
         "-0.1873477",
         "-0.14248401",
         "-1.525345",
         "-1.9643172",
         "-3.5872707",
         "-0.4330141",
         "-5.764247",
         "-0.8297274",
         "-0.955081",
         "-1.1456237",
         "-1.2046802",
         "2.3400755",
         "-1.1386352",
         "1.1267443",
         "-0.7315222",
         "-1.0681885",
         "-0.38779604",
         "-0.674328",
         "-1.01098",
         "-0.21183236",
         "-0.6781511",
         "-1.3880084",
         "-2.9167812",
         "-1.312526",
         "-1.2799201",
         "-0.53699106",
         "-5.352411",
         "-0.774693",
         "-0.13161792",
         "-2.4697223",
         "-1.1129755",
         "-0.09444879",
         "-1.6025724",
         "5.7065363",
         "3.8999512",
         "3.153469",
         "-2.7292001",
         "2.868416",
         "-4.5661454",
         "-2.0949483",
         "-0.4624842",
         "-0.31181964",
         "0"
        ]
       ],
       "shape": {
        "columns": 300,
        "rows": 5
       }
      },
      "text/html": [
       "<div>\n",
       "<style scoped>\n",
       "    .dataframe tbody tr th:only-of-type {\n",
       "        vertical-align: middle;\n",
       "    }\n",
       "\n",
       "    .dataframe tbody tr th {\n",
       "        vertical-align: top;\n",
       "    }\n",
       "\n",
       "    .dataframe thead th {\n",
       "        text-align: right;\n",
       "    }\n",
       "</style>\n",
       "<table border=\"1\" class=\"dataframe\">\n",
       "  <thead>\n",
       "    <tr style=\"text-align: right;\">\n",
       "      <th></th>\n",
       "      <th>Victivallis vadensis [1000]</th>\n",
       "      <th>Akkermansia muciniphila [1008]</th>\n",
       "      <th>Alistipes shahii [1052]</th>\n",
       "      <th>unnamed Alistipes sp. HGB5 [1053]</th>\n",
       "      <th>Alistipes putredinis [1054]</th>\n",
       "      <th>Porphyromonas asaccharolytica [1056]</th>\n",
       "      <th>Porphyromonas uenonis [1057]</th>\n",
       "      <th>Prevotella buccalis [1059]</th>\n",
       "      <th>Prevotella buccae [1065]</th>\n",
       "      <th>Prevotella dentalis [1067]</th>\n",
       "      <th>...</th>\n",
       "      <th>Bifidobacterium bifidum [968]</th>\n",
       "      <th>Bifidobacterium breve [969]</th>\n",
       "      <th>Bifidobacterium longum [970]</th>\n",
       "      <th>Bifidobacterium dentium [971]</th>\n",
       "      <th>Bifidobacterium adolescentis [972]</th>\n",
       "      <th>Bifidobacterium catenulatum-Bifidobacterium pseudocatenulatum complex [973]</th>\n",
       "      <th>Bifidobacterium angulatum [974]</th>\n",
       "      <th>Parascardovia denticolens [976]</th>\n",
       "      <th>Scardovia inopinata [977]</th>\n",
       "      <th>target</th>\n",
       "    </tr>\n",
       "  </thead>\n",
       "  <tbody>\n",
       "    <tr>\n",
       "      <th>0</th>\n",
       "      <td>-1.392562</td>\n",
       "      <td>2.596007</td>\n",
       "      <td>0.272641</td>\n",
       "      <td>1.296142</td>\n",
       "      <td>-1.470757</td>\n",
       "      <td>-0.648682</td>\n",
       "      <td>-0.370292</td>\n",
       "      <td>-0.216932</td>\n",
       "      <td>-0.369124</td>\n",
       "      <td>-0.291348</td>\n",
       "      <td>...</td>\n",
       "      <td>2.305235</td>\n",
       "      <td>-1.074443</td>\n",
       "      <td>-0.585362</td>\n",
       "      <td>-2.729200</td>\n",
       "      <td>-0.238090</td>\n",
       "      <td>1.324488</td>\n",
       "      <td>2.623536</td>\n",
       "      <td>-0.462484</td>\n",
       "      <td>-0.31182</td>\n",
       "      <td>0</td>\n",
       "    </tr>\n",
       "    <tr>\n",
       "      <th>0</th>\n",
       "      <td>-1.392562</td>\n",
       "      <td>-0.548376</td>\n",
       "      <td>1.800337</td>\n",
       "      <td>2.861919</td>\n",
       "      <td>2.711536</td>\n",
       "      <td>-0.648682</td>\n",
       "      <td>-0.370292</td>\n",
       "      <td>-0.216932</td>\n",
       "      <td>-0.369124</td>\n",
       "      <td>0.185942</td>\n",
       "      <td>...</td>\n",
       "      <td>-0.238136</td>\n",
       "      <td>-1.074443</td>\n",
       "      <td>0.757404</td>\n",
       "      <td>-2.729200</td>\n",
       "      <td>-1.525136</td>\n",
       "      <td>0.496683</td>\n",
       "      <td>-2.094948</td>\n",
       "      <td>1.273366</td>\n",
       "      <td>-0.31182</td>\n",
       "      <td>0</td>\n",
       "    </tr>\n",
       "    <tr>\n",
       "      <th>0</th>\n",
       "      <td>4.060926</td>\n",
       "      <td>5.840709</td>\n",
       "      <td>1.027295</td>\n",
       "      <td>-0.399170</td>\n",
       "      <td>-0.223228</td>\n",
       "      <td>3.177045</td>\n",
       "      <td>0.831717</td>\n",
       "      <td>0.721647</td>\n",
       "      <td>-0.369124</td>\n",
       "      <td>-0.291348</td>\n",
       "      <td>...</td>\n",
       "      <td>5.135869</td>\n",
       "      <td>-0.026724</td>\n",
       "      <td>3.780432</td>\n",
       "      <td>2.358517</td>\n",
       "      <td>3.188324</td>\n",
       "      <td>-0.251440</td>\n",
       "      <td>-0.609401</td>\n",
       "      <td>1.613505</td>\n",
       "      <td>-0.31182</td>\n",
       "      <td>0</td>\n",
       "    </tr>\n",
       "    <tr>\n",
       "      <th>0</th>\n",
       "      <td>-1.392562</td>\n",
       "      <td>-1.139662</td>\n",
       "      <td>-2.010152</td>\n",
       "      <td>-1.471748</td>\n",
       "      <td>-2.361930</td>\n",
       "      <td>-0.648682</td>\n",
       "      <td>-0.370292</td>\n",
       "      <td>-0.216932</td>\n",
       "      <td>-0.369124</td>\n",
       "      <td>-0.291348</td>\n",
       "      <td>...</td>\n",
       "      <td>5.706536</td>\n",
       "      <td>3.899951</td>\n",
       "      <td>3.153469</td>\n",
       "      <td>1.542500</td>\n",
       "      <td>2.868416</td>\n",
       "      <td>5.088407</td>\n",
       "      <td>1.445936</td>\n",
       "      <td>-0.462484</td>\n",
       "      <td>-0.31182</td>\n",
       "      <td>0</td>\n",
       "    </tr>\n",
       "    <tr>\n",
       "      <th>0</th>\n",
       "      <td>-1.392562</td>\n",
       "      <td>-1.139662</td>\n",
       "      <td>-2.010152</td>\n",
       "      <td>-1.471748</td>\n",
       "      <td>-2.361930</td>\n",
       "      <td>-0.648682</td>\n",
       "      <td>-0.370292</td>\n",
       "      <td>-0.216932</td>\n",
       "      <td>-0.369124</td>\n",
       "      <td>-0.291348</td>\n",
       "      <td>...</td>\n",
       "      <td>5.706536</td>\n",
       "      <td>3.899951</td>\n",
       "      <td>3.153469</td>\n",
       "      <td>-2.729200</td>\n",
       "      <td>2.868416</td>\n",
       "      <td>-4.566145</td>\n",
       "      <td>-2.094948</td>\n",
       "      <td>-0.462484</td>\n",
       "      <td>-0.31182</td>\n",
       "      <td>0</td>\n",
       "    </tr>\n",
       "  </tbody>\n",
       "</table>\n",
       "<p>5 rows × 300 columns</p>\n",
       "</div>"
      ],
      "text/plain": [
       "   Victivallis vadensis [1000]  Akkermansia muciniphila [1008]  \\\n",
       "0                    -1.392562                        2.596007   \n",
       "0                    -1.392562                       -0.548376   \n",
       "0                     4.060926                        5.840709   \n",
       "0                    -1.392562                       -1.139662   \n",
       "0                    -1.392562                       -1.139662   \n",
       "\n",
       "   Alistipes shahii [1052]  unnamed Alistipes sp. HGB5 [1053]  \\\n",
       "0                 0.272641                           1.296142   \n",
       "0                 1.800337                           2.861919   \n",
       "0                 1.027295                          -0.399170   \n",
       "0                -2.010152                          -1.471748   \n",
       "0                -2.010152                          -1.471748   \n",
       "\n",
       "   Alistipes putredinis [1054]  Porphyromonas asaccharolytica [1056]  \\\n",
       "0                    -1.470757                             -0.648682   \n",
       "0                     2.711536                             -0.648682   \n",
       "0                    -0.223228                              3.177045   \n",
       "0                    -2.361930                             -0.648682   \n",
       "0                    -2.361930                             -0.648682   \n",
       "\n",
       "   Porphyromonas uenonis [1057]  Prevotella buccalis [1059]  \\\n",
       "0                     -0.370292                   -0.216932   \n",
       "0                     -0.370292                   -0.216932   \n",
       "0                      0.831717                    0.721647   \n",
       "0                     -0.370292                   -0.216932   \n",
       "0                     -0.370292                   -0.216932   \n",
       "\n",
       "   Prevotella buccae [1065]  Prevotella dentalis [1067]  ...  \\\n",
       "0                 -0.369124                   -0.291348  ...   \n",
       "0                 -0.369124                    0.185942  ...   \n",
       "0                 -0.369124                   -0.291348  ...   \n",
       "0                 -0.369124                   -0.291348  ...   \n",
       "0                 -0.369124                   -0.291348  ...   \n",
       "\n",
       "   Bifidobacterium bifidum [968]  Bifidobacterium breve [969]  \\\n",
       "0                       2.305235                    -1.074443   \n",
       "0                      -0.238136                    -1.074443   \n",
       "0                       5.135869                    -0.026724   \n",
       "0                       5.706536                     3.899951   \n",
       "0                       5.706536                     3.899951   \n",
       "\n",
       "   Bifidobacterium longum [970]  Bifidobacterium dentium [971]  \\\n",
       "0                     -0.585362                      -2.729200   \n",
       "0                      0.757404                      -2.729200   \n",
       "0                      3.780432                       2.358517   \n",
       "0                      3.153469                       1.542500   \n",
       "0                      3.153469                      -2.729200   \n",
       "\n",
       "   Bifidobacterium adolescentis [972]  \\\n",
       "0                           -0.238090   \n",
       "0                           -1.525136   \n",
       "0                            3.188324   \n",
       "0                            2.868416   \n",
       "0                            2.868416   \n",
       "\n",
       "   Bifidobacterium catenulatum-Bifidobacterium pseudocatenulatum complex [973]  \\\n",
       "0                                           1.324488                             \n",
       "0                                           0.496683                             \n",
       "0                                          -0.251440                             \n",
       "0                                           5.088407                             \n",
       "0                                          -4.566145                             \n",
       "\n",
       "   Bifidobacterium angulatum [974]  Parascardovia denticolens [976]  \\\n",
       "0                         2.623536                        -0.462484   \n",
       "0                        -2.094948                         1.273366   \n",
       "0                        -0.609401                         1.613505   \n",
       "0                         1.445936                        -0.462484   \n",
       "0                        -2.094948                        -0.462484   \n",
       "\n",
       "   Scardovia inopinata [977]  target  \n",
       "0                   -0.31182       0  \n",
       "0                   -0.31182       0  \n",
       "0                   -0.31182       0  \n",
       "0                   -0.31182       0  \n",
       "0                   -0.31182       0  \n",
       "\n",
       "[5 rows x 300 columns]"
      ]
     },
     "metadata": {},
     "output_type": "display_data"
    }
   ],
   "source": [
    "# Pre-trained ML model\n",
    "m = dice_ml.Model(model=model,\n",
    "                  backend='sklearn')\n",
    "# DiCE explanation instance\n",
    "exp = dice_ml.Dice(d,m, method=\"genetic\")\n",
    "# Generate counterfactual examples\n",
    "queries = test_dataset[test_dataset[\"target\"] == 1].drop(columns=\"target\")\n",
    "query_instance = queries[0:1]\n",
    "dice_exp = exp.generate_counterfactuals(query_instance, total_CFs=5, desired_class=\"opposite\", verbose=True,\n",
    "                                        proximity_weight=1.5, diversity_weight=1.0)\n",
    "# Visualize counterfactual explanation\n",
    "dice_exp.visualize_as_dataframe(show_only_changes=False, display_sparse_df=True)"
   ]
  },
  {
   "cell_type": "code",
   "execution_count": 19,
   "id": "b822e148",
   "metadata": {},
   "outputs": [
    {
     "data": {
      "text/plain": [
       "{'Victivallis vadensis [1000]': [np.float64(-1.3925617516865152),\n",
       "  np.float64(6.297322109562378)],\n",
       " 'Akkermansia muciniphila [1008]': [np.float64(-5.276237652706876),\n",
       "  np.float64(6.515824389397224)],\n",
       " 'Alistipes shahii [1052]': [np.float64(-6.670363251595118),\n",
       "  np.float64(3.781335329511211)],\n",
       " 'unnamed Alistipes sp. HGB5 [1053]': [np.float64(-5.382419535197975),\n",
       "  np.float64(5.205879142903593)],\n",
       " 'Alistipes putredinis [1054]': [np.float64(-7.616976449523818),\n",
       "  np.float64(3.2251647557205945)],\n",
       " 'Porphyromonas asaccharolytica [1056]': [np.float64(-0.6486819722867351),\n",
       "  np.float64(7.745899685153904)],\n",
       " 'Porphyromonas uenonis [1057]': [np.float64(-0.3702919842201866),\n",
       "  np.float64(6.128188583752224)],\n",
       " 'Prevotella buccalis [1059]': [np.float64(-0.2169319438326026),\n",
       "  np.float64(4.696896074117631)],\n",
       " 'Prevotella buccae [1065]': [np.float64(-0.36912392028723906),\n",
       "  np.float64(5.1882130745873125)],\n",
       " 'Prevotella dentalis [1067]': [np.float64(-0.2913483417897359),\n",
       "  np.float64(3.5375575770167678)],\n",
       " 'Prevotella nigrescens [1069]': [np.float64(-0.45379239200425886),\n",
       "  np.float64(8.729343795299847)],\n",
       " 'Prevotella disiens [1071]': [np.float64(-0.30996516203461566),\n",
       "  np.float64(5.493826226053546)],\n",
       " 'Prevotella denticola [1072]': [np.float64(-1.4890252295070168),\n",
       "  np.float64(8.252540286764367)],\n",
       " 'Prevotella multiformis [1073]': [np.float64(-1.61531224064276),\n",
       "  np.float64(6.600224208916601)],\n",
       " 'Prevotella bivia [1076]': [np.float64(-0.4044925134527042),\n",
       "  np.float64(9.586448028061515)],\n",
       " 'Prevotella copri [1081]': [np.float64(-4.647065007895175),\n",
       "  np.float64(8.121835104311147)],\n",
       " 'unnamed Capnocytophaga sp. oral taxon 329 [1086]': [np.float64(-3.0151011875490057),\n",
       "  np.float64(6.510506875923446)],\n",
       " 'Paraprevotella xylaniphila [1087]': [np.float64(-3.6610308207575115),\n",
       "  np.float64(6.668516940971986)],\n",
       " 'Parabacteroides distasonis [1088]': [np.float64(-7.820017081527109),\n",
       "  np.float64(3.682362722228279)],\n",
       " 'Parabacteroides merdae [1089]': [np.float64(-6.590235071576024),\n",
       "  np.float64(3.7265818014145777)],\n",
       " 'Bacteroides fragilis [1090]': [np.float64(-5.07247809323923),\n",
       "  np.float64(6.566185644963019)],\n",
       " 'Bacteroides fragilis [1091]': [np.float64(-0.7300485146926303),\n",
       "  np.float64(8.637470532346693)],\n",
       " 'Bacteroides thetaiotaomicron [1092]': [np.float64(-6.939020330659692),\n",
       "  np.float64(4.907440400245288)],\n",
       " 'Bacteroides xylanisolvens [1093]': [np.float64(-6.763589825740982),\n",
       "  np.float64(4.97812515745101)],\n",
       " 'Bacteroides ovatus [1094]': [np.float64(-6.708109558828369),\n",
       "  np.float64(4.107638069045322)],\n",
       " 'Bacteroides finegoldii [1095]': [np.float64(-4.068844891092685),\n",
       "  np.float64(7.295048309938499)],\n",
       " 'Bacteroides caccae [1096]': [np.float64(-6.052703147828935),\n",
       "  np.float64(4.469315598126935)],\n",
       " 'Bacteroides eggerthii [1097]': [np.float64(-3.6899603447380653),\n",
       "  np.float64(7.69351809851536)],\n",
       " 'Bacteroides stercoris [1098]': [np.float64(-4.335755520238112),\n",
       "  np.float64(6.771229766489421)],\n",
       " 'Bacteroides clarus [1099]': [np.float64(-3.6212903337014186),\n",
       "  np.float64(7.582270357274435)],\n",
       " 'Bacteroides uniformis [1100]': [np.float64(-6.060184362159037),\n",
       "  np.float64(2.8420684651364514)],\n",
       " 'Bacteroides fluxus [1101]': [np.float64(-3.260651148059113),\n",
       "  np.float64(5.9290899362036225)],\n",
       " 'Bacteroides intestinalis [1103]': [np.float64(-4.643755616532481),\n",
       "  np.float64(5.651178296905621)],\n",
       " 'Bacteroides dorei/vulgatus [1104]': [np.float64(-4.414568268803459),\n",
       "  np.float64(2.6665779228591378)],\n",
       " 'Bacteroides plebeius [1105]': [np.float64(-3.4538695840471374),\n",
       "  np.float64(8.429513792407201)],\n",
       " 'Bacteroides coprophilus [1106]': [np.float64(-1.363143237517383),\n",
       "  np.float64(9.65711699955423)],\n",
       " 'Bacteroides coprocola [1107]': [np.float64(-1.6816079662516574),\n",
       "  np.float64(9.598671713278035)],\n",
       " 'Bacteroides salanitronis [1108]': [np.float64(-0.7137028856660638),\n",
       "  np.float64(7.635947436105761)],\n",
       " 'Prevotella tannerae [1112]': [np.float64(-0.18420044158972398),\n",
       "  np.float64(8.06235451036139)],\n",
       " 'Odoribacter splanchnicus [1115]': [np.float64(-6.813651505438539),\n",
       "  np.float64(3.223869360845673)],\n",
       " 'Dialister invisus [1259]': [np.float64(-3.067906279595157),\n",
       "  np.float64(7.749086185914151)],\n",
       " 'Veillonella atypica [1260]': [np.float64(-2.4027288467106165),\n",
       "  np.float64(7.061502732731644)],\n",
       " 'Veillonella parvula [1261]': [np.float64(-4.235711533110531),\n",
       "  np.float64(7.288286698571345)],\n",
       " 'Veillonella dispar [1262]': [np.float64(-2.5101357173421706),\n",
       "  np.float64(5.704505993919465)],\n",
       " 'unnamed Veillonella sp. oral taxon 158 [1263]': [np.float64(-2.409868533735661),\n",
       "  np.float64(5.786118654335664)],\n",
       " 'Megasphaera elsdenii [1267]': [np.float64(-1.2069019282615234),\n",
       "  np.float64(9.076669166411328)],\n",
       " 'Megasphaera micronuciformis [1268]': [np.float64(-0.6434961748324323),\n",
       "  np.float64(6.3721634833628915)],\n",
       " 'Clostridium ramosum [1269]': [np.float64(-2.931382044552134),\n",
       "  np.float64(6.6266936690859986)],\n",
       " 'Clostridium spiroforme [1270]': [np.float64(-2.149681207891443),\n",
       "  np.float64(6.190569299895692)],\n",
       " 'unnamed Coprobacillus sp. 29_1 [1271]': [np.float64(-1.9225285215030046),\n",
       "  np.float64(6.65271252727544)],\n",
       " 'Bulleidia extructa [1272]': [np.float64(-0.9572974658097616),\n",
       "  np.float64(5.2576782070400725)],\n",
       " 'Solobacterium moorei [1273]': [np.float64(-2.2046987569982766),\n",
       "  np.float64(6.289163603384934)],\n",
       " 'Eubacterium biforme [1275]': [np.float64(-2.7967360437495796),\n",
       "  np.float64(8.043431803924197)],\n",
       " 'Eubacterium cylindroides [1276]': [np.float64(-2.4741954172353826),\n",
       "  np.float64(9.012973104377018)],\n",
       " 'unnamed Erysipelotrichaceae bacterium 3_1_53 [1277]': [np.float64(-0.5796130918730397),\n",
       "  np.float64(6.417435235758625)],\n",
       " 'unnamed Clostridium sp. HGF2 [1278]': [np.float64(-3.493999203993273),\n",
       "  np.float64(6.843032916031001)],\n",
       " 'unnamed Erysipelotrichaceae bacterium 5_2_54FAA [1279]': [np.float64(-0.7159866413472363),\n",
       "  np.float64(7.586720965406417)],\n",
       " 'Eubacterium dolichum [1280]': [np.float64(-0.7816566518279235),\n",
       "  np.float64(7.542897912702759)],\n",
       " 'Holdemania filiformis [1281]': [np.float64(-3.1487394872799404),\n",
       "  np.float64(4.230713817024232)],\n",
       " 'Turicibacter sanguinis [1297]': [np.float64(-1.8351799229867578),\n",
       "  np.float64(5.780810939781351)],\n",
       " 'Gemella haemolysans [1299]': [np.float64(-0.7811401260399244),\n",
       "  np.float64(4.071055734995858)],\n",
       " 'Gemella haemolysans [1300]': [np.float64(-0.8303128306693269),\n",
       "  np.float64(3.735389590737992)],\n",
       " 'Gemella sanguinis [1301]': [np.float64(-2.9411897211992337),\n",
       "  np.float64(3.7827142719643287)],\n",
       " 'Gemella morbillorum [1302]': [np.float64(-1.7464348066660453),\n",
       "  np.float64(7.299669017853182)],\n",
       " 'Staphylococcus aureus [1305]': [np.float64(-0.31708021964008337),\n",
       "  np.float64(4.584796614958192)],\n",
       " 'Granulicatella elegans [1357]': [np.float64(-0.5933263085528099),\n",
       "  np.float64(5.7487724614988345)],\n",
       " 'Granulicatella adiacens [1358]': [np.float64(-2.3948064378127545),\n",
       "  np.float64(5.86608568981329)],\n",
       " 'Enterococcus casseliflavus [1361]': [np.float64(-0.3336723575726849),\n",
       "  np.float64(5.5855914403889315)],\n",
       " 'Enterococcus gallinarum [1362]': [np.float64(-0.2745583077158558),\n",
       "  np.float64(7.020416757539891)],\n",
       " 'Enterococcus faecalis [1363]': [np.float64(-2.8037769828246444),\n",
       "  np.float64(7.990468743491429)],\n",
       " 'Enterococcus faecium [1364]': [np.float64(-2.1237455646503336),\n",
       "  np.float64(8.631901819521689)],\n",
       " 'Lactococcus garvieae [1368]': [np.float64(-0.23187796699546634),\n",
       "  np.float64(7.4012520031494295)],\n",
       " 'Lactococcus lactis [1369]': [np.float64(-3.6091323843993615),\n",
       "  np.float64(5.968156054281462)],\n",
       " 'Lactococcus lactis [1370]': [np.float64(-2.115764352168752),\n",
       "  np.float64(6.05117577273224)],\n",
       " 'Streptococcus downei [1372]': [np.float64(-0.9814144693966651),\n",
       "  np.float64(5.228531372150736)],\n",
       " 'Streptococcus mutans [1373]': [np.float64(-2.1638977674940407),\n",
       "  np.float64(6.473660747092035)],\n",
       " 'Streptococcus thermophilus [1375]': [np.float64(-6.32790591309133),\n",
       "  np.float64(6.014968657854874)],\n",
       " 'Streptococcus vestibularis [1376]': [np.float64(-4.21736910399803),\n",
       "  np.float64(5.530454970498371)],\n",
       " 'Streptococcus salivarius [1377]': [np.float64(-6.294492897348125),\n",
       "  np.float64(4.9388555598315795)],\n",
       " 'unnamed Streptococcus sp. C150 [1378]': [np.float64(-2.809055297811146),\n",
       "  np.float64(5.836650186179155)],\n",
       " 'Streptococcus gallolyticus [1379]': [np.float64(-1.699751230446458),\n",
       "  np.float64(9.507728451765384)],\n",
       " 'Streptococcus infantarius [1380]': [np.float64(-2.4912369677469046),\n",
       "  np.float64(9.270177444309232)],\n",
       " 'Streptococcus equinus [1381]': [np.float64(-5.099792954230766),\n",
       "  np.float64(8.574053203698346)],\n",
       " 'Streptococcus agalactiae [1388]': [np.float64(-0.3302115273810252),\n",
       "  np.float64(7.562630506152818)],\n",
       " 'Streptococcus anginosus [1393]': [np.float64(-2.851051722645152),\n",
       "  np.float64(5.841300264974051)],\n",
       " 'Streptococcus anginosus [1394]': [np.float64(-3.1744793795437527),\n",
       "  np.float64(5.595305642252211)],\n",
       " 'Streptococcus constellatus [1395]': [np.float64(-2.0448172969292533),\n",
       "  np.float64(5.38522712179927)],\n",
       " 'Streptococcus cristatus [1396]': [np.float64(-1.550345430473087),\n",
       "  np.float64(3.282170675067504)],\n",
       " 'Streptococcus sanguinis [1397]': [np.float64(-3.3011714867514086),\n",
       "  np.float64(4.111446067922806)],\n",
       " 'Streptococcus gordonii [1398]': [np.float64(-5.21866621367874),\n",
       "  np.float64(4.338696891856231)],\n",
       " 'unnamed Streptococcus sp. oral taxon 056 [1399]': [np.float64(-2.5056158810725977),\n",
       "  np.float64(2.8341817641140583)],\n",
       " 'Streptococcus pneumoniae [1400]': [np.float64(-2.564773161990111),\n",
       "  np.float64(3.4298715279883343)],\n",
       " 'Streptococcus pseudopneumoniae [1401]': [np.float64(-4.15741272802907),\n",
       "  np.float64(3.7291543277792796)],\n",
       " 'Streptococcus mitis [1402]': [np.float64(-2.5392756222653543),\n",
       "  np.float64(4.029237404212745)],\n",
       " 'Streptococcus mitis [1403]': [np.float64(-3.97714017879763),\n",
       "  np.float64(3.620088883396858)],\n",
       " 'Streptococcus mitis [1404]': [np.float64(-3.8562255443325753),\n",
       "  np.float64(3.742024607735489)],\n",
       " 'unnamed Streptococcus sp. M334 [1405]': [np.float64(-3.5958072177634604),\n",
       "  np.float64(3.5115997593027473)],\n",
       " 'Streptococcus mitis [1406]': [np.float64(-3.252801031009829),\n",
       "  np.float64(3.7292241145837557)],\n",
       " 'unnamed Streptococcus sp. M143 [1407]': [np.float64(-2.045164846713118),\n",
       "  np.float64(3.7852564585537487)],\n",
       " 'Streptococcus mitis [1408]': [np.float64(-3.863794914902849),\n",
       "  np.float64(4.245665833085595)],\n",
       " 'Streptococcus mitis [1409]': [np.float64(-1.242453067111388),\n",
       "  np.float64(3.64816294868535)],\n",
       " 'Streptococcus oralis [1410]': [np.float64(-3.88147897602534),\n",
       "  np.float64(5.44840341385005)],\n",
       " 'Streptococcus oralis [1411]': [np.float64(-2.199379351206436),\n",
       "  np.float64(4.341548709938793)],\n",
       " 'Streptococcus sanguinis [1412]': [np.float64(-1.9018583867483623),\n",
       "  np.float64(5.210672987883492)],\n",
       " 'unnamed Streptococcus sp. oral taxon 071 [1413]': [np.float64(-5.229251046953144),\n",
       "  np.float64(4.820272476412876)],\n",
       " 'Streptococcus mitis [1414]': [np.float64(-1.718946128445709),\n",
       "  np.float64(3.777214927533099)],\n",
       " 'Streptococcus infantis [1415]': [np.float64(-3.4409365309623348),\n",
       "  np.float64(4.468876936671105)],\n",
       " 'Streptococcus infantis [1416]': [np.float64(-1.9679645098781606),\n",
       "  np.float64(5.079669389143414)],\n",
       " 'Streptococcus infantis [1417]': [np.float64(-3.189977607984353),\n",
       "  np.float64(4.321406230766553)],\n",
       " 'Streptococcus infantis [1418]': [np.float64(-1.7654508977365484),\n",
       "  np.float64(4.855172094694906)],\n",
       " 'Streptococcus peroris [1419]': [np.float64(-1.6916301487968675),\n",
       "  np.float64(4.104287831944547)],\n",
       " 'Streptococcus australis [1420]': [np.float64(-3.4973257485420093),\n",
       "  np.float64(4.640983065495389)],\n",
       " 'Streptococcus parasanguinis [1421]': [np.float64(-5.194482336006707),\n",
       "  np.float64(4.6594016159080365)],\n",
       " 'Catonella morbi [1422]': [np.float64(-0.46725758200842604),\n",
       "  np.float64(4.96725079327494)],\n",
       " 'Weissella cibaria [1428]': [np.float64(-0.22457711109983386),\n",
       "  np.float64(5.053584456791169)],\n",
       " 'Leuconostoc mesenteroides [1430]': [np.float64(-3.9678077818137956),\n",
       "  np.float64(5.520778033189683)],\n",
       " 'Leuconostoc citreum [1431]': [np.float64(-2.820015889438705),\n",
       "  np.float64(6.799934808767524)],\n",
       " 'Leuconostoc gasicomitatum [1434]': [np.float64(-0.20112545024802003),\n",
       "  np.float64(3.8889093698391872)],\n",
       " 'Leuconostoc gelidum [1435]': [np.float64(-0.187144376842039),\n",
       "  np.float64(3.8898435272485696)],\n",
       " 'Lactobacillus delbrueckii [1438]': [np.float64(-1.707241908384788),\n",
       "  np.float64(5.851563516948626)],\n",
       " 'Lactobacillus johnsonii [1442]': [np.float64(-0.5151940576201609),\n",
       "  np.float64(10.543269133833578)],\n",
       " 'Lactobacillus gasseri [1443]': [np.float64(-1.7124258703508368),\n",
       "  np.float64(6.51117760739909)],\n",
       " 'Lactobacillus crispatus [1444]': [np.float64(-0.4973691984767298),\n",
       "  np.float64(10.998691708633746)],\n",
       " 'Lactobacillus casei [1452]': [np.float64(-1.6878432212692194),\n",
       "  np.float64(5.969073860978223)],\n",
       " 'Lactobacillus rhamnosus [1453]': [np.float64(-0.6919948016415407),\n",
       "  np.float64(5.863601339074276)],\n",
       " 'Lactobacillus fermentum [1454]': [np.float64(-0.7327120412083433),\n",
       "  np.float64(6.324130638082275)],\n",
       " 'Lactobacillus oris [1455]': [np.float64(-0.3993602989904824),\n",
       "  np.float64(5.419411347563398)],\n",
       " 'Lactobacillus reuteri [1457]': [np.float64(-0.6895940075985388),\n",
       "  np.float64(11.158672289733609)],\n",
       " 'Lactobacillus vaginalis [1458]': [np.float64(-0.9955398618247764),\n",
       "  np.float64(7.393324600479525)],\n",
       " 'Lactobacillus sakei [1464]': [np.float64(-0.7789257757333066),\n",
       "  np.float64(6.188492518268953)],\n",
       " 'Lactobacillus ruminis [1466]': [np.float64(-0.5796192869435158),\n",
       "  np.float64(9.674922289127494)],\n",
       " 'Lactobacillus salivarius [1467]': [np.float64(-0.7684102313906932),\n",
       "  np.float64(8.372172718495836)],\n",
       " 'Pediococcus acidilactici [1469]': [np.float64(-0.2798370737145769),\n",
       "  np.float64(6.237568783242844)],\n",
       " 'Pediococcus pentosaceus [1470]': [np.float64(-0.19294176371161464),\n",
       "  np.float64(6.449725175436506)],\n",
       " 'Lactobacillus plantarum [1472]': [np.float64(-0.5504862061719719),\n",
       "  np.float64(6.0909981618508136)],\n",
       " 'Lactobacillus brevis [1473]': [np.float64(-0.1259765853018764),\n",
       "  np.float64(4.7790887780507445)],\n",
       " 'Fusobacterium gonidiaformans [1476]': [np.float64(-0.36611786000019164),\n",
       "  np.float64(12.076078134818575)],\n",
       " 'unnamed Fusobacterium sp. D12 [1477]': [np.float64(-0.3500835159073846),\n",
       "  np.float64(10.35578395726901)],\n",
       " 'Fusobacterium periodonticum [1478]': [np.float64(-0.7493325407834885),\n",
       "  np.float64(7.337673053420595)],\n",
       " 'Fusobacterium nucleatum [1479]': [np.float64(-0.5120637541594496),\n",
       "  np.float64(6.335378561305865)],\n",
       " 'Fusobacterium nucleatum [1480]': [np.float64(-0.7240204185209067),\n",
       "  np.float64(6.144491572213197)],\n",
       " 'unclassified Fusobacterium [1481]': [np.float64(-1.2097816702244804),\n",
       "  np.float64(5.956862185701758)],\n",
       " 'unclassified Fusobacterium [1482]': [np.float64(-1.0906641426547974),\n",
       "  np.float64(7.244789943114849)],\n",
       " 'Fusobacterium mortiferum [1485]': [np.float64(-0.43908213926526385),\n",
       "  np.float64(10.69401621986536)],\n",
       " 'Leptotrichia hofstadii [1488]': [np.float64(-0.1383858963413372),\n",
       "  np.float64(5.197749312490384)],\n",
       " 'Peptoniphilus lacrimalis [1492]': [np.float64(-0.44566095503001674),\n",
       "  np.float64(9.140138986121869)],\n",
       " 'Peptoniphilus harei [1493]': [np.float64(-0.38037471560031527),\n",
       "  np.float64(7.2389330015799995)],\n",
       " 'Anaerococcus hydrogenalis [1497]': [np.float64(-0.1371724457140597),\n",
       "  np.float64(6.401123332556764)],\n",
       " 'Anaerococcus vaginalis [1498]': [np.float64(-0.8368839688876506),\n",
       "  np.float64(6.776476418698997)],\n",
       " 'Finegoldia magna [1503]': [np.float64(-0.4248317383062409),\n",
       "  np.float64(5.664775887749087)],\n",
       " 'Finegoldia magna [1504]': [np.float64(-0.39055279145356414),\n",
       "  np.float64(4.202713625703477)],\n",
       " 'Parvimonas micra [1505]': [np.float64(-2.8119580147651657),\n",
       "  np.float64(9.019204755142983)],\n",
       " 'unnamed Parvimonas sp. oral taxon 110 [1506]': [np.float64(-1.503242636325512),\n",
       "  np.float64(8.090398309657337)],\n",
       " 'unnamed Parvimonas sp. oral taxon 393 [1507]': [np.float64(-1.100700442783236),\n",
       "  np.float64(8.295693569088488)],\n",
       " 'Peptostreptococcus stomatis [1530]': [np.float64(-2.0864613627501076),\n",
       "  np.float64(8.332559877347947)],\n",
       " 'Peptostreptococcus anaerobius [1531]': [np.float64(-0.5039908825939771),\n",
       "  np.float64(9.235608540559948)],\n",
       " '[Clostridium] difficile [1532]': [np.float64(-0.5199223722972881),\n",
       "  np.float64(9.506990739432046)],\n",
       " '[Clostridium] bartlettii [1533]': [np.float64(-4.38473651926351),\n",
       "  np.float64(4.503168744143562)],\n",
       " 'Clostridium perfringens [1540]': [np.float64(-2.5185263900828057),\n",
       "  np.float64(8.692805924451303)],\n",
       " 'Clostridium perfringens [1541]': [np.float64(-1.2400786974226556),\n",
       "  np.float64(7.681811827700598)],\n",
       " 'Clostridium botulinum [1542]': [np.float64(-1.6233183481319564),\n",
       "  np.float64(3.9876375323856053)],\n",
       " 'Clostridium butyricum [1543]': [np.float64(-0.19970410439782482),\n",
       "  np.float64(7.94120746845387)],\n",
       " 'unnamed Clostridium sp. 7_2_43FAA [1545]': [np.float64(-0.33981628738675757),\n",
       "  np.float64(7.731108736223046)],\n",
       " 'Anaerofustis stercorihominis [1557]': [np.float64(-0.3631013216084439),\n",
       "  np.float64(4.517463903919832)],\n",
       " 'Eubacterium saphenum [1563]': [np.float64(-0.48611453089033557),\n",
       "  np.float64(3.6009404036872046)],\n",
       " 'Eubacterium siraeum [1564]': [np.float64(-5.481514444815049),\n",
       "  np.float64(5.513454663826593)],\n",
       " 'Ruminococcus champanellensis [1568]': [np.float64(-0.931529263428685),\n",
       "  np.float64(7.49900659308652)],\n",
       " 'Ruminococcus bromii [1569]': [np.float64(-8.063481359663063),\n",
       "  np.float64(4.143200345216534)],\n",
       " 'Anaerotruncus colihominis [1570]': [np.float64(-2.7625908327733577),\n",
       "  np.float64(4.560566116657307)],\n",
       " 'Clostridium methylpentosum [1572]': [np.float64(-0.8969542140353189),\n",
       "  np.float64(4.767160706032862)],\n",
       " 'Clostridium leptum [1573]': [np.float64(-4.941166462158471),\n",
       "  np.float64(5.552169681512792)],\n",
       " 'Faecalibacterium prausnitzii [1574]': [np.float64(-7.533486102686097),\n",
       "  np.float64(3.520355237655667)],\n",
       " 'Faecalibacterium prausnitzii [1575]': [np.float64(-5.867528427323157),\n",
       "  np.float64(3.33987680115757)],\n",
       " 'Faecalibacterium prausnitzii [1576]': [np.float64(-5.718158980519637),\n",
       "  np.float64(3.3517559539469253)],\n",
       " 'Faecalibacterium prausnitzii [1577]': [np.float64(-6.122256179668347),\n",
       "  np.float64(3.4550398114918988)],\n",
       " 'Subdoligranulum variabile [1578]': [np.float64(-3.1383896835935166),\n",
       "  np.float64(2.269877708654892)],\n",
       " 'Pseudoflavonifractor capillosus [1579]': [np.float64(-4.06151022117066),\n",
       "  np.float64(3.7563846884200403)],\n",
       " 'unnamed Ruminococcaceae bacterium D16 [1580]': [np.float64(-4.044922869537366),\n",
       "  np.float64(3.964811279377985)],\n",
       " 'Oscillibacter valericigenes [1581]': [np.float64(-1.1198362847257415),\n",
       "  np.float64(3.5124670382445067)],\n",
       " 'Eubacterium limosum [1582]': [np.float64(-1.3637832035767201),\n",
       "  np.float64(7.199394914685443)],\n",
       " 'Pseudoramibacter alactolyticus [1584]': [np.float64(-0.14989390250653822),\n",
       "  np.float64(4.343041145917205)],\n",
       " 'Oribacterium sinus [1585]': [np.float64(-0.8018280262999764),\n",
       "  np.float64(3.358343437122802)],\n",
       " 'Coprococcus eutactus [1592]': [np.float64(-3.1137253797240327),\n",
       "  np.float64(7.957028686709758)],\n",
       " 'unnamed Clostridium sp. L2-50 [1593]': [np.float64(-3.4554348700290487),\n",
       "  np.float64(8.016123391007804)],\n",
       " 'Coprococcus catus [1594]': [np.float64(-5.8334661840007085),\n",
       "  np.float64(3.2131089000990674)],\n",
       " 'butyrate-producing bacterium [1595]': [np.float64(-8.072736353027434),\n",
       "  np.float64(3.9511102047413367)],\n",
       " 'Anaerostipes caccae [1596]': [np.float64(-1.1193393535216696),\n",
       "  np.float64(8.47204278519499)],\n",
       " 'Eubacterium hallii [1597]': [np.float64(-7.098073827871742),\n",
       "  np.float64(3.9194493548186666)],\n",
       " 'Clostridium bolteae [1598]': [np.float64(-3.9522250602625904),\n",
       "  np.float64(7.7222689040748165)],\n",
       " 'unnamed Clostridiales bacterium 1_7_47FAA [1599]': [np.float64(-1.88336823365256),\n",
       "  np.float64(5.500967260918443)],\n",
       " 'Clostridium symbiosum [1600]': [np.float64(-2.7497148657510166),\n",
       "  np.float64(6.067541522541762)],\n",
       " 'Clostridium saccharolyticum [1601]': [np.float64(-1.3981430702475908),\n",
       "  np.float64(8.826631945656391)],\n",
       " 'unnamed butyrate-producing bacterium SS3/4 [1603]': [np.float64(-5.475299384898817),\n",
       "  np.float64(3.863669972038364)],\n",
       " 'Dorea formicigenerans [1604]': [np.float64(-6.8382890619639465),\n",
       "  np.float64(3.3294214257466757)],\n",
       " 'Dorea longicatena [1605]': [np.float64(-7.44412422811545),\n",
       "  np.float64(3.341105099319486)],\n",
       " 'Clostridium scindens [1606]': [np.float64(-1.9861933199580357),\n",
       "  np.float64(6.398447141676126)],\n",
       " 'Clostridium hylemonae [1607]': [np.float64(-0.5493394893610587),\n",
       "  np.float64(7.994225005616841)],\n",
       " '[Ruminococcus] torques [1608]': [np.float64(-7.14958846886248),\n",
       "  np.float64(4.368585207331516)],\n",
       " 'Ruminococcus lactaris [1609]': [np.float64(-5.307942527274267),\n",
       "  np.float64(5.339273397848397)],\n",
       " '[Ruminococcus] torques [1610]': [np.float64(-6.6121122936898304),\n",
       "  np.float64(4.182715915583175)],\n",
       " '[Ruminococcus] gnavus [1611]': [np.float64(-4.856950715376697),\n",
       "  np.float64(6.129090830660123)],\n",
       " 'unnamed Lachnospiraceae bacterium 1_4_56FAA [1612]': [np.float64(-2.79245420418774),\n",
       "  np.float64(7.889964475971555)],\n",
       " 'unnamed Clostridium sp. D5 [1613]': [np.float64(-0.6538302253983674),\n",
       "  np.float64(5.183886284141596)],\n",
       " 'unclassified Lachnospiraceae [1614]': [np.float64(-0.6676649692264831),\n",
       "  np.float64(7.320160996562915)],\n",
       " 'Coprococcus comes [1616]': [np.float64(-7.452064444675816),\n",
       "  np.float64(3.5797862046240305)],\n",
       " 'Blautia hansenii [1617]': [np.float64(-0.4715132427094815),\n",
       "  np.float64(8.233593961379412)],\n",
       " '[Ruminococcus] obeum [1618]': [np.float64(-7.434354734896077),\n",
       "  np.float64(3.9783964478616833)],\n",
       " '[Ruminococcus] obeum [1619]': [np.float64(-5.521541502652439),\n",
       "  np.float64(4.645018676415492)],\n",
       " 'unnamed Ruminococcus sp. 5_1_39BFAA [1620]': [np.float64(-8.685992612889315),\n",
       "  np.float64(2.8673374063587254)],\n",
       " 'unnamed Ruminococcus sp. SR1/5 [1621]': [np.float64(-7.493979520884148),\n",
       "  np.float64(4.071078209567509)],\n",
       " 'Blautia hydrogenotrophica [1622]': [np.float64(-1.5316761542520685),\n",
       "  np.float64(7.194376217134299)],\n",
       " 'unnamed Lachnospiraceae bacterium 3_1_57FAA_CT1 [1624]': [np.float64(-3.1812727844430033),\n",
       "  np.float64(6.745115491084043)],\n",
       " '[Bacteroides] pectinophilus [1626]': [np.float64(-1.3611619548065468),\n",
       "  np.float64(9.885167072620627)],\n",
       " 'Eubacterium eligens [1627]': [np.float64(-6.980683216504813),\n",
       "  np.float64(4.203190385706734)],\n",
       " 'Butyrivibrio crossotus [1628]': [np.float64(-3.133582002512416),\n",
       "  np.float64(8.849848633325639)],\n",
       " 'Eubacterium ventriosum [1629]': [np.float64(-5.709040812584173),\n",
       "  np.float64(4.326278281747212)],\n",
       " 'Eubacterium rectale [1630]': [np.float64(-8.25958472994281),\n",
       "  np.float64(3.8739699757910837)],\n",
       " 'Roseburia intestinalis [1631]': [np.float64(-5.716337098080442),\n",
       "  np.float64(5.496301827038583)],\n",
       " 'Roseburia inulinivorans [1632]': [np.float64(-7.106709540235731),\n",
       "  np.float64(4.422515658880924)],\n",
       " 'Roseburia hominis [1633]': [np.float64(-5.037770905536889),\n",
       "  np.float64(5.1686906426102865)],\n",
       " 'Pyramidobacter piscolens [1641]': [np.float64(-0.39740565634100605),\n",
       "  np.float64(7.381805125492706)],\n",
       " 'Mitsuokella multacida [1653]': [np.float64(-1.9831750073327459),\n",
       "  np.float64(8.965200268129479)],\n",
       " 'Selenomonas sputigena [1654]': [np.float64(-0.45986558118137066),\n",
       "  np.float64(6.484247549267552)],\n",
       " 'Acidaminococcus intestini [1657]': [np.float64(-1.3172696161874338),\n",
       "  np.float64(10.94179805499813)],\n",
       " 'Acidaminococcus fermentans [1658]': [np.float64(-1.5314199866158347),\n",
       "  np.float64(8.417852600780535)],\n",
       " 'Phascolarctobacterium succinatutens [1659]': [np.float64(-3.4644334753120534),\n",
       "  np.float64(6.711497456809221)],\n",
       " 'Campylobacter hominis [1719]': [np.float64(-0.20515946297410412),\n",
       "  np.float64(3.85583176839423)],\n",
       " 'Campylobacter rectus [1720]': [np.float64(-0.17914912624429966),\n",
       "  np.float64(5.021504008605711)],\n",
       " 'Campylobacter concisus [1722]': [np.float64(-0.22216344896969573),\n",
       "  np.float64(5.976493585230179)],\n",
       " 'Campylobacter gracilis [1724]': [np.float64(-0.1806696343142656),\n",
       "  np.float64(4.442616769014065)],\n",
       " 'Pseudomonas putida [222]': [np.float64(-0.15748206160289385),\n",
       "  np.float64(4.075540115555681)],\n",
       " 'Pseudomonas aeruginosa [236]': [np.float64(-0.31019911954982193),\n",
       "  np.float64(6.668073612261391)],\n",
       " 'Aggregatibacter aphrophilus [319]': [np.float64(-2.458745573218957),\n",
       "  np.float64(4.256999400607932)],\n",
       " 'Aggregatibacter segnis [320]': [np.float64(-2.7505080203876897),\n",
       "  np.float64(3.4097554389106115)],\n",
       " 'Haemophilus influenzae [323]': [np.float64(-1.2722141694559874),\n",
       "  np.float64(4.901189475825891)],\n",
       " 'Haemophilus haemolyticus [324]': [np.float64(-2.3739423688163783),\n",
       "  np.float64(4.676266703764058)],\n",
       " 'Haemophilus haemolyticus [325]': [np.float64(-2.582466753862095),\n",
       "  np.float64(3.9573634895479723)],\n",
       " 'Haemophilus parainfluenzae [326]': [np.float64(-3.2162912677280517),\n",
       "  np.float64(5.530241072651877)],\n",
       " 'Haemophilus pittmaniae [327]': [np.float64(-0.923743497677743),\n",
       "  np.float64(5.957893213479451)],\n",
       " 'unnamed Enterobacteriaceae bacterium 9_2_54FAA [374]': [np.float64(-1.1672829988294182),\n",
       "  np.float64(6.9493417207108)],\n",
       " 'Enterobacter hormaechei/cloacae [384]': [np.float64(-0.9067648538173234),\n",
       "  np.float64(8.845918835003534)],\n",
       " 'Enterobacter cloacae [385]': [np.float64(-2.3851892593011517),\n",
       "  np.float64(5.052185860996007)],\n",
       " 'Enterobacter cloacae [386]': [np.float64(-0.8659103829062811),\n",
       "  np.float64(7.3409360049434556)],\n",
       " 'Enterobacter cancerogenus [387]': [np.float64(-0.7053191961105445),\n",
       "  np.float64(4.481687905435827)],\n",
       " 'Enterobacter asburiae [388]': [np.float64(-0.7077245333893686),\n",
       "  np.float64(4.176013038366034)],\n",
       " 'Escherichia coli [390]': [np.float64(-6.493857488577403),\n",
       "  np.float64(6.068951681959154)],\n",
       " 'Escherichia albertii [391]': [np.float64(-0.5022017079009432),\n",
       "  np.float64(7.661437490102142)],\n",
       " 'unnamed Citrobacter sp. 30_2 [392]': [np.float64(-1.4869168516952747),\n",
       "  np.float64(8.596281150146567)],\n",
       " 'Citrobacter youngae [393]': [np.float64(-2.71176742407168),\n",
       "  np.float64(6.920740128226807)],\n",
       " 'Salmonella enterica [394]': [np.float64(-0.34680872314902145),\n",
       "  np.float64(6.238477597013768)],\n",
       " 'Citrobacter koseri [397]': [np.float64(-1.3886515096536458),\n",
       "  np.float64(5.10563147227536)],\n",
       " 'Klebsiella variicola/pneumoniae [399]': [np.float64(-1.1089714799127828),\n",
       "  np.float64(7.3598928554103775)],\n",
       " 'Enterobacter aerogenes [400]': [np.float64(-2.420166936309363),\n",
       "  np.float64(6.769688836890431)],\n",
       " 'Klebsiella oxytoca [401]': [np.float64(-2.6193853042867112),\n",
       "  np.float64(9.80315307392509)],\n",
       " 'Succinatimonas hippei [425]': [np.float64(-0.23764347316523227),\n",
       "  np.float64(7.7205299449922125)],\n",
       " 'Neisseria sicca/macacae [437]': [np.float64(-1.3340657703524574),\n",
       "  np.float64(4.556870090726753)],\n",
       " 'unnamed Neisseria sp. oral taxon 014 [439]': [np.float64(-1.733410129987464),\n",
       "  np.float64(4.964877933279941)],\n",
       " 'Neisseria meningitidis [442]': [np.float64(-0.5239550159523712),\n",
       "  np.float64(4.093276352975486)],\n",
       " 'Eikenella corrodens [448]': [np.float64(-1.7943679206086578),\n",
       "  np.float64(3.51182479454015)],\n",
       " 'Parasutterella excrementihominis [468]': [np.float64(-4.140044949019501),\n",
       "  np.float64(4.5552565629562)],\n",
       " 'Sutterella wadsworthensis [469]': [np.float64(-1.9643172469261772),\n",
       "  np.float64(7.030507465500306)],\n",
       " 'Desulfovibrio piger [751]': [np.float64(-3.58727074227948),\n",
       "  np.float64(8.799856763083096)],\n",
       " 'unnamed Desulfovibrio sp. 3_1_syn3 [752]': [np.float64(-0.43301408813181175),\n",
       "  np.float64(8.470955095271563)],\n",
       " 'Bilophila wadsworthia [756]': [np.float64(-5.764247071179198),\n",
       "  np.float64(5.167851983232161)],\n",
       " 'Atopobium parvulum [808]': [np.float64(-0.8297274198132799),\n",
       "  np.float64(3.846280736344067)],\n",
       " 'Atopobium rimae [809]': [np.float64(-0.9550809713036502),\n",
       "  np.float64(4.328591888907446)],\n",
       " 'Collinsella stercoris [812]': [np.float64(-1.2075037263236537),\n",
       "  np.float64(5.3722123666041295)],\n",
       " 'Collinsella intestinalis [813]': [np.float64(-1.2046801643443978),\n",
       "  np.float64(7.613795210201747)],\n",
       " 'Collinsella aerofaciens [814]': [np.float64(-5.769906419230912),\n",
       "  np.float64(5.69403978037738)],\n",
       " 'Olsenella uli [816]': [np.float64(-1.2340543446478167),\n",
       "  np.float64(3.6384820375122255)],\n",
       " 'Eggerthella lenta [817]': [np.float64(-4.572098933076102),\n",
       "  np.float64(4.621521376753529)],\n",
       " 'unnamed Eggerthella sp. YY7918 [818]': [np.float64(-0.8092895649677219),\n",
       "  np.float64(3.5405779318822854)],\n",
       " 'Slackia exigua [820]': [np.float64(-1.0681885371090682),\n",
       "  np.float64(5.673439781056457)],\n",
       " 'Cryptobacterium curtum [821]': [np.float64(-0.3877960493078471),\n",
       "  np.float64(3.398126923446682)],\n",
       " 'Propionibacterium acnes [823]': [np.float64(-0.71010344923564),\n",
       "  np.float64(4.266558304022164)],\n",
       " 'Propionibacterium freudenreichii [825]': [np.float64(-1.0109800603236045),\n",
       "  np.float64(7.6482889569051045)],\n",
       " 'Corynebacterium variabile [829]': [np.float64(-0.21183235487374108),\n",
       "  np.float64(6.53569478771584)],\n",
       " 'Actinomyces odontolyticus [878]': [np.float64(-3.6949226088700624),\n",
       "  np.float64(3.5176476402304337)],\n",
       " 'unnamed Actinomyces sp. oral taxon 180 [879]': [np.float64(-1.3880083204522085),\n",
       "  np.float64(3.0613842488028813)],\n",
       " 'Actinomyces viscosus [880]': [np.float64(-2.9167811996437023),\n",
       "  np.float64(3.8439951792221487)],\n",
       " 'unnamed Actinomyces sp. oral taxon 170 [881]': [np.float64(-1.7255725858997422),\n",
       "  np.float64(3.424308250150099)],\n",
       " 'unnamed Actinomyces sp. oral taxon 448 [883]': [np.float64(-1.6994963315933487),\n",
       "  np.float64(3.4993677725805346)],\n",
       " 'unnamed Actinomyces sp. oral taxon 848 [897]': [np.float64(-0.5439186632403853),\n",
       "  np.float64(3.043168329256305)],\n",
       " 'Methanobrevibacter smithii [92]': [np.float64(-5.352410609506727),\n",
       "  np.float64(6.655255845381465)],\n",
       " 'Methanosphaera stadtmanae [94]': [np.float64(-0.7746930122629636),\n",
       "  np.float64(8.084583121096474)],\n",
       " 'Brevibacterium linens [949]': [np.float64(-0.1316179243268648),\n",
       "  np.float64(6.116305909038035)],\n",
       " 'Rothia mucilaginosa [955]': [np.float64(-2.469722230157878),\n",
       "  np.float64(4.1663369896354725)],\n",
       " 'Rothia dentocariosa [956]': [np.float64(-1.1129755263145005),\n",
       "  np.float64(3.902198056620789)],\n",
       " 'Micrococcus luteus [961]': [np.float64(-1.6243775439857107),\n",
       "  np.float64(5.379598233930186)],\n",
       " 'Bifidobacterium animalis [967]': [np.float64(-1.6025724525801184),\n",
       "  np.float64(9.145442023190926)],\n",
       " 'Bifidobacterium bifidum [968]': [np.float64(-3.153676657626612),\n",
       "  np.float64(7.915975552689051)],\n",
       " 'Bifidobacterium breve [969]': [np.float64(-1.4288099245569361),\n",
       "  np.float64(8.12666823525908)],\n",
       " 'Bifidobacterium longum [970]': [np.float64(-6.32191510756249),\n",
       "  np.float64(6.1699776681041705)],\n",
       " 'Bifidobacterium dentium [971]': [np.float64(-2.7292000590067347),\n",
       "  np.float64(5.276645535150915)],\n",
       " 'Bifidobacterium adolescentis [972]': [np.float64(-5.181201212002951),\n",
       "  np.float64(6.381847768682423)],\n",
       " 'Bifidobacterium catenulatum-Bifidobacterium pseudocatenulatum complex [973]': [np.float64(-4.566145232217578),\n",
       "  np.float64(6.616015158143908)],\n",
       " 'Bifidobacterium angulatum [974]': [np.float64(-2.0949483206658437),\n",
       "  np.float64(7.8786298870697955)],\n",
       " 'Parascardovia denticolens [976]': [np.float64(-0.584598631849923),\n",
       "  np.float64(4.769552965489364)],\n",
       " 'Scardovia inopinata [977]': [np.float64(-0.31181963488114894),\n",
       "  np.float64(3.192183707184184)]}"
      ]
     },
     "execution_count": 19,
     "metadata": {},
     "output_type": "execute_result"
    }
   ],
   "source": [
    "# Permitted ranges for each feature\n",
    "feature_ranges = zip(\n",
    "    dataset.columns[:-1].tolist(),\n",
    "    dataset.min().values[:-1],\n",
    "    dataset.max().values[:-1]\n",
    ")\n",
    "# create a dictionary of feature ranges\n",
    "feature_ranges_dict = {feature: [min_val, max_val] for feature, min_val, max_val in feature_ranges}\n",
    "feature_ranges_dict"
   ]
  },
  {
   "cell_type": "code",
   "execution_count": 20,
   "id": "cae95660",
   "metadata": {},
   "outputs": [
    {
     "name": "stderr",
     "output_type": "stream",
     "text": [
      "100%|██████████| 18/18 [00:12<00:00,  1.43it/s]\n"
     ]
    },
    {
     "name": "stdout",
     "output_type": "stream",
     "text": [
      "{'Alistipes shahii [1052]': 1.0, 'Parabacteroides distasonis [1088]': 1.0, 'Bacteroides xylanisolvens [1093]': 1.0, 'Bacteroides ovatus [1094]': 1.0, 'Bacteroides uniformis [1100]': 1.0, 'Bacteroides dorei/vulgatus [1104]': 1.0, 'Streptococcus australis [1420]': 1.0, 'Streptococcus parasanguinis [1421]': 1.0, 'Ruminococcus bromii [1569]': 1.0, 'Clostridium leptum [1573]': 1.0, 'Faecalibacterium prausnitzii [1574]': 1.0, 'Faecalibacterium prausnitzii [1575]': 1.0, 'Faecalibacterium prausnitzii [1576]': 1.0, 'Faecalibacterium prausnitzii [1577]': 1.0, 'Subdoligranulum variabile [1578]': 1.0, 'unnamed Ruminococcaceae bacterium D16 [1580]': 1.0, 'Dorea formicigenerans [1604]': 1.0, 'Dorea longicatena [1605]': 1.0, '[Ruminococcus] torques [1610]': 1.0, 'Coprococcus comes [1616]': 1.0, 'unnamed Ruminococcus sp. 5_1_39BFAA [1620]': 1.0, 'unnamed Ruminococcus sp. SR1/5 [1621]': 1.0, 'Eubacterium ventriosum [1629]': 1.0, 'Eubacterium rectale [1630]': 1.0, 'Roseburia inulinivorans [1632]': 1.0, 'Escherichia coli [390]': 1.0, 'unnamed Alistipes sp. HGB5 [1053]': 0.9944444444444445, 'Alistipes putredinis [1054]': 0.9944444444444445, 'Parabacteroides merdae [1089]': 0.9944444444444445, 'Bacteroides thetaiotaomicron [1092]': 0.9944444444444445, 'Pseudoflavonifractor capillosus [1579]': 0.9944444444444445, '[Ruminococcus] torques [1608]': 0.9944444444444445, 'Eggerthella lenta [817]': 0.9944444444444445, '[Ruminococcus] obeum [1618]': 0.9888888888888889, 'Bacteroides caccae [1096]': 0.9833333333333333, 'Streptococcus thermophilus [1375]': 0.9833333333333333, 'Eubacterium siraeum [1564]': 0.9833333333333333, 'Eubacterium eligens [1627]': 0.9833333333333333, 'Collinsella aerofaciens [814]': 0.9833333333333333, 'Methanobrevibacter smithii [92]': 0.9833333333333333, 'Bifidobacterium adolescentis [972]': 0.9833333333333333, 'Prevotella copri [1081]': 0.9777777777777777, 'Bacteroides fluxus [1101]': 0.9777777777777777, 'Bacteroides intestinalis [1103]': 0.9777777777777777, 'Streptococcus salivarius [1377]': 0.9777777777777777, 'butyrate-producing bacterium [1595]': 0.9777777777777777, 'Bacteroides finegoldii [1095]': 0.9722222222222222, 'Odoribacter splanchnicus [1115]': 0.9722222222222222, 'Streptococcus pneumoniae [1400]': 0.9722222222222222, '[Ruminococcus] obeum [1619]': 0.9722222222222222, 'Bifidobacterium longum [970]': 0.9722222222222222, 'Bifidobacterium catenulatum-Bifidobacterium pseudocatenulatum complex [973]': 0.9722222222222222, 'Akkermansia muciniphila [1008]': 0.9666666666666667, 'Eubacterium hallii [1597]': 0.9666666666666667, 'Bacteroides stercoris [1098]': 0.9611111111111111, '[Ruminococcus] gnavus [1611]': 0.9611111111111111, 'Clostridium bolteae [1598]': 0.9555555555555556, 'unnamed butyrate-producing bacterium SS3/4 [1603]': 0.9555555555555556, 'Roseburia intestinalis [1631]': 0.9555555555555556, 'Bacteroides eggerthii [1097]': 0.95, 'Streptococcus vestibularis [1376]': 0.95, 'Streptococcus infantis [1415]': 0.95, 'Coprococcus catus [1594]': 0.95, 'Streptococcus gordonii [1398]': 0.9444444444444444, 'unnamed Clostridium sp. HGF2 [1278]': 0.9333333333333333, 'Streptococcus mitis [1403]': 0.9333333333333333, 'Streptococcus sanguinis [1397]': 0.9277777777777778, 'Streptococcus mitis [1402]': 0.9277777777777778, 'Parasutterella excrementihominis [468]': 0.9277777777777778, 'Actinomyces odontolyticus [878]': 0.9277777777777778, 'Rothia mucilaginosa [955]': 0.9277777777777778, 'Anaerotruncus colihominis [1570]': 0.9222222222222223, 'Bilophila wadsworthia [756]': 0.9222222222222223, 'Bacteroides fragilis [1090]': 0.9111111111111111, 'Clostridium ramosum [1269]': 0.9055555555555556, 'Holdemania filiformis [1281]': 0.9, 'Streptococcus oralis [1410]': 0.9, 'unnamed Lachnospiraceae bacterium 3_1_57FAA_CT1 [1624]': 0.9, 'Veillonella parvula [1261]': 0.8944444444444445, 'Roseburia hominis [1633]': 0.8944444444444445, 'Gemella sanguinis [1301]': 0.8888888888888888, 'unnamed Streptococcus sp. C150 [1378]': 0.8722222222222222, 'Streptococcus mitis [1404]': 0.8722222222222222, 'Bacteroides clarus [1099]': 0.8666666666666667, 'unnamed Streptococcus sp. M334 [1405]': 0.8611111111111112, 'unnamed Clostridiales bacterium 1_7_47FAA [1599]': 0.8611111111111112, 'Granulicatella adiacens [1358]': 0.8555555555555555, 'unnamed Streptococcus sp. oral taxon 071 [1413]': 0.8444444444444444, 'Ruminococcus lactaris [1609]': 0.8444444444444444, 'Bifidobacterium dentium [971]': 0.8444444444444444, 'Streptococcus infantis [1416]': 0.8388888888888889, '[Clostridium] bartlettii [1533]': 0.8388888888888889, 'Streptococcus anginosus [1394]': 0.8333333333333334, 'Actinomyces viscosus [880]': 0.8333333333333334, 'Bifidobacterium bifidum [968]': 0.8277777777777777, 'Streptococcus cristatus [1396]': 0.8222222222222222, 'Oscillibacter valericigenes [1581]': 0.8222222222222222, 'Haemophilus parainfluenzae [326]': 0.8222222222222222, 'Streptococcus peroris [1419]': 0.8166666666666667, 'Streptococcus infantis [1417]': 0.8111111111111111, 'Butyrivibrio crossotus [1628]': 0.8111111111111111, 'Clostridium symbiosum [1600]': 0.8055555555555556, 'Bacteroides plebeius [1105]': 0.8, 'Lactococcus lactis [1369]': 0.8, 'unnamed Lachnospiraceae bacterium 1_4_56FAA [1612]': 0.8, 'unnamed Streptococcus sp. M143 [1407]': 0.7944444444444444, 'Veillonella atypica [1260]': 0.7833333333333333, 'Phascolarctobacterium succinatutens [1659]': 0.7777777777777778, 'Bifidobacterium angulatum [974]': 0.7777777777777778, 'Leuconostoc mesenteroides [1430]': 0.7666666666666667, 'Streptococcus oralis [1411]': 0.7611111111111111, 'Streptococcus mitis [1406]': 0.7555555555555555, 'Coprococcus eutactus [1592]': 0.75, 'unnamed Clostridium sp. L2-50 [1593]': 0.7444444444444445, 'Streptococcus mitis [1408]': 0.7333333333333333, 'Desulfovibrio piger [751]': 0.7333333333333333, 'Parvimonas micra [1505]': 0.7222222222222222, 'Streptococcus anginosus [1393]': 0.7111111111111111, 'Streptococcus constellatus [1395]': 0.7111111111111111, 'Veillonella dispar [1262]': 0.7055555555555556, 'Clostridium spiroforme [1270]': 0.7055555555555556, 'unnamed Capnocytophaga sp. oral taxon 329 [1086]': 0.6888888888888889, 'Paraprevotella xylaniphila [1087]': 0.6833333333333333, 'Bacteroides coprocola [1107]': 0.6833333333333333, 'Clostridium saccharolyticum [1601]': 0.6833333333333333, 'unnamed Veillonella sp. oral taxon 158 [1263]': 0.6777777777777778, 'Enterococcus faecalis [1363]': 0.6777777777777778, 'unnamed Actinomyces sp. oral taxon 170 [881]': 0.6777777777777778, 'Eubacterium biforme [1275]': 0.6722222222222223, 'Collinsella stercoris [812]': 0.6722222222222223, 'Streptococcus infantis [1418]': 0.6611111111111111, 'Clostridium scindens [1606]': 0.6611111111111111, 'Streptococcus mutans [1373]': 0.6555555555555556, 'Streptococcus mitis [1414]': 0.6555555555555556, 'Streptococcus sanguinis [1412]': 0.65, 'unnamed Actinomyces sp. oral taxon 448 [883]': 0.65, 'Eubacterium cylindroides [1276]': 0.6444444444444445, 'Dialister invisus [1259]': 0.6333333333333333, 'Haemophilus influenzae [323]': 0.6333333333333333, 'unnamed Actinomyces sp. oral taxon 180 [879]': 0.6333333333333333, 'Enterococcus faecium [1364]': 0.6277777777777778, 'Peptostreptococcus stomatis [1530]': 0.6277777777777778, 'Olsenella uli [816]': 0.6277777777777778, 'Solobacterium moorei [1273]': 0.6222222222222222, 'Lactococcus lactis [1370]': 0.6222222222222222, 'Anaerostipes caccae [1596]': 0.6222222222222222, 'Haemophilus haemolyticus [324]': 0.6222222222222222, 'Lactobacillus casei [1452]': 0.6055555555555555, 'Streptococcus mitis [1409]': 0.5944444444444444, 'Clostridium methylpentosum [1572]': 0.5944444444444444, 'Streptococcus pseudopneumoniae [1401]': 0.5833333333333334, 'unnamed Eggerthella sp. YY7918 [818]': 0.5833333333333334, 'Collinsella intestinalis [813]': 0.5666666666666667, 'unnamed Streptococcus sp. oral taxon 056 [1399]': 0.5611111111111111, 'Bifidobacterium animalis [967]': 0.5611111111111111, 'Gemella morbillorum [1302]': 0.5555555555555556, 'Slackia exigua [820]': 0.55, 'Streptococcus downei [1372]': 0.5444444444444444, 'Streptococcus gallolyticus [1379]': 0.5444444444444444, 'unnamed Clostridium sp. D5 [1613]': 0.5388888888888889, 'Rothia dentocariosa [956]': 0.5333333333333333, 'Bifidobacterium breve [969]': 0.5333333333333333, 'Bacteroides salanitronis [1108]': 0.5277777777777778, 'unnamed Coprobacillus sp. 29_1 [1271]': 0.5277777777777778, 'Bulleidia extructa [1272]': 0.5277777777777778, 'Lactobacillus delbrueckii [1438]': 0.5222222222222223, 'Eubacterium limosum [1582]': 0.5222222222222223, 'Bacteroides coprophilus [1106]': 0.5111111111111111, 'Gemella haemolysans [1300]': 0.5111111111111111, 'Sutterella wadsworthensis [469]': 0.5111111111111111, 'Ruminococcus champanellensis [1568]': 0.48333333333333334, 'Haemophilus pittmaniae [327]': 0.4777777777777778, 'Prevotella denticola [1072]': 0.4722222222222222, 'Klebsiella variicola/pneumoniae [399]': 0.4722222222222222, 'Prevotella dentalis [1067]': 0.4666666666666667, 'Blautia hydrogenotrophica [1622]': 0.4666666666666667, 'Atopobium rimae [809]': 0.45555555555555555, 'Anaerococcus vaginalis [1498]': 0.45, 'Mitsuokella multacida [1653]': 0.45, 'Propionibacterium acnes [823]': 0.4388888888888889, 'Prevotella multiformis [1073]': 0.42777777777777776, 'Acidaminococcus intestini [1657]': 0.42777777777777776, 'Lactobacillus gasseri [1443]': 0.40555555555555556, 'Lactobacillus sakei [1464]': 0.40555555555555556, 'unnamed Parvimonas sp. oral taxon 393 [1507]': 0.40555555555555556, 'unclassified Fusobacterium [1481]': 0.4, 'Megasphaera elsdenii [1267]': 0.3888888888888889, 'Gemella haemolysans [1299]': 0.3888888888888889, 'Atopobium parvulum [808]': 0.37777777777777777, 'Eubacterium dolichum [1280]': 0.37222222222222223, 'Klebsiella oxytoca [401]': 0.37222222222222223, 'Oribacterium sinus [1585]': 0.36666666666666664, 'Clostridium perfringens [1541]': 0.35555555555555557, 'Aggregatibacter segnis [320]': 0.35555555555555557, 'unnamed Enterobacteriaceae bacterium 9_2_54FAA [374]': 0.35555555555555557, 'Propionibacterium freudenreichii [825]': 0.35555555555555557, 'Lactobacillus fermentum [1454]': 0.35, 'Parascardovia denticolens [976]': 0.35, 'Lactobacillus salivarius [1467]': 0.34444444444444444, 'Enterobacter cloacae [386]': 0.34444444444444444, 'Victivallis vadensis [1000]': 0.3388888888888889, 'Lactobacillus rhamnosus [1453]': 0.3388888888888889, 'Bacteroides fragilis [1091]': 0.3333333333333333, 'unnamed Parvimonas sp. oral taxon 110 [1506]': 0.3333333333333333, 'Acidaminococcus fermentans [1658]': 0.3333333333333333, 'Haemophilus haemolyticus [325]': 0.3333333333333333, 'unnamed Citrobacter sp. 30_2 [392]': 0.3277777777777778, 'Porphyromonas uenonis [1057]': 0.31666666666666665, 'unclassified Fusobacterium [1482]': 0.31666666666666665, 'Citrobacter youngae [393]': 0.31666666666666665, 'Lactobacillus reuteri [1457]': 0.3111111111111111, 'Prevotella bivia [1076]': 0.3055555555555556, 'unnamed Desulfovibrio sp. 3_1_syn3 [752]': 0.3055555555555556, 'Streptococcus infantarius [1380]': 0.3, 'Blautia hansenii [1617]': 0.3, '[Bacteroides] pectinophilus [1626]': 0.29444444444444445, 'Granulicatella elegans [1357]': 0.28888888888888886, 'unclassified Lachnospiraceae [1614]': 0.28888888888888886, 'Methanosphaera stadtmanae [94]': 0.28888888888888886, 'Turicibacter sanguinis [1297]': 0.2833333333333333, 'Catonella morbi [1422]': 0.2833333333333333, 'Lactobacillus vaginalis [1458]': 0.2833333333333333, 'Salmonella enterica [394]': 0.2833333333333333, 'Cryptobacterium curtum [821]': 0.2833333333333333, 'Megasphaera micronuciformis [1268]': 0.2722222222222222, 'Streptococcus equinus [1381]': 0.2722222222222222, 'Fusobacterium periodonticum [1478]': 0.2722222222222222, 'Fusobacterium nucleatum [1480]': 0.2611111111111111, 'Clostridium botulinum [1542]': 0.2611111111111111, 'Eubacterium saphenum [1563]': 0.2611111111111111, 'Enterobacter aerogenes [400]': 0.2611111111111111, 'Prevotella buccae [1065]': 0.25, 'unnamed Erysipelotrichaceae bacterium 5_2_54FAA [1279]': 0.25, 'Clostridium perfringens [1540]': 0.25, 'Porphyromonas asaccharolytica [1056]': 0.24444444444444444, 'Prevotella nigrescens [1069]': 0.24444444444444444, 'Micrococcus luteus [961]': 0.24444444444444444, 'Lactobacillus ruminis [1466]': 0.23333333333333334, 'Finegoldia magna [1503]': 0.23333333333333334, 'unnamed Erysipelotrichaceae bacterium 3_1_53 [1277]': 0.22777777777777777, 'Clostridium hylemonae [1607]': 0.22777777777777777, 'Enterobacter hormaechei/cloacae [384]': 0.22777777777777777, 'unnamed Actinomyces sp. oral taxon 848 [897]': 0.22777777777777777, 'unnamed Fusobacterium sp. D12 [1477]': 0.2111111111111111, 'Aggregatibacter aphrophilus [319]': 0.2111111111111111, 'Lactobacillus plantarum [1472]': 0.20555555555555555, 'Selenomonas sputigena [1654]': 0.20555555555555555, 'Leuconostoc citreum [1431]': 0.2, 'Neisseria sicca/macacae [437]': 0.19444444444444445, 'Prevotella buccalis [1059]': 0.18888888888888888, 'Weissella cibaria [1428]': 0.18888888888888888, 'Pediococcus pentosaceus [1470]': 0.18888888888888888, 'Finegoldia magna [1504]': 0.18333333333333332, 'Lactobacillus oris [1455]': 0.17222222222222222, 'Enterobacter asburiae [388]': 0.17222222222222222, 'Citrobacter koseri [397]': 0.17222222222222222, 'Streptococcus agalactiae [1388]': 0.16666666666666666, 'Anaerofustis stercorihominis [1557]': 0.16666666666666666, 'Scardovia inopinata [977]': 0.16666666666666666, 'Fusobacterium nucleatum [1479]': 0.16111111111111112, 'Pyramidobacter piscolens [1641]': 0.16111111111111112, 'Pseudomonas putida [222]': 0.16111111111111112, 'Peptoniphilus harei [1493]': 0.15, 'Enterobacter cloacae [385]': 0.15, 'Staphylococcus aureus [1305]': 0.1388888888888889, 'Lactobacillus crispatus [1444]': 0.13333333333333333, 'Fusobacterium mortiferum [1485]': 0.13333333333333333, 'Lactobacillus johnsonii [1442]': 0.12777777777777777, 'Corynebacterium variabile [829]': 0.12777777777777777, 'Prevotella tannerae [1112]': 0.1111111111111111, 'Leuconostoc gelidum [1435]': 0.1111111111111111, 'Peptoniphilus lacrimalis [1492]': 0.1111111111111111, '[Clostridium] difficile [1532]': 0.1111111111111111, 'Pseudoramibacter alactolyticus [1584]': 0.1111111111111111, 'Pseudomonas aeruginosa [236]': 0.1111111111111111, 'Enterobacter cancerogenus [387]': 0.1111111111111111, 'unnamed Neisseria sp. oral taxon 014 [439]': 0.1111111111111111, 'Lactococcus garvieae [1368]': 0.10555555555555556, 'unnamed Clostridium sp. 7_2_43FAA [1545]': 0.10555555555555556, 'Neisseria meningitidis [442]': 0.10555555555555556, 'Pediococcus acidilactici [1469]': 0.1, 'Peptostreptococcus anaerobius [1531]': 0.08888888888888889, 'Escherichia albertii [391]': 0.08333333333333333, 'Fusobacterium gonidiaformans [1476]': 0.07222222222222222, 'Anaerococcus hydrogenalis [1497]': 0.07222222222222222, 'Lactobacillus brevis [1473]': 0.06666666666666667, 'Brevibacterium linens [949]': 0.06666666666666667, 'Enterococcus gallinarum [1362]': 0.06111111111111111, 'Enterococcus casseliflavus [1361]': 0.05555555555555555, 'Clostridium butyricum [1543]': 0.05555555555555555, 'Campylobacter concisus [1722]': 0.05555555555555555, 'Succinatimonas hippei [425]': 0.05555555555555555, 'Eikenella corrodens [448]': 0.05, 'Campylobacter hominis [1719]': 0.027777777777777776, 'Leptotrichia hofstadii [1488]': 0.011111111111111112, 'Campylobacter rectus [1720]': 0.011111111111111112, 'Prevotella disiens [1071]': 0.005555555555555556, 'Leuconostoc gasicomitatum [1434]': 0.005555555555555556, 'Campylobacter gracilis [1724]': 0.005555555555555556}\n"
     ]
    }
   ],
   "source": [
    "imp = exp.global_feature_importance(queries)\n",
    "print(imp.summary_importance)"
   ]
  },
  {
   "cell_type": "code",
   "execution_count": null,
   "id": "61d40a53",
   "metadata": {},
   "outputs": [],
   "source": []
  }
 ],
 "metadata": {
  "kernelspec": {
   "display_name": ".venv",
   "language": "python",
   "name": "python3"
  },
  "language_info": {
   "codemirror_mode": {
    "name": "ipython",
    "version": 3
   },
   "file_extension": ".py",
   "mimetype": "text/x-python",
   "name": "python",
   "nbconvert_exporter": "python",
   "pygments_lexer": "ipython3",
   "version": "3.13.1"
  }
 },
 "nbformat": 4,
 "nbformat_minor": 5
}
